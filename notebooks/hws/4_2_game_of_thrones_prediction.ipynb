{
  "cells": [
    {
      "cell_type": "markdown",
      "metadata": {
        "id": "pgFYFftQKxY5"
      },
      "source": [
        "# Домашнее задание. Библиотека sklearn и классификация с помощью KNN"
      ]
    },
    {
      "cell_type": "markdown",
      "metadata": {
        "id": "cgiYn3hkWAAA"
      },
      "source": [
        "## Описание домашнего задания"
      ]
    },
    {
      "cell_type": "markdown",
      "metadata": {
        "id": "IZE9r4BEQb6E"
      },
      "source": [
        "В данном задании вы будете работать с датасетом о персонажах из вселенной Игры Престолов [A Wiki of Ice and Fire](http://awoiaf.westeros.org/). Вам предстоит предсказать, кто из персонажей умрет, а кто останется вживых.\n",
        "\n"
      ]
    },
    {
      "cell_type": "markdown",
      "metadata": {
        "id": "CMY39BOZwoL0"
      },
      "source": [
        "Описание данных:\n",
        "\n",
        "* **name**: Имя персонажа\n",
        "\n",
        "* **Title**: Социальный статус или знатность\n",
        "\n",
        "* **House**: Дом, к которому принадлежит персонаж\n",
        "\n",
        "* **Culture**: Социальная группа, к которой принадлежит персонаж\n",
        "\n",
        "* **book1/2/3/4/5**: Появление персонажа в книге\n",
        "\n",
        "* **Is noble**: Знатность персонажа, основанное на титуле\n",
        "\n",
        "* **Age**: Отсчет времени: 305 AC\n",
        "\n",
        "* **male**: Мужчина или женщина\n",
        "\n",
        "* **dateOfBirth**: дата рождения\n",
        "\n",
        "* **DateoFdeath**: дата смерти\n",
        "\n",
        "* **Spouse**: Имя супруги\\а персонажа\n",
        "\n",
        "* **Father**: Имя отца персонажа\n",
        "\n",
        "* **Mother**: Имя матери персонажа\n",
        "\n",
        "* **Heir**: Имя наследника персонажа\n",
        "\n",
        "* **Is married**: Represents whether the character is married\n",
        "\n",
        "* **Is spouse alive**: Represents whether character's spouse is alive\n",
        "\n",
        "* **Is mother alive:** Жива ли мать персонажа\n",
        "\n",
        "* **Is heir alive:** Жив ли наследник персонажа\n",
        "\n",
        "* **Is father alive:** Указывает, жив ли отец персонажа\n",
        "\n",
        "* **Number dead relations:** Количество умерших персонажей, с которыми персонаж связан\n",
        "\n",
        "* **Popularity score:** Количество внутренних входящих и исходящих ссылок на страницу персонажей в вики http://awoiaf.westeros.org\n",
        "\n",
        "Целевая переменная:\n",
        "* **isAlive**: жив ли персонаж в книге"
      ]
    },
    {
      "cell_type": "markdown",
      "metadata": {
        "id": "jGHHzuxLbaQ5"
      },
      "source": [
        "Оценивание:\n",
        "\n",
        "Баллы считаются следующим образом:\n",
        "\n",
        "1) $1.00 \\geqslant score \\geqslant 0.84$ --- 5 баллов\n",
        "\n",
        "2) $0.84 > score \\geqslant 0.77$ --- 4 балла\n",
        "\n",
        "3) $0.77 > score \\geqslant 0.70$ --- 3 балла\n",
        "\n",
        "4) $0.70 > score \\geqslant 0.65$ --- 2 балла\n",
        "\n",
        "5) $0.65 > score \\geqslant 0.6$ --- 1 балл\n",
        "\n",
        "6) $0.60 > score$ --- 0 баллов"
      ]
    },
    {
      "cell_type": "markdown",
      "metadata": {
        "id": "U75ajNjcWHCN"
      },
      "source": [
        "## Часть 1. Анализ и предобработка данных"
      ]
    },
    {
      "cell_type": "markdown",
      "metadata": {
        "id": "Uv-Z_6a9Ww4O"
      },
      "source": [
        "Здесь вам необходимо сделать все шаги, которые обсуждались в первой части семинара.\n",
        "* Предобработка данных\n",
        "  * Обработка пропущенных данных\n",
        "  * Создание новых признаков\n",
        "  * Удаление ненужных столбцов\n",
        "* Анализ данных\n",
        "  * Анализ целевой переменной\n",
        "  * Анализ признаков\n",
        "  * Анализ влияния признаков на целевую переменную\n",
        "* Подготовка данных для обучения модели"
      ]
    },
    {
      "cell_type": "markdown",
      "metadata": {
        "id": "VVY44eemxqAT"
      },
      "source": [
        "Загружаем датасет"
      ]
    },
    {
      "cell_type": "code",
      "execution_count": 8,
      "metadata": {
        "id": "ajMi-8vUxsog"
      },
      "outputs": [],
      "source": [
        "# !gdown 1ANEFC_GKeJm4GCx1Xd202gkAgqK2Bm4S # test dataset\n",
        "# !gdown 1oSX7B5YhS6vQseTsQZYryu44HxSq6ZWV # train dataset"
      ]
    },
    {
      "cell_type": "markdown",
      "metadata": {
        "id": "ON8TMTBTWa_E"
      },
      "source": [
        "### **Задание 1.1.** Импортируйте библиотеки pandas, matplotlib, seaborn"
      ]
    },
    {
      "cell_type": "code",
      "execution_count": 9,
      "metadata": {
        "id": "QO08nAt6mO7E"
      },
      "outputs": [],
      "source": [
        "import pathlib\n",
        "import shelve\n",
        "\n",
        "import numpy as np\n",
        "import pandas as pd\n",
        "import seaborn as sns\n",
        "from matplotlib import pyplot as plt\n",
        "from numpy.typing import ArrayLike, NDArray\n",
        "from sklearn.compose import ColumnTransformer\n",
        "from sklearn.preprocessing import OneHotEncoder"
      ]
    },
    {
      "cell_type": "code",
      "execution_count": 10,
      "metadata": {},
      "outputs": [],
      "source": [
        "MODELS_DIR = pathlib.Path(\"models\")\n",
        "MODELS_DIR.mkdir(exist_ok=True)\n",
        "assert MODELS_DIR.exists(), \"could not create models directory\""
      ]
    },
    {
      "cell_type": "markdown",
      "metadata": {
        "id": "M-1ZcYjohU4W"
      },
      "source": [
        "### **Задание 1.2.** Загрузите датасет в Pandas DataFrame при помощи функции `read_csv`.\n",
        "\n",
        "Вместо дефолтных наименований строк `0,1,...`, при помощи параметра `index_col`, сделайте значения колонки `S.No` наименованиями строк:"
      ]
    },
    {
      "cell_type": "code",
      "execution_count": 11,
      "metadata": {},
      "outputs": [],
      "source": [
        "DATA_PATH = \"https://raw.githubusercontent.com/relicks/dls-2024-1/refs/heads/main/data/hw_4_2/\""
      ]
    },
    {
      "cell_type": "code",
      "execution_count": 12,
      "metadata": {
        "id": "v0HRU0trQLmS"
      },
      "outputs": [],
      "source": [
        "data = pd.read_csv(DATA_PATH + \"game_of_thrones_train.csv\", index_col=\"S.No\")"
      ]
    },
    {
      "cell_type": "code",
      "execution_count": 13,
      "metadata": {},
      "outputs": [
        {
          "data": {
            "text/html": [
              "<div>\n",
              "<style scoped>\n",
              "    .dataframe tbody tr th:only-of-type {\n",
              "        vertical-align: middle;\n",
              "    }\n",
              "\n",
              "    .dataframe tbody tr th {\n",
              "        vertical-align: top;\n",
              "    }\n",
              "\n",
              "    .dataframe thead th {\n",
              "        text-align: right;\n",
              "    }\n",
              "</style>\n",
              "<table border=\"1\" class=\"dataframe\">\n",
              "  <thead>\n",
              "    <tr style=\"text-align: right;\">\n",
              "      <th></th>\n",
              "      <th>name</th>\n",
              "      <th>title</th>\n",
              "      <th>male</th>\n",
              "      <th>culture</th>\n",
              "      <th>dateOfBirth</th>\n",
              "      <th>DateoFdeath</th>\n",
              "      <th>mother</th>\n",
              "      <th>father</th>\n",
              "      <th>heir</th>\n",
              "      <th>house</th>\n",
              "      <th>...</th>\n",
              "      <th>isAliveMother</th>\n",
              "      <th>isAliveFather</th>\n",
              "      <th>isAliveHeir</th>\n",
              "      <th>isAliveSpouse</th>\n",
              "      <th>isMarried</th>\n",
              "      <th>isNoble</th>\n",
              "      <th>age</th>\n",
              "      <th>numDeadRelations</th>\n",
              "      <th>popularity</th>\n",
              "      <th>isAlive</th>\n",
              "    </tr>\n",
              "    <tr>\n",
              "      <th>S.No</th>\n",
              "      <th></th>\n",
              "      <th></th>\n",
              "      <th></th>\n",
              "      <th></th>\n",
              "      <th></th>\n",
              "      <th></th>\n",
              "      <th></th>\n",
              "      <th></th>\n",
              "      <th></th>\n",
              "      <th></th>\n",
              "      <th></th>\n",
              "      <th></th>\n",
              "      <th></th>\n",
              "      <th></th>\n",
              "      <th></th>\n",
              "      <th></th>\n",
              "      <th></th>\n",
              "      <th></th>\n",
              "      <th></th>\n",
              "      <th></th>\n",
              "      <th></th>\n",
              "    </tr>\n",
              "  </thead>\n",
              "  <tbody>\n",
              "    <tr>\n",
              "      <th>1</th>\n",
              "      <td>Viserys II Targaryen</td>\n",
              "      <td>NaN</td>\n",
              "      <td>1</td>\n",
              "      <td>NaN</td>\n",
              "      <td>NaN</td>\n",
              "      <td>NaN</td>\n",
              "      <td>Rhaenyra Targaryen</td>\n",
              "      <td>Daemon Targaryen</td>\n",
              "      <td>Aegon IV Targaryen</td>\n",
              "      <td>NaN</td>\n",
              "      <td>...</td>\n",
              "      <td>1.0</td>\n",
              "      <td>0.0</td>\n",
              "      <td>0.0</td>\n",
              "      <td>NaN</td>\n",
              "      <td>0</td>\n",
              "      <td>0</td>\n",
              "      <td>NaN</td>\n",
              "      <td>11</td>\n",
              "      <td>0.605351</td>\n",
              "      <td>0</td>\n",
              "    </tr>\n",
              "    <tr>\n",
              "      <th>2</th>\n",
              "      <td>Walder Frey</td>\n",
              "      <td>Lord of the Crossing</td>\n",
              "      <td>1</td>\n",
              "      <td>Rivermen</td>\n",
              "      <td>208.0</td>\n",
              "      <td>NaN</td>\n",
              "      <td>NaN</td>\n",
              "      <td>NaN</td>\n",
              "      <td>NaN</td>\n",
              "      <td>House Frey</td>\n",
              "      <td>...</td>\n",
              "      <td>NaN</td>\n",
              "      <td>NaN</td>\n",
              "      <td>NaN</td>\n",
              "      <td>1.0</td>\n",
              "      <td>1</td>\n",
              "      <td>1</td>\n",
              "      <td>97.0</td>\n",
              "      <td>1</td>\n",
              "      <td>0.896321</td>\n",
              "      <td>1</td>\n",
              "    </tr>\n",
              "    <tr>\n",
              "      <th>3</th>\n",
              "      <td>Addison Hill</td>\n",
              "      <td>Ser</td>\n",
              "      <td>1</td>\n",
              "      <td>NaN</td>\n",
              "      <td>NaN</td>\n",
              "      <td>NaN</td>\n",
              "      <td>NaN</td>\n",
              "      <td>NaN</td>\n",
              "      <td>NaN</td>\n",
              "      <td>House Swyft</td>\n",
              "      <td>...</td>\n",
              "      <td>NaN</td>\n",
              "      <td>NaN</td>\n",
              "      <td>NaN</td>\n",
              "      <td>NaN</td>\n",
              "      <td>0</td>\n",
              "      <td>1</td>\n",
              "      <td>NaN</td>\n",
              "      <td>0</td>\n",
              "      <td>0.267559</td>\n",
              "      <td>1</td>\n",
              "    </tr>\n",
              "  </tbody>\n",
              "</table>\n",
              "<p>3 rows × 26 columns</p>\n",
              "</div>"
            ],
            "text/plain": [
              "                      name                 title  male   culture  dateOfBirth  \\\n",
              "S.No                                                                            \n",
              "1     Viserys II Targaryen                   NaN     1       NaN          NaN   \n",
              "2              Walder Frey  Lord of the Crossing     1  Rivermen        208.0   \n",
              "3             Addison Hill                   Ser     1       NaN          NaN   \n",
              "\n",
              "      DateoFdeath              mother            father                heir  \\\n",
              "S.No                                                                          \n",
              "1             NaN  Rhaenyra Targaryen  Daemon Targaryen  Aegon IV Targaryen   \n",
              "2             NaN                 NaN               NaN                 NaN   \n",
              "3             NaN                 NaN               NaN                 NaN   \n",
              "\n",
              "            house  ... isAliveMother  isAliveFather  isAliveHeir  \\\n",
              "S.No               ...                                             \n",
              "1             NaN  ...           1.0            0.0          0.0   \n",
              "2      House Frey  ...           NaN            NaN          NaN   \n",
              "3     House Swyft  ...           NaN            NaN          NaN   \n",
              "\n",
              "      isAliveSpouse  isMarried  isNoble   age  numDeadRelations  popularity  \\\n",
              "S.No                                                                          \n",
              "1               NaN          0        0   NaN                11    0.605351   \n",
              "2               1.0          1        1  97.0                 1    0.896321   \n",
              "3               NaN          0        1   NaN                 0    0.267559   \n",
              "\n",
              "      isAlive  \n",
              "S.No           \n",
              "1           0  \n",
              "2           1  \n",
              "3           1  \n",
              "\n",
              "[3 rows x 26 columns]"
            ]
          },
          "execution_count": 13,
          "metadata": {},
          "output_type": "execute_result"
        }
      ],
      "source": [
        "data.head(3)"
      ]
    },
    {
      "cell_type": "markdown",
      "metadata": {
        "id": "R_LA4J4fjBdY"
      },
      "source": [
        "### **Задание 1.3.** Предобработка (очистка) данных.\n",
        "\n",
        "Проанализируйте, если в колонках NaN значения. Если есть, примите решение, как вы их будете обрабатывать. Вы можете либо удалить их, либо заполнить каким нибудь значением (например, медианой или модой)."
      ]
    },
    {
      "cell_type": "code",
      "execution_count": 14,
      "metadata": {},
      "outputs": [
        {
          "name": "stdout",
          "output_type": "stream",
          "text": [
            "<class 'pandas.core.frame.DataFrame'>\n",
            "Index: 1557 entries, 1 to 1557\n",
            "Data columns (total 26 columns):\n",
            " #   Column            Non-Null Count  Dtype  \n",
            "---  ------            --------------  -----  \n",
            " 0   name              1557 non-null   object \n",
            " 1   title             717 non-null    object \n",
            " 2   male              1557 non-null   int64  \n",
            " 3   culture           488 non-null    object \n",
            " 4   dateOfBirth       279 non-null    float64\n",
            " 5   DateoFdeath       307 non-null    float64\n",
            " 6   mother            18 non-null     object \n",
            " 7   father            22 non-null     object \n",
            " 8   heir              21 non-null     object \n",
            " 9   house             1176 non-null   object \n",
            " 10  spouse            200 non-null    object \n",
            " 11  book1             1557 non-null   int64  \n",
            " 12  book2             1557 non-null   int64  \n",
            " 13  book3             1557 non-null   int64  \n",
            " 14  book4             1557 non-null   int64  \n",
            " 15  book5             1557 non-null   int64  \n",
            " 16  isAliveMother     18 non-null     float64\n",
            " 17  isAliveFather     22 non-null     float64\n",
            " 18  isAliveHeir       21 non-null     float64\n",
            " 19  isAliveSpouse     200 non-null    float64\n",
            " 20  isMarried         1557 non-null   int64  \n",
            " 21  isNoble           1557 non-null   int64  \n",
            " 22  age               279 non-null    float64\n",
            " 23  numDeadRelations  1557 non-null   int64  \n",
            " 24  popularity        1557 non-null   float64\n",
            " 25  isAlive           1557 non-null   int64  \n",
            "dtypes: float64(8), int64(10), object(8)\n",
            "memory usage: 328.4+ KB\n"
          ]
        }
      ],
      "source": [
        "data.info()"
      ]
    },
    {
      "cell_type": "code",
      "execution_count": 15,
      "metadata": {
        "id": "1Tv0scrImXTM"
      },
      "outputs": [
        {
          "data": {
            "text/plain": [
              "mother              1539\n",
              "isAliveMother       1539\n",
              "isAliveHeir         1536\n",
              "heir                1536\n",
              "isAliveFather       1535\n",
              "father              1535\n",
              "isAliveSpouse       1357\n",
              "spouse              1357\n",
              "dateOfBirth         1278\n",
              "age                 1278\n",
              "DateoFdeath         1250\n",
              "culture             1069\n",
              "title                840\n",
              "house                381\n",
              "isNoble                0\n",
              "isMarried              0\n",
              "numDeadRelations       0\n",
              "popularity             0\n",
              "name                   0\n",
              "book3                  0\n",
              "book5                  0\n",
              "book4                  0\n",
              "book2                  0\n",
              "book1                  0\n",
              "male                   0\n",
              "isAlive                0\n",
              "dtype: int64"
            ]
          },
          "execution_count": 15,
          "metadata": {},
          "output_type": "execute_result"
        }
      ],
      "source": [
        "data.isna().sum().sort_values(ascending=False)"
      ]
    },
    {
      "cell_type": "markdown",
      "metadata": {},
      "source": [
        "> Оставим только те признаки, у которых количество пропусков меньше 50%. `name` можно также удалить, так как его предиктивная способность сомнительна."
      ]
    },
    {
      "cell_type": "code",
      "execution_count": 16,
      "metadata": {},
      "outputs": [],
      "source": [
        "sel_feats = [\n",
        "    \"book1\",\n",
        "    \"book2\",\n",
        "    \"book3\",\n",
        "    \"book4\",\n",
        "    \"book5\",\n",
        "    \"house\",\n",
        "    \"isMarried\",\n",
        "    \"isNoble\",\n",
        "    \"male\",\n",
        "    \"numDeadRelations\",\n",
        "    \"popularity\",\n",
        "    \"isAlive\",\n",
        "]"
      ]
    },
    {
      "cell_type": "code",
      "execution_count": 17,
      "metadata": {},
      "outputs": [
        {
          "data": {
            "text/html": [
              "<div>\n",
              "<style scoped>\n",
              "    .dataframe tbody tr th:only-of-type {\n",
              "        vertical-align: middle;\n",
              "    }\n",
              "\n",
              "    .dataframe tbody tr th {\n",
              "        vertical-align: top;\n",
              "    }\n",
              "\n",
              "    .dataframe thead th {\n",
              "        text-align: right;\n",
              "    }\n",
              "</style>\n",
              "<table border=\"1\" class=\"dataframe\">\n",
              "  <thead>\n",
              "    <tr style=\"text-align: right;\">\n",
              "      <th></th>\n",
              "      <th>book1</th>\n",
              "      <th>book2</th>\n",
              "      <th>book3</th>\n",
              "      <th>book4</th>\n",
              "      <th>book5</th>\n",
              "      <th>house</th>\n",
              "      <th>isMarried</th>\n",
              "      <th>isNoble</th>\n",
              "      <th>male</th>\n",
              "      <th>numDeadRelations</th>\n",
              "      <th>popularity</th>\n",
              "      <th>isAlive</th>\n",
              "    </tr>\n",
              "    <tr>\n",
              "      <th>S.No</th>\n",
              "      <th></th>\n",
              "      <th></th>\n",
              "      <th></th>\n",
              "      <th></th>\n",
              "      <th></th>\n",
              "      <th></th>\n",
              "      <th></th>\n",
              "      <th></th>\n",
              "      <th></th>\n",
              "      <th></th>\n",
              "      <th></th>\n",
              "      <th></th>\n",
              "    </tr>\n",
              "  </thead>\n",
              "  <tbody>\n",
              "    <tr>\n",
              "      <th>1</th>\n",
              "      <td>0</td>\n",
              "      <td>0</td>\n",
              "      <td>0</td>\n",
              "      <td>0</td>\n",
              "      <td>0</td>\n",
              "      <td>NaN</td>\n",
              "      <td>0</td>\n",
              "      <td>0</td>\n",
              "      <td>1</td>\n",
              "      <td>11</td>\n",
              "      <td>0.605351</td>\n",
              "      <td>0</td>\n",
              "    </tr>\n",
              "    <tr>\n",
              "      <th>2</th>\n",
              "      <td>1</td>\n",
              "      <td>1</td>\n",
              "      <td>1</td>\n",
              "      <td>1</td>\n",
              "      <td>1</td>\n",
              "      <td>House Frey</td>\n",
              "      <td>1</td>\n",
              "      <td>1</td>\n",
              "      <td>1</td>\n",
              "      <td>1</td>\n",
              "      <td>0.896321</td>\n",
              "      <td>1</td>\n",
              "    </tr>\n",
              "    <tr>\n",
              "      <th>3</th>\n",
              "      <td>0</td>\n",
              "      <td>0</td>\n",
              "      <td>0</td>\n",
              "      <td>1</td>\n",
              "      <td>0</td>\n",
              "      <td>House Swyft</td>\n",
              "      <td>0</td>\n",
              "      <td>1</td>\n",
              "      <td>1</td>\n",
              "      <td>0</td>\n",
              "      <td>0.267559</td>\n",
              "      <td>1</td>\n",
              "    </tr>\n",
              "    <tr>\n",
              "      <th>4</th>\n",
              "      <td>0</td>\n",
              "      <td>0</td>\n",
              "      <td>0</td>\n",
              "      <td>0</td>\n",
              "      <td>0</td>\n",
              "      <td>House Arryn</td>\n",
              "      <td>1</td>\n",
              "      <td>1</td>\n",
              "      <td>0</td>\n",
              "      <td>0</td>\n",
              "      <td>0.183946</td>\n",
              "      <td>0</td>\n",
              "    </tr>\n",
              "    <tr>\n",
              "      <th>5</th>\n",
              "      <td>0</td>\n",
              "      <td>0</td>\n",
              "      <td>0</td>\n",
              "      <td>1</td>\n",
              "      <td>0</td>\n",
              "      <td>House Santagar</td>\n",
              "      <td>1</td>\n",
              "      <td>1</td>\n",
              "      <td>0</td>\n",
              "      <td>0</td>\n",
              "      <td>0.043478</td>\n",
              "      <td>1</td>\n",
              "    </tr>\n",
              "  </tbody>\n",
              "</table>\n",
              "</div>"
            ],
            "text/plain": [
              "      book1  book2  book3  book4  book5           house  isMarried  isNoble  \\\n",
              "S.No                                                                          \n",
              "1         0      0      0      0      0             NaN          0        0   \n",
              "2         1      1      1      1      1      House Frey          1        1   \n",
              "3         0      0      0      1      0     House Swyft          0        1   \n",
              "4         0      0      0      0      0     House Arryn          1        1   \n",
              "5         0      0      0      1      0  House Santagar          1        1   \n",
              "\n",
              "      male  numDeadRelations  popularity  isAlive  \n",
              "S.No                                               \n",
              "1        1                11    0.605351        0  \n",
              "2        1                 1    0.896321        1  \n",
              "3        1                 0    0.267559        1  \n",
              "4        0                 0    0.183946        0  \n",
              "5        0                 0    0.043478        1  "
            ]
          },
          "execution_count": 17,
          "metadata": {},
          "output_type": "execute_result"
        }
      ],
      "source": [
        "data.loc[:, sel_feats].head()"
      ]
    },
    {
      "cell_type": "markdown",
      "metadata": {
        "id": "wgnKotTkjdOh"
      },
      "source": [
        "### **Задание 1.4.** Создайте новые признаки.\n",
        "\n",
        "* Создайте признак isPopular. У вас есть в таблице признак popularity score, поставьте какой то порог, например, 0.5, и пусть те персонажи, у которых popularity score меньше 0.5, непопулярны, т.е. isPopular = 0. Если же выше 0.5, тогда пусть isPopular=1.\n",
        "* Создайте признак boolDeadRelations. Давайте упростим признак numDeadRelations, и просто поделим людей на тех, у кого были хоть какие то отношения с мертвыми персонажами, т.е. numDeadRelations > 0, и те, у которых не было, т.е. numDeadRelations = 0.\n",
        "* Упростите признак culture, объединив схожие названия в один.\n"
      ]
    },
    {
      "cell_type": "code",
      "execution_count": 18,
      "metadata": {},
      "outputs": [],
      "source": [
        "dataset = data.loc[:, sel_feats].assign(\n",
        "    isPopular=data.loc[:, \"popularity\"].map(lambda val: val > 0.5),\n",
        "    boolDeadRelations=data.loc[:, \"numDeadRelations\"].map(lambda val: val > 0),\n",
        ")"
      ]
    },
    {
      "cell_type": "code",
      "execution_count": 19,
      "metadata": {},
      "outputs": [
        {
          "data": {
            "text/html": [
              "<div>\n",
              "<style scoped>\n",
              "    .dataframe tbody tr th:only-of-type {\n",
              "        vertical-align: middle;\n",
              "    }\n",
              "\n",
              "    .dataframe tbody tr th {\n",
              "        vertical-align: top;\n",
              "    }\n",
              "\n",
              "    .dataframe thead th {\n",
              "        text-align: right;\n",
              "    }\n",
              "</style>\n",
              "<table border=\"1\" class=\"dataframe\">\n",
              "  <thead>\n",
              "    <tr style=\"text-align: right;\">\n",
              "      <th></th>\n",
              "      <th>book1</th>\n",
              "      <th>book2</th>\n",
              "      <th>book3</th>\n",
              "      <th>book4</th>\n",
              "      <th>book5</th>\n",
              "      <th>house</th>\n",
              "      <th>isMarried</th>\n",
              "      <th>isNoble</th>\n",
              "      <th>male</th>\n",
              "      <th>numDeadRelations</th>\n",
              "      <th>popularity</th>\n",
              "      <th>isAlive</th>\n",
              "      <th>isPopular</th>\n",
              "      <th>boolDeadRelations</th>\n",
              "    </tr>\n",
              "    <tr>\n",
              "      <th>S.No</th>\n",
              "      <th></th>\n",
              "      <th></th>\n",
              "      <th></th>\n",
              "      <th></th>\n",
              "      <th></th>\n",
              "      <th></th>\n",
              "      <th></th>\n",
              "      <th></th>\n",
              "      <th></th>\n",
              "      <th></th>\n",
              "      <th></th>\n",
              "      <th></th>\n",
              "      <th></th>\n",
              "      <th></th>\n",
              "    </tr>\n",
              "  </thead>\n",
              "  <tbody>\n",
              "    <tr>\n",
              "      <th>1</th>\n",
              "      <td>0</td>\n",
              "      <td>0</td>\n",
              "      <td>0</td>\n",
              "      <td>0</td>\n",
              "      <td>0</td>\n",
              "      <td>NaN</td>\n",
              "      <td>0</td>\n",
              "      <td>0</td>\n",
              "      <td>1</td>\n",
              "      <td>11</td>\n",
              "      <td>0.605351</td>\n",
              "      <td>0</td>\n",
              "      <td>True</td>\n",
              "      <td>True</td>\n",
              "    </tr>\n",
              "    <tr>\n",
              "      <th>2</th>\n",
              "      <td>1</td>\n",
              "      <td>1</td>\n",
              "      <td>1</td>\n",
              "      <td>1</td>\n",
              "      <td>1</td>\n",
              "      <td>House Frey</td>\n",
              "      <td>1</td>\n",
              "      <td>1</td>\n",
              "      <td>1</td>\n",
              "      <td>1</td>\n",
              "      <td>0.896321</td>\n",
              "      <td>1</td>\n",
              "      <td>True</td>\n",
              "      <td>True</td>\n",
              "    </tr>\n",
              "    <tr>\n",
              "      <th>3</th>\n",
              "      <td>0</td>\n",
              "      <td>0</td>\n",
              "      <td>0</td>\n",
              "      <td>1</td>\n",
              "      <td>0</td>\n",
              "      <td>House Swyft</td>\n",
              "      <td>0</td>\n",
              "      <td>1</td>\n",
              "      <td>1</td>\n",
              "      <td>0</td>\n",
              "      <td>0.267559</td>\n",
              "      <td>1</td>\n",
              "      <td>False</td>\n",
              "      <td>False</td>\n",
              "    </tr>\n",
              "    <tr>\n",
              "      <th>4</th>\n",
              "      <td>0</td>\n",
              "      <td>0</td>\n",
              "      <td>0</td>\n",
              "      <td>0</td>\n",
              "      <td>0</td>\n",
              "      <td>House Arryn</td>\n",
              "      <td>1</td>\n",
              "      <td>1</td>\n",
              "      <td>0</td>\n",
              "      <td>0</td>\n",
              "      <td>0.183946</td>\n",
              "      <td>0</td>\n",
              "      <td>False</td>\n",
              "      <td>False</td>\n",
              "    </tr>\n",
              "    <tr>\n",
              "      <th>5</th>\n",
              "      <td>0</td>\n",
              "      <td>0</td>\n",
              "      <td>0</td>\n",
              "      <td>1</td>\n",
              "      <td>0</td>\n",
              "      <td>House Santagar</td>\n",
              "      <td>1</td>\n",
              "      <td>1</td>\n",
              "      <td>0</td>\n",
              "      <td>0</td>\n",
              "      <td>0.043478</td>\n",
              "      <td>1</td>\n",
              "      <td>False</td>\n",
              "      <td>False</td>\n",
              "    </tr>\n",
              "  </tbody>\n",
              "</table>\n",
              "</div>"
            ],
            "text/plain": [
              "      book1  book2  book3  book4  book5           house  isMarried  isNoble  \\\n",
              "S.No                                                                          \n",
              "1         0      0      0      0      0             NaN          0        0   \n",
              "2         1      1      1      1      1      House Frey          1        1   \n",
              "3         0      0      0      1      0     House Swyft          0        1   \n",
              "4         0      0      0      0      0     House Arryn          1        1   \n",
              "5         0      0      0      1      0  House Santagar          1        1   \n",
              "\n",
              "      male  numDeadRelations  popularity  isAlive  isPopular  \\\n",
              "S.No                                                           \n",
              "1        1                11    0.605351        0       True   \n",
              "2        1                 1    0.896321        1       True   \n",
              "3        1                 0    0.267559        1      False   \n",
              "4        0                 0    0.183946        0      False   \n",
              "5        0                 0    0.043478        1      False   \n",
              "\n",
              "      boolDeadRelations  \n",
              "S.No                     \n",
              "1                  True  \n",
              "2                  True  \n",
              "3                 False  \n",
              "4                 False  \n",
              "5                 False  "
            ]
          },
          "execution_count": 19,
          "metadata": {},
          "output_type": "execute_result"
        }
      ],
      "source": [
        "dataset.head()"
      ]
    },
    {
      "cell_type": "code",
      "execution_count": 20,
      "metadata": {
        "id": "bTKTcPAddBFw"
      },
      "outputs": [],
      "source": [
        "# Подсказка\n",
        "cult = {\n",
        "    \"Summer Islands\": [\"summer islands\", \"summer islander\", \"summer isles\"],\n",
        "    \"Ghiscari\": [\"ghiscari\", \"ghiscaricari\", \"ghis\"],\n",
        "    \"Asshai\": [\"asshai'i\", \"asshai\"],\n",
        "    \"Lysene\": [\"lysene\", \"lyseni\"],\n",
        "    \"Andal\": [\"andal\", \"andals\"],\n",
        "    \"Braavosi\": [\"braavosi\", \"braavos\"],\n",
        "    \"Dornish\": [\"dornishmen\", \"dorne\", \"dornish\"],\n",
        "    \"Myrish\": [\"myr\", \"myrish\", \"myrmen\"],\n",
        "    \"Westermen\": [\"westermen\", \"westerman\", \"westerlands\"],\n",
        "    \"Westerosi\": [\"westeros\", \"westerosi\"],\n",
        "    \"Stormlander\": [\"stormlands\", \"stormlander\"],\n",
        "    \"Norvoshi\": [\"norvos\", \"norvoshi\"],\n",
        "    \"Northmen\": [\"the north\", \"northmen\"],\n",
        "    \"Free Folk\": [\"wildling\", \"first men\", \"free folk\"],\n",
        "    \"Qartheen\": [\"qartheen\", \"qarth\"],\n",
        "    \"Reach\": [\"the reach\", \"reach\", \"reachmen\"],\n",
        "}"
      ]
    },
    {
      "cell_type": "markdown",
      "metadata": {
        "id": "tygLTUAkkAHU"
      },
      "source": [
        "### **Задание 1.5.** Проанализируйте, какие столбцы являются существенными и влияют на предсказание, а какие нет. \n",
        "\n",
        "Удалите ненужные столбцы по вашему мнению."
      ]
    },
    {
      "cell_type": "code",
      "execution_count": 21,
      "metadata": {
        "id": "gDret9EFgo_8"
      },
      "outputs": [],
      "source": [
        "# data.drop(columns=[...], inplace = True)"
      ]
    },
    {
      "cell_type": "code",
      "execution_count": 22,
      "metadata": {},
      "outputs": [
        {
          "data": {
            "text/plain": [
              "<Axes: >"
            ]
          },
          "execution_count": 22,
          "metadata": {},
          "output_type": "execute_result"
        },
        {
          "data": {
            "image/png": "[encoded data removed]",
            "text/plain": [
              "<Figure size 640x480 with 2 Axes>"
            ]
          },
          "metadata": {},
          "output_type": "display_data"
        }
      ],
      "source": [
        "sns.heatmap(dataset.drop([\"house\", \"isAlive\"], axis=1).corr())"
      ]
    },
    {
      "cell_type": "code",
      "execution_count": 23,
      "metadata": {},
      "outputs": [],
      "source": [
        "import statsmodels.api as sm\n",
        "\n",
        "from dls_2024_1.feature_importance import FeatureImportanceForest, PermutationImportanceForest"
      ]
    },
    {
      "cell_type": "code",
      "execution_count": 24,
      "metadata": {},
      "outputs": [],
      "source": [
        "X = dataset.drop([\"house\", \"isAlive\"], axis=1)\n",
        "y = dataset.loc[:, \"isAlive\"]\n",
        "\n",
        "# Convert boolean columns to integers\n",
        "X[\"isPopular\"] = X[\"isPopular\"].astype(int)\n",
        "X[\"boolDeadRelations\"] = X[\"boolDeadRelations\"].astype(int)"
      ]
    },
    {
      "cell_type": "code",
      "execution_count": 25,
      "metadata": {},
      "outputs": [],
      "source": [
        "ols = sm.OLS(y, sm.add_constant(X))\n",
        "result = ols.fit()"
      ]
    },
    {
      "cell_type": "code",
      "execution_count": 26,
      "metadata": {},
      "outputs": [
        {
          "data": {
            "text/html": [
              "<div>\n",
              "<style scoped>\n",
              "    .dataframe tbody tr th:only-of-type {\n",
              "        vertical-align: middle;\n",
              "    }\n",
              "\n",
              "    .dataframe tbody tr th {\n",
              "        vertical-align: top;\n",
              "    }\n",
              "\n",
              "    .dataframe thead th {\n",
              "        text-align: right;\n",
              "    }\n",
              "</style>\n",
              "<table border=\"1\" class=\"dataframe\">\n",
              "  <thead>\n",
              "    <tr style=\"text-align: right;\">\n",
              "      <th></th>\n",
              "      <th>Coef.</th>\n",
              "      <th>Std.Err.</th>\n",
              "      <th>t</th>\n",
              "      <th>P&gt;|t|</th>\n",
              "      <th>[0.025</th>\n",
              "      <th>0.975]</th>\n",
              "    </tr>\n",
              "  </thead>\n",
              "  <tbody>\n",
              "    <tr>\n",
              "      <th>book5</th>\n",
              "      <td>-0.007310</td>\n",
              "      <td>0.022287</td>\n",
              "      <td>-0.327982</td>\n",
              "      <td>0.742970</td>\n",
              "      <td>-0.051026</td>\n",
              "      <td>0.036407</td>\n",
              "    </tr>\n",
              "    <tr>\n",
              "      <th>isMarried</th>\n",
              "      <td>-0.011314</td>\n",
              "      <td>0.032445</td>\n",
              "      <td>-0.348700</td>\n",
              "      <td>0.727362</td>\n",
              "      <td>-0.074955</td>\n",
              "      <td>0.052328</td>\n",
              "    </tr>\n",
              "    <tr>\n",
              "      <th>boolDeadRelations</th>\n",
              "      <td>-0.032932</td>\n",
              "      <td>0.078239</td>\n",
              "      <td>-0.420913</td>\n",
              "      <td>0.673877</td>\n",
              "      <td>-0.186398</td>\n",
              "      <td>0.120534</td>\n",
              "    </tr>\n",
              "    <tr>\n",
              "      <th>book2</th>\n",
              "      <td>-0.019280</td>\n",
              "      <td>0.023360</td>\n",
              "      <td>-0.825343</td>\n",
              "      <td>0.409305</td>\n",
              "      <td>-0.065100</td>\n",
              "      <td>0.026540</td>\n",
              "    </tr>\n",
              "    <tr>\n",
              "      <th>book3</th>\n",
              "      <td>-0.019669</td>\n",
              "      <td>0.022762</td>\n",
              "      <td>-0.864129</td>\n",
              "      <td>0.387651</td>\n",
              "      <td>-0.064317</td>\n",
              "      <td>0.024978</td>\n",
              "    </tr>\n",
              "    <tr>\n",
              "      <th>isNoble</th>\n",
              "      <td>-0.026187</td>\n",
              "      <td>0.020149</td>\n",
              "      <td>-1.299673</td>\n",
              "      <td>0.193907</td>\n",
              "      <td>-0.065710</td>\n",
              "      <td>0.013335</td>\n",
              "    </tr>\n",
              "  </tbody>\n",
              "</table>\n",
              "</div>"
            ],
            "text/plain": [
              "                      Coef.  Std.Err.         t     P>|t|    [0.025    0.975]\n",
              "book5             -0.007310  0.022287 -0.327982  0.742970 -0.051026  0.036407\n",
              "isMarried         -0.011314  0.032445 -0.348700  0.727362 -0.074955  0.052328\n",
              "boolDeadRelations -0.032932  0.078239 -0.420913  0.673877 -0.186398  0.120534\n",
              "book2             -0.019280  0.023360 -0.825343  0.409305 -0.065100  0.026540\n",
              "book3             -0.019669  0.022762 -0.864129  0.387651 -0.064317  0.024978\n",
              "isNoble           -0.026187  0.020149 -1.299673  0.193907 -0.065710  0.013335"
            ]
          },
          "execution_count": 26,
          "metadata": {},
          "output_type": "execute_result"
        }
      ],
      "source": [
        "summary = result.summary2().tables[1]\n",
        "summary.query(\"`P>|t|` > 0.1\").sort_values(by=\"P>|t|\", ascending=False)"
      ]
    },
    {
      "cell_type": "markdown",
      "metadata": {},
      "source": [
        "> Из t-статистики из отчёта выше видно, что некоторые признаки имеют низкую предсказательную важность.\n",
        ">> - `book2`\n",
        ">> - `book3`\n",
        ">> - `book5`\n",
        ">> - `isMarried`\n",
        ">> - `isNoble`\n",
        ">> - `boolDeadRelations`"
      ]
    },
    {
      "cell_type": "code",
      "execution_count": 27,
      "metadata": {},
      "outputs": [],
      "source": [
        "fif = FeatureImportanceForest(X, y, X.columns)"
      ]
    },
    {
      "cell_type": "code",
      "execution_count": 28,
      "metadata": {},
      "outputs": [
        {
          "data": {
            "image/png": "[encoded data removed]",
            "text/plain": [
              "<Figure size 640x480 with 1 Axes>"
            ]
          },
          "metadata": {},
          "output_type": "display_data"
        }
      ],
      "source": [
        "fif.plot()"
      ]
    },
    {
      "cell_type": "code",
      "execution_count": 29,
      "metadata": {},
      "outputs": [],
      "source": [
        "pif = PermutationImportanceForest(X, y)"
      ]
    },
    {
      "cell_type": "code",
      "execution_count": 30,
      "metadata": {},
      "outputs": [
        {
          "data": {
            "image/png": "[encoded data removed]",
            "text/plain": [
              "<Figure size 640x480 with 1 Axes>"
            ]
          },
          "metadata": {},
          "output_type": "display_data"
        }
      ],
      "source": [
        "pif.plot()"
      ]
    },
    {
      "cell_type": "markdown",
      "metadata": {},
      "source": [
        "> Как видно из графика, приведённого выше, такие признаки, как `numDeadRelations`, \n",
        "> `boolDeadRelations` и `isPopular` слабо влияют на предсказательную точность.\n",
        "> Следовательно, их можно удалить."
      ]
    },
    {
      "cell_type": "markdown",
      "metadata": {},
      "source": [
        "> Тогда, выбранные признаки таковы:"
      ]
    },
    {
      "cell_type": "code",
      "execution_count": 31,
      "metadata": {},
      "outputs": [],
      "source": [
        "selected_features = [\n",
        "    \"book1\",\n",
        "    \"book2\",\n",
        "    \"book3\",\n",
        "    \"book4\",\n",
        "    \"book5\",\n",
        "    \"house\",\n",
        "    \"isMarried\",\n",
        "    \"isNoble\",\n",
        "    \"male\",\n",
        "    \"popularity\",\n",
        "]"
      ]
    },
    {
      "cell_type": "markdown",
      "metadata": {
        "id": "lc16QxpykMX3"
      },
      "source": [
        "### **Задание 1.6.** Проанализируйте целевую переменную. \n",
        "\n",
        "Посмотрите, является ли она категориальной или количественной. Так как мы говорим о задаче классификации, проанализируйте является ли датасет сбалансированным по классам или нет."
      ]
    },
    {
      "cell_type": "code",
      "execution_count": 32,
      "metadata": {
        "id": "sQRo20Bfmxlm"
      },
      "outputs": [
        {
          "data": {
            "text/plain": [
              "<Axes: ylabel='Frequency'>"
            ]
          },
          "execution_count": 32,
          "metadata": {},
          "output_type": "execute_result"
        },
        {
          "data": {
            "image/png": "[encoded data removed]",
            "text/plain": [
              "<Figure size 640x480 with 1 Axes>"
            ]
          },
          "metadata": {},
          "output_type": "display_data"
        }
      ],
      "source": [
        "target = dataset.loc[:, \"isAlive\"]\n",
        "target.plot.hist()"
      ]
    },
    {
      "cell_type": "code",
      "execution_count": 33,
      "metadata": {},
      "outputs": [
        {
          "data": {
            "text/plain": [
              "isAlive\n",
              "1    1212\n",
              "0     345\n",
              "Name: count, dtype: int64"
            ]
          },
          "execution_count": 33,
          "metadata": {},
          "output_type": "execute_result"
        }
      ],
      "source": [
        "target.value_counts()"
      ]
    },
    {
      "cell_type": "markdown",
      "metadata": {},
      "source": [
        "> Целевая переменная категориальная. Датасет не сбалансирован по классам."
      ]
    },
    {
      "cell_type": "markdown",
      "metadata": {
        "id": "95mWoYcsk9Pp"
      },
      "source": [
        "### **Задание 1.7.** Проанализируйте признаки.\n",
        "\n",
        "  * Обработайте категориальные признаки и переведите их в числа. Можете выбрать любой кодировщик.\n",
        "  * Проанализируйте количественные признаки. Есть ли корреляция между признаками?"
      ]
    },
    {
      "cell_type": "code",
      "execution_count": 34,
      "metadata": {
        "id": "oRvPBbyUm0Je"
      },
      "outputs": [
        {
          "data": {
            "text/html": [
              "<div>\n",
              "<style scoped>\n",
              "    .dataframe tbody tr th:only-of-type {\n",
              "        vertical-align: middle;\n",
              "    }\n",
              "\n",
              "    .dataframe tbody tr th {\n",
              "        vertical-align: top;\n",
              "    }\n",
              "\n",
              "    .dataframe thead th {\n",
              "        text-align: right;\n",
              "    }\n",
              "</style>\n",
              "<table border=\"1\" class=\"dataframe\">\n",
              "  <thead>\n",
              "    <tr style=\"text-align: right;\">\n",
              "      <th></th>\n",
              "      <th>book1</th>\n",
              "      <th>book2</th>\n",
              "      <th>book3</th>\n",
              "      <th>book4</th>\n",
              "      <th>book5</th>\n",
              "      <th>house</th>\n",
              "      <th>isMarried</th>\n",
              "      <th>isNoble</th>\n",
              "      <th>male</th>\n",
              "      <th>popularity</th>\n",
              "      <th>isAlive</th>\n",
              "    </tr>\n",
              "    <tr>\n",
              "      <th>S.No</th>\n",
              "      <th></th>\n",
              "      <th></th>\n",
              "      <th></th>\n",
              "      <th></th>\n",
              "      <th></th>\n",
              "      <th></th>\n",
              "      <th></th>\n",
              "      <th></th>\n",
              "      <th></th>\n",
              "      <th></th>\n",
              "      <th></th>\n",
              "    </tr>\n",
              "  </thead>\n",
              "  <tbody>\n",
              "    <tr>\n",
              "      <th>1</th>\n",
              "      <td>0</td>\n",
              "      <td>0</td>\n",
              "      <td>0</td>\n",
              "      <td>0</td>\n",
              "      <td>0</td>\n",
              "      <td>NaN</td>\n",
              "      <td>0</td>\n",
              "      <td>0</td>\n",
              "      <td>1</td>\n",
              "      <td>0.605351</td>\n",
              "      <td>0</td>\n",
              "    </tr>\n",
              "    <tr>\n",
              "      <th>2</th>\n",
              "      <td>1</td>\n",
              "      <td>1</td>\n",
              "      <td>1</td>\n",
              "      <td>1</td>\n",
              "      <td>1</td>\n",
              "      <td>House Frey</td>\n",
              "      <td>1</td>\n",
              "      <td>1</td>\n",
              "      <td>1</td>\n",
              "      <td>0.896321</td>\n",
              "      <td>1</td>\n",
              "    </tr>\n",
              "    <tr>\n",
              "      <th>3</th>\n",
              "      <td>0</td>\n",
              "      <td>0</td>\n",
              "      <td>0</td>\n",
              "      <td>1</td>\n",
              "      <td>0</td>\n",
              "      <td>House Swyft</td>\n",
              "      <td>0</td>\n",
              "      <td>1</td>\n",
              "      <td>1</td>\n",
              "      <td>0.267559</td>\n",
              "      <td>1</td>\n",
              "    </tr>\n",
              "  </tbody>\n",
              "</table>\n",
              "</div>"
            ],
            "text/plain": [
              "      book1  book2  book3  book4  book5        house  isMarried  isNoble  \\\n",
              "S.No                                                                       \n",
              "1         0      0      0      0      0          NaN          0        0   \n",
              "2         1      1      1      1      1   House Frey          1        1   \n",
              "3         0      0      0      1      0  House Swyft          0        1   \n",
              "\n",
              "      male  popularity  isAlive  \n",
              "S.No                             \n",
              "1        1    0.605351        0  \n",
              "2        1    0.896321        1  \n",
              "3        1    0.267559        1  "
            ]
          },
          "execution_count": 34,
          "metadata": {},
          "output_type": "execute_result"
        }
      ],
      "source": [
        "dataset.loc[:, [*selected_features, \"isAlive\"]].head(3)"
      ]
    },
    {
      "cell_type": "markdown",
      "metadata": {},
      "source": [
        "> Все выбранные признаки численные, кроме `house`, который категориальный."
      ]
    },
    {
      "cell_type": "code",
      "execution_count": 35,
      "metadata": {},
      "outputs": [],
      "source": [
        "from sklearn.preprocessing import PowerTransformer\n",
        "\n",
        "from dls_2024_1.typing import ColumnTransformerUnit"
      ]
    },
    {
      "cell_type": "code",
      "execution_count": 36,
      "metadata": {},
      "outputs": [
        {
          "data": {
            "text/html": [
              "<div>\n",
              "<style scoped>\n",
              "    .dataframe tbody tr th:only-of-type {\n",
              "        vertical-align: middle;\n",
              "    }\n",
              "\n",
              "    .dataframe tbody tr th {\n",
              "        vertical-align: top;\n",
              "    }\n",
              "\n",
              "    .dataframe thead th {\n",
              "        text-align: right;\n",
              "    }\n",
              "</style>\n",
              "<table border=\"1\" class=\"dataframe\">\n",
              "  <thead>\n",
              "    <tr style=\"text-align: right;\">\n",
              "      <th></th>\n",
              "      <th>onehot__house_Alchemists' Guild</th>\n",
              "      <th>onehot__house_Antler Men</th>\n",
              "      <th>onehot__house_Band of Nine</th>\n",
              "      <th>onehot__house_Black Ears</th>\n",
              "      <th>onehot__house_Blacks</th>\n",
              "      <th>onehot__house_Brave Companions</th>\n",
              "      <th>onehot__house_Brotherhood Without Banners</th>\n",
              "      <th>onehot__house_Brotherhood without banners</th>\n",
              "      <th>onehot__house_Burned Men</th>\n",
              "      <th>onehot__house_Chataya's brothel</th>\n",
              "      <th>...</th>\n",
              "      <th>remainder__book1</th>\n",
              "      <th>remainder__book2</th>\n",
              "      <th>remainder__book3</th>\n",
              "      <th>remainder__book4</th>\n",
              "      <th>remainder__book5</th>\n",
              "      <th>remainder__isMarried</th>\n",
              "      <th>remainder__isNoble</th>\n",
              "      <th>remainder__male</th>\n",
              "      <th>remainder__popularity</th>\n",
              "      <th>remainder__isAlive</th>\n",
              "    </tr>\n",
              "  </thead>\n",
              "  <tbody>\n",
              "    <tr>\n",
              "      <th>0</th>\n",
              "      <td>0.0</td>\n",
              "      <td>0.0</td>\n",
              "      <td>0.0</td>\n",
              "      <td>0.0</td>\n",
              "      <td>0.0</td>\n",
              "      <td>0.0</td>\n",
              "      <td>0.0</td>\n",
              "      <td>0.0</td>\n",
              "      <td>0.0</td>\n",
              "      <td>0.0</td>\n",
              "      <td>...</td>\n",
              "      <td>0.0</td>\n",
              "      <td>0.0</td>\n",
              "      <td>0.0</td>\n",
              "      <td>0.0</td>\n",
              "      <td>0.0</td>\n",
              "      <td>0.0</td>\n",
              "      <td>0.0</td>\n",
              "      <td>1.0</td>\n",
              "      <td>0.605351</td>\n",
              "      <td>0.0</td>\n",
              "    </tr>\n",
              "    <tr>\n",
              "      <th>1</th>\n",
              "      <td>0.0</td>\n",
              "      <td>0.0</td>\n",
              "      <td>0.0</td>\n",
              "      <td>0.0</td>\n",
              "      <td>0.0</td>\n",
              "      <td>0.0</td>\n",
              "      <td>0.0</td>\n",
              "      <td>0.0</td>\n",
              "      <td>0.0</td>\n",
              "      <td>0.0</td>\n",
              "      <td>...</td>\n",
              "      <td>1.0</td>\n",
              "      <td>1.0</td>\n",
              "      <td>1.0</td>\n",
              "      <td>1.0</td>\n",
              "      <td>1.0</td>\n",
              "      <td>1.0</td>\n",
              "      <td>1.0</td>\n",
              "      <td>1.0</td>\n",
              "      <td>0.896321</td>\n",
              "      <td>1.0</td>\n",
              "    </tr>\n",
              "    <tr>\n",
              "      <th>2</th>\n",
              "      <td>0.0</td>\n",
              "      <td>0.0</td>\n",
              "      <td>0.0</td>\n",
              "      <td>0.0</td>\n",
              "      <td>0.0</td>\n",
              "      <td>0.0</td>\n",
              "      <td>0.0</td>\n",
              "      <td>0.0</td>\n",
              "      <td>0.0</td>\n",
              "      <td>0.0</td>\n",
              "      <td>...</td>\n",
              "      <td>0.0</td>\n",
              "      <td>0.0</td>\n",
              "      <td>0.0</td>\n",
              "      <td>1.0</td>\n",
              "      <td>0.0</td>\n",
              "      <td>0.0</td>\n",
              "      <td>1.0</td>\n",
              "      <td>1.0</td>\n",
              "      <td>0.267559</td>\n",
              "      <td>1.0</td>\n",
              "    </tr>\n",
              "  </tbody>\n",
              "</table>\n",
              "<p>3 rows × 326 columns</p>\n",
              "</div>"
            ],
            "text/plain": [
              "   onehot__house_Alchemists' Guild  onehot__house_Antler Men  \\\n",
              "0                              0.0                       0.0   \n",
              "1                              0.0                       0.0   \n",
              "2                              0.0                       0.0   \n",
              "\n",
              "   onehot__house_Band of Nine  onehot__house_Black Ears  onehot__house_Blacks  \\\n",
              "0                         0.0                       0.0                   0.0   \n",
              "1                         0.0                       0.0                   0.0   \n",
              "2                         0.0                       0.0                   0.0   \n",
              "\n",
              "   onehot__house_Brave Companions  onehot__house_Brotherhood Without Banners  \\\n",
              "0                             0.0                                        0.0   \n",
              "1                             0.0                                        0.0   \n",
              "2                             0.0                                        0.0   \n",
              "\n",
              "   onehot__house_Brotherhood without banners  onehot__house_Burned Men  \\\n",
              "0                                        0.0                       0.0   \n",
              "1                                        0.0                       0.0   \n",
              "2                                        0.0                       0.0   \n",
              "\n",
              "   onehot__house_Chataya's brothel  ...  remainder__book1  remainder__book2  \\\n",
              "0                              0.0  ...               0.0               0.0   \n",
              "1                              0.0  ...               1.0               1.0   \n",
              "2                              0.0  ...               0.0               0.0   \n",
              "\n",
              "   remainder__book3  remainder__book4  remainder__book5  remainder__isMarried  \\\n",
              "0               0.0               0.0               0.0                   0.0   \n",
              "1               1.0               1.0               1.0                   1.0   \n",
              "2               0.0               1.0               0.0                   0.0   \n",
              "\n",
              "   remainder__isNoble  remainder__male  remainder__popularity  \\\n",
              "0                 0.0              1.0               0.605351   \n",
              "1                 1.0              1.0               0.896321   \n",
              "2                 1.0              1.0               0.267559   \n",
              "\n",
              "   remainder__isAlive  \n",
              "0                 0.0  \n",
              "1                 1.0  \n",
              "2                 1.0  \n",
              "\n",
              "[3 rows x 326 columns]"
            ]
          },
          "execution_count": 36,
          "metadata": {},
          "output_type": "execute_result"
        }
      ],
      "source": [
        "coltrans = ColumnTransformer(\n",
        "    transformers=[\n",
        "        ColumnTransformerUnit(\"onehot\", OneHotEncoder(), [\"house\"]),\n",
        "        # ColumnTransformerUnit(\"gaussianscaler\", PowerTransformer(), [\"popularity\"]),\n",
        "    ],\n",
        "    remainder=\"passthrough\",\n",
        ")\n",
        "\n",
        "dataset_trans = coltrans.fit_transform(dataset.loc[:, [*selected_features, \"isAlive\"]])\n",
        "\n",
        "dataset_trans_df = pd.DataFrame(\n",
        "    data=dataset_trans.toarray(),  # type: ignore\n",
        "    columns=coltrans.get_feature_names_out(),\n",
        ")\n",
        "dataset_trans_df.head(3)"
      ]
    },
    {
      "cell_type": "code",
      "execution_count": 37,
      "metadata": {},
      "outputs": [
        {
          "data": {
            "text/plain": [
              "remainder__book2             0.380968\n",
              "remainder__book3             0.380968\n",
              "remainder__book4             0.329153\n",
              "remainder__book5             0.302338\n",
              "remainder__isAlive           0.284014\n",
              "remainder__book1             0.278116\n",
              "onehot__house_House Frey     0.258476\n",
              "remainder__isMarried         0.241898\n",
              "remainder__popularity        0.241898\n",
              "onehot__house_House Stark    0.210609\n",
              "dtype: float64"
            ]
          },
          "execution_count": 37,
          "metadata": {},
          "output_type": "execute_result"
        }
      ],
      "source": [
        "(\n",
        "    dataset_trans_df.corr()\n",
        "    .abs()\n",
        "    .apply(lambda row: row.nlargest(2).iloc[1])\n",
        "    .sort_values(ascending=False)  # type: ignore\n",
        "    .head(10)\n",
        ")"
      ]
    },
    {
      "cell_type": "markdown",
      "metadata": {},
      "source": [
        "> Между некоторыми признаками (например, `book*`) присутствует корреляция, но незначительная (< 0.4)."
      ]
    },
    {
      "cell_type": "markdown",
      "metadata": {
        "id": "qaEaLMe0lr9G"
      },
      "source": [
        "### **Задание 1.8.** Проанализируйте влияние признаков на целевую переменную."
      ]
    },
    {
      "cell_type": "code",
      "execution_count": 38,
      "metadata": {},
      "outputs": [],
      "source": [
        "dataset_trans_df.columns = [\n",
        "    label.removeprefix(\"remainder__\").removeprefix(\"onehot__\")\n",
        "    for label in dataset_trans_df.columns\n",
        "]"
      ]
    },
    {
      "cell_type": "code",
      "execution_count": 39,
      "metadata": {},
      "outputs": [],
      "source": [
        "X = dataset_trans_df.drop([\"isAlive\"], axis=1)\n",
        "y = dataset_trans_df.loc[:, \"isAlive\"]"
      ]
    },
    {
      "cell_type": "code",
      "execution_count": 40,
      "metadata": {},
      "outputs": [],
      "source": [
        "ols = sm.OLS(y, sm.add_constant(X))\n",
        "result = ols.fit()"
      ]
    },
    {
      "cell_type": "code",
      "execution_count": 41,
      "metadata": {},
      "outputs": [
        {
          "data": {
            "text/html": [
              "<div>\n",
              "<style scoped>\n",
              "    .dataframe tbody tr th:only-of-type {\n",
              "        vertical-align: middle;\n",
              "    }\n",
              "\n",
              "    .dataframe tbody tr th {\n",
              "        vertical-align: top;\n",
              "    }\n",
              "\n",
              "    .dataframe thead th {\n",
              "        text-align: right;\n",
              "    }\n",
              "</style>\n",
              "<table border=\"1\" class=\"dataframe\">\n",
              "  <thead>\n",
              "    <tr style=\"text-align: right;\">\n",
              "      <th></th>\n",
              "      <th>Coef.</th>\n",
              "      <th>Std.Err.</th>\n",
              "      <th>t</th>\n",
              "      <th>P&gt;|t|</th>\n",
              "      <th>[0.025</th>\n",
              "      <th>0.975]</th>\n",
              "    </tr>\n",
              "  </thead>\n",
              "  <tbody>\n",
              "    <tr>\n",
              "      <th>house_Queensguard</th>\n",
              "      <td>-0.741657</td>\n",
              "      <td>0.377175</td>\n",
              "      <td>-1.966349</td>\n",
              "      <td>4.948249e-02</td>\n",
              "      <td>-1.481633</td>\n",
              "      <td>-0.001681</td>\n",
              "    </tr>\n",
              "    <tr>\n",
              "      <th>house_House Baratheon</th>\n",
              "      <td>0.307108</td>\n",
              "      <td>0.155621</td>\n",
              "      <td>1.973439</td>\n",
              "      <td>4.866875e-02</td>\n",
              "      <td>0.001797</td>\n",
              "      <td>0.612419</td>\n",
              "    </tr>\n",
              "    <tr>\n",
              "      <th>house_House Lefford</th>\n",
              "      <td>-0.377892</td>\n",
              "      <td>0.189116</td>\n",
              "      <td>-1.998206</td>\n",
              "      <td>4.591386e-02</td>\n",
              "      <td>-0.748916</td>\n",
              "      <td>-0.006868</td>\n",
              "    </tr>\n",
              "    <tr>\n",
              "      <th>house_Alchemists' Guild</th>\n",
              "      <td>0.347171</td>\n",
              "      <td>0.170776</td>\n",
              "      <td>2.032901</td>\n",
              "      <td>4.227653e-02</td>\n",
              "      <td>0.012127</td>\n",
              "      <td>0.682216</td>\n",
              "    </tr>\n",
              "    <tr>\n",
              "      <th>house_House Tallhart</th>\n",
              "      <td>-0.325821</td>\n",
              "      <td>0.156532</td>\n",
              "      <td>-2.081492</td>\n",
              "      <td>3.759500e-02</td>\n",
              "      <td>-0.632920</td>\n",
              "      <td>-0.018721</td>\n",
              "    </tr>\n",
              "    <tr>\n",
              "      <th>house_House Byrch</th>\n",
              "      <td>-0.800043</td>\n",
              "      <td>0.378305</td>\n",
              "      <td>-2.114811</td>\n",
              "      <td>3.464640e-02</td>\n",
              "      <td>-1.542236</td>\n",
              "      <td>-0.057850</td>\n",
              "    </tr>\n",
              "    <tr>\n",
              "      <th>house_House Stark</th>\n",
              "      <td>0.125215</td>\n",
              "      <td>0.058172</td>\n",
              "      <td>2.152489</td>\n",
              "      <td>3.155258e-02</td>\n",
              "      <td>0.011087</td>\n",
              "      <td>0.239342</td>\n",
              "    </tr>\n",
              "    <tr>\n",
              "      <th>house_House Toyne</th>\n",
              "      <td>-0.868846</td>\n",
              "      <td>0.377288</td>\n",
              "      <td>-2.302870</td>\n",
              "      <td>2.145213e-02</td>\n",
              "      <td>-1.609045</td>\n",
              "      <td>-0.128647</td>\n",
              "    </tr>\n",
              "    <tr>\n",
              "      <th>house_House Payne</th>\n",
              "      <td>-0.911665</td>\n",
              "      <td>0.377131</td>\n",
              "      <td>-2.417373</td>\n",
              "      <td>1.577743e-02</td>\n",
              "      <td>-1.651554</td>\n",
              "      <td>-0.171776</td>\n",
              "    </tr>\n",
              "    <tr>\n",
              "      <th>house_House Tyrell</th>\n",
              "      <td>0.171133</td>\n",
              "      <td>0.069780</td>\n",
              "      <td>2.452441</td>\n",
              "      <td>1.432697e-02</td>\n",
              "      <td>0.034231</td>\n",
              "      <td>0.308034</td>\n",
              "    </tr>\n",
              "    <tr>\n",
              "      <th>house_House Cerwyn</th>\n",
              "      <td>-0.680284</td>\n",
              "      <td>0.267568</td>\n",
              "      <td>-2.542476</td>\n",
              "      <td>1.112858e-02</td>\n",
              "      <td>-1.205223</td>\n",
              "      <td>-0.155346</td>\n",
              "    </tr>\n",
              "    <tr>\n",
              "      <th>house_House Bushy</th>\n",
              "      <td>-0.976124</td>\n",
              "      <td>0.377237</td>\n",
              "      <td>-2.587564</td>\n",
              "      <td>9.779366e-03</td>\n",
              "      <td>-1.716221</td>\n",
              "      <td>-0.236027</td>\n",
              "    </tr>\n",
              "    <tr>\n",
              "      <th>house_House Norrey</th>\n",
              "      <td>-0.979506</td>\n",
              "      <td>0.377530</td>\n",
              "      <td>-2.594510</td>\n",
              "      <td>9.585038e-03</td>\n",
              "      <td>-1.720179</td>\n",
              "      <td>-0.238832</td>\n",
              "    </tr>\n",
              "    <tr>\n",
              "      <th>house_House Farrow</th>\n",
              "      <td>-0.979956</td>\n",
              "      <td>0.377233</td>\n",
              "      <td>-2.597744</td>\n",
              "      <td>9.495726e-03</td>\n",
              "      <td>-1.720046</td>\n",
              "      <td>-0.239865</td>\n",
              "    </tr>\n",
              "    <tr>\n",
              "      <th>house_House Tully</th>\n",
              "      <td>-0.350222</td>\n",
              "      <td>0.134581</td>\n",
              "      <td>-2.602305</td>\n",
              "      <td>9.371045e-03</td>\n",
              "      <td>-0.614256</td>\n",
              "      <td>-0.086188</td>\n",
              "    </tr>\n",
              "    <tr>\n",
              "      <th>house_House Rosby</th>\n",
              "      <td>-0.712627</td>\n",
              "      <td>0.268022</td>\n",
              "      <td>-2.658832</td>\n",
              "      <td>7.942818e-03</td>\n",
              "      <td>-1.238457</td>\n",
              "      <td>-0.186796</td>\n",
              "    </tr>\n",
              "    <tr>\n",
              "      <th>book1</th>\n",
              "      <td>-0.091096</td>\n",
              "      <td>0.034119</td>\n",
              "      <td>-2.669973</td>\n",
              "      <td>7.685511e-03</td>\n",
              "      <td>-0.158034</td>\n",
              "      <td>-0.024159</td>\n",
              "    </tr>\n",
              "    <tr>\n",
              "      <th>house_House Greyjoy</th>\n",
              "      <td>-0.198790</td>\n",
              "      <td>0.073316</td>\n",
              "      <td>-2.711394</td>\n",
              "      <td>6.793247e-03</td>\n",
              "      <td>-0.342629</td>\n",
              "      <td>-0.054951</td>\n",
              "    </tr>\n",
              "    <tr>\n",
              "      <th>house_House Seaworth</th>\n",
              "      <td>-0.418700</td>\n",
              "      <td>0.145687</td>\n",
              "      <td>-2.873970</td>\n",
              "      <td>4.123074e-03</td>\n",
              "      <td>-0.704523</td>\n",
              "      <td>-0.132878</td>\n",
              "    </tr>\n",
              "    <tr>\n",
              "      <th>male</th>\n",
              "      <td>-0.070206</td>\n",
              "      <td>0.022730</td>\n",
              "      <td>-3.088654</td>\n",
              "      <td>2.055633e-03</td>\n",
              "      <td>-0.114801</td>\n",
              "      <td>-0.025612</td>\n",
              "    </tr>\n",
              "    <tr>\n",
              "      <th>house_House Blackwood</th>\n",
              "      <td>-0.809264</td>\n",
              "      <td>0.218336</td>\n",
              "      <td>-3.706511</td>\n",
              "      <td>2.194625e-04</td>\n",
              "      <td>-1.237616</td>\n",
              "      <td>-0.380913</td>\n",
              "    </tr>\n",
              "    <tr>\n",
              "      <th>house_Night's Watch</th>\n",
              "      <td>-0.194539</td>\n",
              "      <td>0.047284</td>\n",
              "      <td>-4.114282</td>\n",
              "      <td>4.141821e-05</td>\n",
              "      <td>-0.287305</td>\n",
              "      <td>-0.101773</td>\n",
              "    </tr>\n",
              "    <tr>\n",
              "      <th>house_House Targaryen</th>\n",
              "      <td>-0.331777</td>\n",
              "      <td>0.064534</td>\n",
              "      <td>-5.141115</td>\n",
              "      <td>3.173836e-07</td>\n",
              "      <td>-0.458386</td>\n",
              "      <td>-0.205168</td>\n",
              "    </tr>\n",
              "    <tr>\n",
              "      <th>popularity</th>\n",
              "      <td>-0.572860</td>\n",
              "      <td>0.087404</td>\n",
              "      <td>-6.554153</td>\n",
              "      <td>8.206761e-11</td>\n",
              "      <td>-0.744337</td>\n",
              "      <td>-0.401382</td>\n",
              "    </tr>\n",
              "    <tr>\n",
              "      <th>book4</th>\n",
              "      <td>0.240214</td>\n",
              "      <td>0.026633</td>\n",
              "      <td>9.019264</td>\n",
              "      <td>7.076114e-19</td>\n",
              "      <td>0.187962</td>\n",
              "      <td>0.292466</td>\n",
              "    </tr>\n",
              "    <tr>\n",
              "      <th>const</th>\n",
              "      <td>0.773498</td>\n",
              "      <td>0.031663</td>\n",
              "      <td>24.428940</td>\n",
              "      <td>8.408992e-108</td>\n",
              "      <td>0.711378</td>\n",
              "      <td>0.835617</td>\n",
              "    </tr>\n",
              "  </tbody>\n",
              "</table>\n",
              "</div>"
            ],
            "text/plain": [
              "                            Coef.  Std.Err.          t          P>|t|  \\\n",
              "house_Queensguard       -0.741657  0.377175  -1.966349   4.948249e-02   \n",
              "house_House Baratheon    0.307108  0.155621   1.973439   4.866875e-02   \n",
              "house_House Lefford     -0.377892  0.189116  -1.998206   4.591386e-02   \n",
              "house_Alchemists' Guild  0.347171  0.170776   2.032901   4.227653e-02   \n",
              "house_House Tallhart    -0.325821  0.156532  -2.081492   3.759500e-02   \n",
              "house_House Byrch       -0.800043  0.378305  -2.114811   3.464640e-02   \n",
              "house_House Stark        0.125215  0.058172   2.152489   3.155258e-02   \n",
              "house_House Toyne       -0.868846  0.377288  -2.302870   2.145213e-02   \n",
              "house_House Payne       -0.911665  0.377131  -2.417373   1.577743e-02   \n",
              "house_House Tyrell       0.171133  0.069780   2.452441   1.432697e-02   \n",
              "house_House Cerwyn      -0.680284  0.267568  -2.542476   1.112858e-02   \n",
              "house_House Bushy       -0.976124  0.377237  -2.587564   9.779366e-03   \n",
              "house_House Norrey      -0.979506  0.377530  -2.594510   9.585038e-03   \n",
              "house_House Farrow      -0.979956  0.377233  -2.597744   9.495726e-03   \n",
              "house_House Tully       -0.350222  0.134581  -2.602305   9.371045e-03   \n",
              "house_House Rosby       -0.712627  0.268022  -2.658832   7.942818e-03   \n",
              "book1                   -0.091096  0.034119  -2.669973   7.685511e-03   \n",
              "house_House Greyjoy     -0.198790  0.073316  -2.711394   6.793247e-03   \n",
              "house_House Seaworth    -0.418700  0.145687  -2.873970   4.123074e-03   \n",
              "male                    -0.070206  0.022730  -3.088654   2.055633e-03   \n",
              "house_House Blackwood   -0.809264  0.218336  -3.706511   2.194625e-04   \n",
              "house_Night's Watch     -0.194539  0.047284  -4.114282   4.141821e-05   \n",
              "house_House Targaryen   -0.331777  0.064534  -5.141115   3.173836e-07   \n",
              "popularity              -0.572860  0.087404  -6.554153   8.206761e-11   \n",
              "book4                    0.240214  0.026633   9.019264   7.076114e-19   \n",
              "const                    0.773498  0.031663  24.428940  8.408992e-108   \n",
              "\n",
              "                           [0.025    0.975]  \n",
              "house_Queensguard       -1.481633 -0.001681  \n",
              "house_House Baratheon    0.001797  0.612419  \n",
              "house_House Lefford     -0.748916 -0.006868  \n",
              "house_Alchemists' Guild  0.012127  0.682216  \n",
              "house_House Tallhart    -0.632920 -0.018721  \n",
              "house_House Byrch       -1.542236 -0.057850  \n",
              "house_House Stark        0.011087  0.239342  \n",
              "house_House Toyne       -1.609045 -0.128647  \n",
              "house_House Payne       -1.651554 -0.171776  \n",
              "house_House Tyrell       0.034231  0.308034  \n",
              "house_House Cerwyn      -1.205223 -0.155346  \n",
              "house_House Bushy       -1.716221 -0.236027  \n",
              "house_House Norrey      -1.720179 -0.238832  \n",
              "house_House Farrow      -1.720046 -0.239865  \n",
              "house_House Tully       -0.614256 -0.086188  \n",
              "house_House Rosby       -1.238457 -0.186796  \n",
              "book1                   -0.158034 -0.024159  \n",
              "house_House Greyjoy     -0.342629 -0.054951  \n",
              "house_House Seaworth    -0.704523 -0.132878  \n",
              "male                    -0.114801 -0.025612  \n",
              "house_House Blackwood   -1.237616 -0.380913  \n",
              "house_Night's Watch     -0.287305 -0.101773  \n",
              "house_House Targaryen   -0.458386 -0.205168  \n",
              "popularity              -0.744337 -0.401382  \n",
              "book4                    0.187962  0.292466  \n",
              "const                    0.711378  0.835617  "
            ]
          },
          "execution_count": 41,
          "metadata": {},
          "output_type": "execute_result"
        }
      ],
      "source": [
        "summary = result.summary2().tables[1]\n",
        "summary.query(\"`P>|t|` < 0.05\").sort_values(by=\"P>|t|\", ascending=False)"
      ]
    },
    {
      "cell_type": "code",
      "execution_count": 42,
      "metadata": {},
      "outputs": [],
      "source": [
        "fif = FeatureImportanceForest(X, y, X.columns)"
      ]
    },
    {
      "cell_type": "code",
      "execution_count": 43,
      "metadata": {},
      "outputs": [
        {
          "data": {
            "text/plain": [
              "popularity               31.894659\n",
              "book4                     6.935924\n",
              "isNoble                   4.243859\n",
              "book3                     3.320985\n",
              "male                      3.187496\n",
              "book5                     3.168138\n",
              "book2                     2.742545\n",
              "house_House Targaryen     2.595806\n",
              "book1                     2.454965\n",
              "house_Night's Watch       2.333057\n",
              "house_nan                 2.299739\n",
              "isMarried                 2.186258\n",
              "house_House Greyjoy       1.116989\n",
              "house_House Stark         1.079115\n",
              "house_House Tully         1.016404\n",
              "dtype: float64"
            ]
          },
          "execution_count": 43,
          "metadata": {},
          "output_type": "execute_result"
        }
      ],
      "source": [
        "fif.forest_importances.nlargest(15) * 100"
      ]
    },
    {
      "cell_type": "code",
      "execution_count": 44,
      "metadata": {},
      "outputs": [],
      "source": [
        "pif = PermutationImportanceForest(X, y)"
      ]
    },
    {
      "cell_type": "code",
      "execution_count": 45,
      "metadata": {},
      "outputs": [
        {
          "data": {
            "text/plain": [
              "popularity               14.977521\n",
              "book4                     9.203597\n",
              "male                      5.433526\n",
              "isNoble                   5.009634\n",
              "book5                     4.142582\n",
              "book2                     4.084778\n",
              "book3                     3.879255\n",
              "book1                     3.506744\n",
              "house_nan                 2.864483\n",
              "house_Night's Watch       1.946050\n",
              "isMarried                 1.663455\n",
              "house_House Frey          0.687219\n",
              "house_House Targaryen     0.622993\n",
              "house_House Greyjoy       0.494541\n",
              "house_House Tully         0.436737\n",
              "dtype: float64"
            ]
          },
          "execution_count": 45,
          "metadata": {},
          "output_type": "execute_result"
        }
      ],
      "source": [
        "pif.forest_importances.nlargest(15) * 100"
      ]
    },
    {
      "cell_type": "markdown",
      "metadata": {
        "id": "1VAb2VGmilof"
      },
      "source": [
        "### **Задание 1.9.** Создайте переменные `X`, которая будет хранить только значения признаков, и `y`, которая будет хранить только значения целевой переменной."
      ]
    },
    {
      "cell_type": "code",
      "execution_count": 46,
      "metadata": {
        "id": "5_rg7DQfatPu"
      },
      "outputs": [],
      "source": [
        "X = dataset_trans_df.drop([\"isAlive\"], axis=1)\n",
        "y = dataset_trans_df.loc[:, \"isAlive\"]"
      ]
    },
    {
      "cell_type": "markdown",
      "metadata": {
        "id": "l4rlYPP-iago"
      },
      "source": [
        "### **Задание 1.10.** Разделите датасет на train и test часть при помощи функции `train_test_split`"
      ]
    },
    {
      "cell_type": "code",
      "execution_count": 47,
      "metadata": {
        "id": "GK1X0OBPb4m-"
      },
      "outputs": [],
      "source": [
        "from sklearn.model_selection import train_test_split"
      ]
    },
    {
      "cell_type": "code",
      "execution_count": 48,
      "metadata": {
        "id": "HASZhG6Pby5X"
      },
      "outputs": [],
      "source": [
        "X_train, X_test, y_train, y_test = train_test_split(X, y)"
      ]
    },
    {
      "cell_type": "markdown",
      "metadata": {
        "id": "GW9X4s8qWm98"
      },
      "source": [
        "## Часть 2. Обучение моделей"
      ]
    },
    {
      "cell_type": "markdown",
      "metadata": {
        "id": "Tu1DFWstaOh0"
      },
      "source": [
        "В данной части домашнего задания, мы хотим научиться обучать модели для задачи классификации на наших данных."
      ]
    },
    {
      "cell_type": "markdown",
      "metadata": {
        "id": "R6924OYeaisZ"
      },
      "source": [
        "### **Задание 2.1.** Импортируйте следующие модели из библиотеки `sklearn`\n",
        "\n",
        "* LogisticRegression\n",
        "* RandomForestClassifier\n",
        "* AdaBoostClassifier\n",
        "* GaussianProcessClassifier\n",
        "* GaussianNB\n",
        "* KNeighborsClassifier\n",
        "* SVC\n",
        "* DecisionTreeClassifier\n"
      ]
    },
    {
      "cell_type": "markdown",
      "metadata": {
        "id": "L9NEqcMacrkU"
      },
      "source": [
        "В качестве примера, импортируем модель `LogisticRegression`"
      ]
    },
    {
      "cell_type": "code",
      "execution_count": 49,
      "metadata": {
        "id": "qDy9pjzmbLDB"
      },
      "outputs": [],
      "source": [
        "from sklearn.linear_model import LogisticRegression"
      ]
    },
    {
      "cell_type": "markdown",
      "metadata": {
        "id": "L7J-D3OXcx5Y"
      },
      "source": [
        "Импортируйте остальные модели из библиотеки `sklearn`. Чтобы понять как это сделать, воспользуйтесь официальный документацией `sklearn` $→$ [тык](https://scikit-learn.org/dev/user_guide.html). По ключевому названию модели, вы сможете найти необходимую информацию о том, как можно импортировать модель из библиотеки."
      ]
    },
    {
      "cell_type": "code",
      "execution_count": 53,
      "metadata": {},
      "outputs": [],
      "source": [
        "from scipy.stats import loguniform\n",
        "from sklearn.ensemble import AdaBoostClassifier, RandomForestClassifier\n",
        "from sklearn.experimental import enable_halving_search_cv\n",
        "from sklearn.gaussian_process import GaussianProcessClassifier\n",
        "from sklearn.metrics import accuracy_score, balanced_accuracy_score\n",
        "from sklearn.model_selection import (\n",
        "    GridSearchCV,\n",
        "    HalvingGridSearchCV,\n",
        "    HalvingRandomSearchCV,\n",
        "    RandomizedSearchCV,\n",
        ")\n",
        "from sklearn.naive_bayes import GaussianNB\n",
        "from sklearn.neighbors import KNeighborsClassifier\n",
        "from sklearn.svm import SVC\n",
        "from sklearn.tree import DecisionTreeClassifier"
      ]
    },
    {
      "cell_type": "markdown",
      "metadata": {
        "id": "0SffourId972"
      },
      "source": [
        "### **Задание 2.2.** Обучите модель и сделайте предсказание на тестовой выборке"
      ]
    },
    {
      "cell_type": "markdown",
      "metadata": {
        "id": "Emdn45CYeMwW"
      },
      "source": [
        "В качестве примера, обучим модель `LogisticRegression` и сделаем на ней предсказания на тестовой выборке."
      ]
    },
    {
      "cell_type": "markdown",
      "metadata": {},
      "source": [
        "#### 2.2.1. LogisticRegression"
      ]
    },
    {
      "cell_type": "code",
      "execution_count": 147,
      "metadata": {
        "id": "fsoHrG4wb8aw"
      },
      "outputs": [
        {
          "data": {
            "text/plain": [
              "0.5791668132718765"
            ]
          },
          "execution_count": 147,
          "metadata": {},
          "output_type": "execute_result"
        }
      ],
      "source": [
        "# ? intelex\n",
        "\n",
        "params = {\"C\": 1}\n",
        "model = LogisticRegression(**params)  # type: ignore\n",
        "\n",
        "model.fit(X_train, y_train)\n",
        "\n",
        "# Шаг 3. Предсказание на тестовых данных\n",
        "score = balanced_accuracy_score(y_test, model.predict(X_test))\n",
        "score"
      ]
    },
    {
      "cell_type": "code",
      "execution_count": 148,
      "metadata": {},
      "outputs": [],
      "source": [
        "with shelve.open(str(MODELS_DIR / \"cache.shelve\")) as cache:\n",
        "    cache[\"logistic_regression\"] = {\n",
        "        \"model\": model,\n",
        "        \"params\": params,\n",
        "        \"balanced_accuracy_score\": score,\n",
        "    }"
      ]
    },
    {
      "cell_type": "markdown",
      "metadata": {},
      "source": [
        "#### 2.2.2. RandomForestClassifier"
      ]
    },
    {
      "cell_type": "code",
      "execution_count": 149,
      "metadata": {},
      "outputs": [
        {
          "data": {
            "text/plain": [
              "0.6170261426410049"
            ]
          },
          "execution_count": 149,
          "metadata": {},
          "output_type": "execute_result"
        }
      ],
      "source": [
        "# ? intelex\n",
        "\n",
        "params = {}\n",
        "model = RandomForestClassifier(**params)\n",
        "\n",
        "model.fit(X_train, y_train)\n",
        "\n",
        "score = balanced_accuracy_score(y_test, model.predict(X_test))\n",
        "score"
      ]
    },
    {
      "cell_type": "code",
      "execution_count": 150,
      "metadata": {},
      "outputs": [],
      "source": [
        "with shelve.open(str(MODELS_DIR / \"cache.shelve\")) as cache:\n",
        "    cache[\"random_forest_classifier\"] = {\n",
        "        \"model\": model,\n",
        "        \"params\": params,\n",
        "        \"balanced_accuracy_score\": score,\n",
        "    }"
      ]
    },
    {
      "cell_type": "markdown",
      "metadata": {},
      "source": [
        "#### 2.2.3. AdaBoostClassifier"
      ]
    },
    {
      "cell_type": "code",
      "execution_count": 151,
      "metadata": {},
      "outputs": [
        {
          "data": {
            "text/plain": [
              "0.6583336265437528"
            ]
          },
          "execution_count": 151,
          "metadata": {},
          "output_type": "execute_result"
        }
      ],
      "source": [
        "params = {\"algorithm\": \"SAMME\"}\n",
        "model = AdaBoostClassifier(**params)  # type: ignore\n",
        "\n",
        "model.fit(X_train, y_train)\n",
        "\n",
        "score = balanced_accuracy_score(y_test, model.predict(X_test))\n",
        "score"
      ]
    },
    {
      "cell_type": "code",
      "execution_count": 152,
      "metadata": {},
      "outputs": [],
      "source": [
        "with shelve.open(str(MODELS_DIR / \"cache.shelve\")) as cache:\n",
        "    cache[\"ada_boost_classifier\"] = {\n",
        "        \"model\": model,\n",
        "        \"params\": params,\n",
        "        \"balanced_accuracy_score\": score,\n",
        "    }"
      ]
    },
    {
      "cell_type": "markdown",
      "metadata": {},
      "source": [
        "#### 2.2.4. GaussianProcessClassifier"
      ]
    },
    {
      "cell_type": "code",
      "execution_count": 153,
      "metadata": {},
      "outputs": [
        {
          "data": {
            "text/plain": [
              "0.584251081946448"
            ]
          },
          "execution_count": 153,
          "metadata": {},
          "output_type": "execute_result"
        }
      ],
      "source": [
        "params = {}\n",
        "model = GaussianProcessClassifier(**params)\n",
        "\n",
        "model.fit(X_train, y_train)\n",
        "\n",
        "score = balanced_accuracy_score(y_test, model.predict(X_test))\n",
        "score"
      ]
    },
    {
      "cell_type": "code",
      "execution_count": 154,
      "metadata": {},
      "outputs": [],
      "source": [
        "with shelve.open(str(MODELS_DIR / \"cache.shelve\")) as cache:\n",
        "    cache[\"gaussian_process_classifier\"] = {\n",
        "        \"model\": model,\n",
        "        \"params\": params,\n",
        "        \"balanced_accuracy_score\": score,\n",
        "    }"
      ]
    },
    {
      "cell_type": "markdown",
      "metadata": {},
      "source": [
        "#### 2.2.5. GaussianNB"
      ]
    },
    {
      "cell_type": "code",
      "execution_count": 155,
      "metadata": {},
      "outputs": [
        {
          "data": {
            "text/plain": [
              "0.5641778966257345"
            ]
          },
          "execution_count": 155,
          "metadata": {},
          "output_type": "execute_result"
        }
      ],
      "source": [
        "params = {}\n",
        "model = GaussianNB(**params)\n",
        "\n",
        "model.fit(X_train, y_train)\n",
        "\n",
        "score = balanced_accuracy_score(y_test, model.predict(X_test))\n",
        "score"
      ]
    },
    {
      "cell_type": "code",
      "execution_count": 156,
      "metadata": {},
      "outputs": [],
      "source": [
        "with shelve.open(str(MODELS_DIR / \"cache.shelve\")) as cache:\n",
        "    cache[\"gaussian_nb\"] = {\n",
        "        \"model\": model,\n",
        "        \"params\": params,\n",
        "        \"balanced_accuracy_score\": score,\n",
        "    }"
      ]
    },
    {
      "cell_type": "markdown",
      "metadata": {},
      "source": [
        "#### 2.2.6. KNeighborsClassifier"
      ]
    },
    {
      "cell_type": "code",
      "execution_count": 157,
      "metadata": {},
      "outputs": [
        {
          "data": {
            "text/plain": [
              "0.6118715034657471"
            ]
          },
          "execution_count": 157,
          "metadata": {},
          "output_type": "execute_result"
        }
      ],
      "source": [
        "# ? intelex\n",
        "\n",
        "params = {}\n",
        "model = KNeighborsClassifier(**params)\n",
        "\n",
        "model.fit(X_train, y_train)\n",
        "\n",
        "score = balanced_accuracy_score(y_test, model.predict(X_test))\n",
        "score"
      ]
    },
    {
      "cell_type": "code",
      "execution_count": 158,
      "metadata": {},
      "outputs": [],
      "source": [
        "with shelve.open(str(MODELS_DIR / \"cache.shelve\")) as cache:\n",
        "    cache[\"k_neighbors_classifier\"] = {\n",
        "        \"model\": model,\n",
        "        \"params\": params,\n",
        "        \"balanced_accuracy_score\": score,\n",
        "    }"
      ]
    },
    {
      "cell_type": "markdown",
      "metadata": {},
      "source": [
        "#### 2.2.7. SVC"
      ]
    },
    {
      "cell_type": "code",
      "execution_count": 159,
      "metadata": {},
      "outputs": [
        {
          "data": {
            "text/plain": [
              "0.5893705358713628"
            ]
          },
          "execution_count": 159,
          "metadata": {},
          "output_type": "execute_result"
        }
      ],
      "source": [
        "# ? intelex\n",
        "\n",
        "params = {}\n",
        "model = SVC(**params)\n",
        "\n",
        "model.fit(X_train, y_train)\n",
        "\n",
        "score = balanced_accuracy_score(y_test, model.predict(X_test))\n",
        "score"
      ]
    },
    {
      "cell_type": "code",
      "execution_count": 160,
      "metadata": {},
      "outputs": [],
      "source": [
        "with shelve.open(str(MODELS_DIR / \"cache.shelve\")) as cache:\n",
        "    cache[\"svc\"] = {\n",
        "        \"model\": model,\n",
        "        \"params\": params,\n",
        "        \"balanced_accuracy_score\": score,\n",
        "    }"
      ]
    },
    {
      "cell_type": "markdown",
      "metadata": {},
      "source": [
        "#### 2.2.8. DecisionTreeClassifier"
      ]
    },
    {
      "cell_type": "code",
      "execution_count": 161,
      "metadata": {},
      "outputs": [
        {
          "data": {
            "text/plain": [
              "0.6395622954857324"
            ]
          },
          "execution_count": 161,
          "metadata": {},
          "output_type": "execute_result"
        }
      ],
      "source": [
        "params = {}\n",
        "model = DecisionTreeClassifier(**params)\n",
        "\n",
        "model.fit(X_train, y_train)\n",
        "\n",
        "score = balanced_accuracy_score(y_test, model.predict(X_test))\n",
        "score"
      ]
    },
    {
      "cell_type": "code",
      "execution_count": 162,
      "metadata": {},
      "outputs": [],
      "source": [
        "with shelve.open(str(MODELS_DIR / \"cache.shelve\")) as cache:\n",
        "    cache[\"decision_tree_classifier\"] = {\n",
        "        \"model\": model,\n",
        "        \"params\": params,\n",
        "        \"balanced_accuracy_score\": score,\n",
        "    }"
      ]
    },
    {
      "cell_type": "markdown",
      "metadata": {
        "id": "6EDY2PuxXkJr"
      },
      "source": [
        "## Часть 3. Оцените качество моделей"
      ]
    },
    {
      "cell_type": "markdown",
      "metadata": {
        "id": "2fq6c3OLXonm"
      },
      "source": [
        "Вам необходимо познакомиться с метриками задачи классификации из sklearn. Оцените все модели и выберите лучшую по метрике качества Accuracy.\n",
        "\n",
        "С метриками классификации вы можете ознакомиться в [Yandex ML Book](https://education.yandex.ru/handbook/ml/article/metriki-klassifikacii-i-regressii).\n",
        "\n",
        "Для простоты в данном домашнем задании мы будем работать с самой базовой метрикой для задачи классификации - accuracy."
      ]
    },
    {
      "cell_type": "markdown",
      "metadata": {
        "id": "4e3r1qm1fJh5"
      },
      "source": [
        "### **Задание 3.1.** Вам необходимо посчитать метрику для всех моделей и выбрать лучшую модель."
      ]
    },
    {
      "cell_type": "markdown",
      "metadata": {
        "id": "ZMPpyCXVX4kn"
      },
      "source": [
        "Сначала импортируем необходимую функцию из библиотеки sklearn для подсчета accuracy."
      ]
    },
    {
      "cell_type": "code",
      "execution_count": 50,
      "metadata": {
        "id": "46hIpXgNaJ9Q"
      },
      "outputs": [],
      "source": [
        "from sklearn.metrics import accuracy_score"
      ]
    },
    {
      "cell_type": "markdown",
      "metadata": {
        "id": "OHbPHBmzfxpM"
      },
      "source": [
        "В качестве примера, посчитаем метрику accuracy для модели `LogisticRegression`"
      ]
    },
    {
      "cell_type": "code",
      "execution_count": 114,
      "metadata": {},
      "outputs": [
        {
          "name": "stdout",
          "output_type": "stream",
          "text": [
            "Accuracy : 0.7923\n"
          ]
        }
      ],
      "source": [
        "with shelve.open(str(MODELS_DIR / \"cache.shelve\")) as cache:\n",
        "    # Шаг 3. Предсказание на тестовых данных\n",
        "    model = cache[\"logistic_regression\"][\"model\"]\n",
        "    y_pred = model.predict(X_test)\n",
        "\n",
        "    # Шаг 4. Оценка предсказания по метрике accuracy\n",
        "    accuracy = accuracy_score(y_test, y_pred)\n",
        "    print(f\"Accuracy : {accuracy:.4f}\")"
      ]
    },
    {
      "cell_type": "markdown",
      "metadata": {
        "id": "al5fPMVCgsag"
      },
      "source": [
        "Аналогичным образом посчитайте метрику accuracy для остальных моделей"
      ]
    },
    {
      "cell_type": "code",
      "execution_count": 163,
      "metadata": {},
      "outputs": [],
      "source": [
        "with shelve.open(str(MODELS_DIR / \"cache.shelve\")) as cache:\n",
        "    models_results = dict(cache)"
      ]
    },
    {
      "cell_type": "code",
      "execution_count": 164,
      "metadata": {},
      "outputs": [
        {
          "data": {
            "text/plain": [
              "ada_boost_classifier           0.658334\n",
              "decision_tree_classifier       0.639562\n",
              "random_forest_classifier       0.617026\n",
              "k_neighbors_classifier         0.611872\n",
              "svc                            0.589371\n",
              "gaussian_process_classifier    0.584251\n",
              "logistic_regression            0.579167\n",
              "gaussian_nb                    0.564178\n",
              "dtype: float64"
            ]
          },
          "execution_count": 164,
          "metadata": {},
          "output_type": "execute_result"
        }
      ],
      "source": [
        "pd.Series({k: v[\"balanced_accuracy_score\"] for k, v in models_results.items()}).sort_values(\n",
        "    ascending=False\n",
        ")"
      ]
    },
    {
      "cell_type": "markdown",
      "metadata": {
        "id": "8PxPnhsDg2Rv"
      },
      "source": [
        "### Выберите лучшую модель."
      ]
    },
    {
      "cell_type": "code",
      "execution_count": 170,
      "metadata": {},
      "outputs": [],
      "source": [
        "param_grid = {\n",
        "    \"estimator\": [\n",
        "        DecisionTreeClassifier(max_depth=1),\n",
        "        DecisionTreeClassifier(max_depth=2),\n",
        "        DecisionTreeClassifier(max_depth=3),\n",
        "    ],\n",
        "    \"learning_rate\": [1e-4, 3e-4, 1e-3, 5e-3, 1e-2, 1e-1, 1e0],\n",
        "}\n",
        "model = AdaBoostClassifier(algorithm=\"SAMME\")\n",
        "\n",
        "search = GridSearchCV(\n",
        "    model,\n",
        "    param_grid,\n",
        "    cv=4,\n",
        "    # factor=2,\n",
        "    refit=True,\n",
        "    scoring=\"balanced_accuracy\",\n",
        "    # min_resources=\"exhaust\",\n",
        "    n_jobs=-1,\n",
        "    verbose=1,\n",
        ")"
      ]
    },
    {
      "cell_type": "code",
      "execution_count": 171,
      "metadata": {},
      "outputs": [
        {
          "name": "stdout",
          "output_type": "stream",
          "text": [
            "n_iterations: 5\n",
            "n_required_iterations: 5\n",
            "n_possible_iterations: 5\n",
            "min_resources_: 97\n",
            "max_resources_: 1557\n",
            "aggressive_elimination: False\n",
            "factor: 2\n",
            "----------\n",
            "iter: 0\n",
            "n_candidates: 24\n",
            "n_resources: 97\n",
            "Fitting 4 folds for each of 24 candidates, totalling 96 fits\n",
            "----------\n",
            "iter: 1\n",
            "n_candidates: 12\n",
            "n_resources: 194\n",
            "Fitting 4 folds for each of 12 candidates, totalling 48 fits\n",
            "----------\n",
            "iter: 2\n",
            "n_candidates: 6\n",
            "n_resources: 388\n",
            "Fitting 4 folds for each of 6 candidates, totalling 24 fits\n",
            "----------\n",
            "iter: 3\n",
            "n_candidates: 3\n",
            "n_resources: 776\n",
            "Fitting 4 folds for each of 3 candidates, totalling 12 fits\n",
            "----------\n",
            "iter: 4\n",
            "n_candidates: 2\n",
            "n_resources: 1552\n",
            "Fitting 4 folds for each of 2 candidates, totalling 8 fits\n"
          ]
        },
        {
          "data": {
            "text/html": [
              "<style>#sk-container-id-8 {\n",
              "  /* Definition of color scheme common for light and dark mode */\n",
              "  --sklearn-color-text: black;\n",
              "  --sklearn-color-line: gray;\n",
              "  /* Definition of color scheme for unfitted estimators */\n",
              "  --sklearn-color-unfitted-level-0: #fff5e6;\n",
              "  --sklearn-color-unfitted-level-1: #f6e4d2;\n",
              "  --sklearn-color-unfitted-level-2: #ffe0b3;\n",
              "  --sklearn-color-unfitted-level-3: chocolate;\n",
              "  /* Definition of color scheme for fitted estimators */\n",
              "  --sklearn-color-fitted-level-0: #f0f8ff;\n",
              "  --sklearn-color-fitted-level-1: #d4ebff;\n",
              "  --sklearn-color-fitted-level-2: #b3dbfd;\n",
              "  --sklearn-color-fitted-level-3: cornflowerblue;\n",
              "\n",
              "  /* Specific color for light theme */\n",
              "  --sklearn-color-text-on-default-background: var(--sg-text-color, var(--theme-code-foreground, var(--jp-content-font-color1, black)));\n",
              "  --sklearn-color-background: var(--sg-background-color, var(--theme-background, var(--jp-layout-color0, white)));\n",
              "  --sklearn-color-border-box: var(--sg-text-color, var(--theme-code-foreground, var(--jp-content-font-color1, black)));\n",
              "  --sklearn-color-icon: #696969;\n",
              "\n",
              "  @media (prefers-color-scheme: dark) {\n",
              "    /* Redefinition of color scheme for dark theme */\n",
              "    --sklearn-color-text-on-default-background: var(--sg-text-color, var(--theme-code-foreground, var(--jp-content-font-color1, white)));\n",
              "    --sklearn-color-background: var(--sg-background-color, var(--theme-background, var(--jp-layout-color0, #111)));\n",
              "    --sklearn-color-border-box: var(--sg-text-color, var(--theme-code-foreground, var(--jp-content-font-color1, white)));\n",
              "    --sklearn-color-icon: #878787;\n",
              "  }\n",
              "}\n",
              "\n",
              "#sk-container-id-8 {\n",
              "  color: var(--sklearn-color-text);\n",
              "}\n",
              "\n",
              "#sk-container-id-8 pre {\n",
              "  padding: 0;\n",
              "}\n",
              "\n",
              "#sk-container-id-8 input.sk-hidden--visually {\n",
              "  border: 0;\n",
              "  clip: rect(1px 1px 1px 1px);\n",
              "  clip: rect(1px, 1px, 1px, 1px);\n",
              "  height: 1px;\n",
              "  margin: -1px;\n",
              "  overflow: hidden;\n",
              "  padding: 0;\n",
              "  position: absolute;\n",
              "  width: 1px;\n",
              "}\n",
              "\n",
              "#sk-container-id-8 div.sk-dashed-wrapped {\n",
              "  border: 1px dashed var(--sklearn-color-line);\n",
              "  margin: 0 0.4em 0.5em 0.4em;\n",
              "  box-sizing: border-box;\n",
              "  padding-bottom: 0.4em;\n",
              "  background-color: var(--sklearn-color-background);\n",
              "}\n",
              "\n",
              "#sk-container-id-8 div.sk-container {\n",
              "  /* jupyter's `normalize.less` sets `[hidden] { display: none; }`\n",
              "     but bootstrap.min.css set `[hidden] { display: none !important; }`\n",
              "     so we also need the `!important` here to be able to override the\n",
              "     default hidden behavior on the sphinx rendered scikit-learn.org.\n",
              "     See: https://github.com/scikit-learn/scikit-learn/issues/21755 */\n",
              "  display: inline-block !important;\n",
              "  position: relative;\n",
              "}\n",
              "\n",
              "#sk-container-id-8 div.sk-text-repr-fallback {\n",
              "  display: none;\n",
              "}\n",
              "\n",
              "div.sk-parallel-item,\n",
              "div.sk-serial,\n",
              "div.sk-item {\n",
              "  /* draw centered vertical line to link estimators */\n",
              "  background-image: linear-gradient(var(--sklearn-color-text-on-default-background), var(--sklearn-color-text-on-default-background));\n",
              "  background-size: 2px 100%;\n",
              "  background-repeat: no-repeat;\n",
              "  background-position: center center;\n",
              "}\n",
              "\n",
              "/* Parallel-specific style estimator block */\n",
              "\n",
              "#sk-container-id-8 div.sk-parallel-item::after {\n",
              "  content: \"\";\n",
              "  width: 100%;\n",
              "  border-bottom: 2px solid var(--sklearn-color-text-on-default-background);\n",
              "  flex-grow: 1;\n",
              "}\n",
              "\n",
              "#sk-container-id-8 div.sk-parallel {\n",
              "  display: flex;\n",
              "  align-items: stretch;\n",
              "  justify-content: center;\n",
              "  background-color: var(--sklearn-color-background);\n",
              "  position: relative;\n",
              "}\n",
              "\n",
              "#sk-container-id-8 div.sk-parallel-item {\n",
              "  display: flex;\n",
              "  flex-direction: column;\n",
              "}\n",
              "\n",
              "#sk-container-id-8 div.sk-parallel-item:first-child::after {\n",
              "  align-self: flex-end;\n",
              "  width: 50%;\n",
              "}\n",
              "\n",
              "#sk-container-id-8 div.sk-parallel-item:last-child::after {\n",
              "  align-self: flex-start;\n",
              "  width: 50%;\n",
              "}\n",
              "\n",
              "#sk-container-id-8 div.sk-parallel-item:only-child::after {\n",
              "  width: 0;\n",
              "}\n",
              "\n",
              "/* Serial-specific style estimator block */\n",
              "\n",
              "#sk-container-id-8 div.sk-serial {\n",
              "  display: flex;\n",
              "  flex-direction: column;\n",
              "  align-items: center;\n",
              "  background-color: var(--sklearn-color-background);\n",
              "  padding-right: 1em;\n",
              "  padding-left: 1em;\n",
              "}\n",
              "\n",
              "\n",
              "/* Toggleable style: style used for estimator/Pipeline/ColumnTransformer box that is\n",
              "clickable and can be expanded/collapsed.\n",
              "- Pipeline and ColumnTransformer use this feature and define the default style\n",
              "- Estimators will overwrite some part of the style using the `sk-estimator` class\n",
              "*/\n",
              "\n",
              "/* Pipeline and ColumnTransformer style (default) */\n",
              "\n",
              "#sk-container-id-8 div.sk-toggleable {\n",
              "  /* Default theme specific background. It is overwritten whether we have a\n",
              "  specific estimator or a Pipeline/ColumnTransformer */\n",
              "  background-color: var(--sklearn-color-background);\n",
              "}\n",
              "\n",
              "/* Toggleable label */\n",
              "#sk-container-id-8 label.sk-toggleable__label {\n",
              "  cursor: pointer;\n",
              "  display: block;\n",
              "  width: 100%;\n",
              "  margin-bottom: 0;\n",
              "  padding: 0.5em;\n",
              "  box-sizing: border-box;\n",
              "  text-align: center;\n",
              "}\n",
              "\n",
              "#sk-container-id-8 label.sk-toggleable__label-arrow:before {\n",
              "  /* Arrow on the left of the label */\n",
              "  content: \"▸\";\n",
              "  float: left;\n",
              "  margin-right: 0.25em;\n",
              "  color: var(--sklearn-color-icon);\n",
              "}\n",
              "\n",
              "#sk-container-id-8 label.sk-toggleable__label-arrow:hover:before {\n",
              "  color: var(--sklearn-color-text);\n",
              "}\n",
              "\n",
              "/* Toggleable content - dropdown */\n",
              "\n",
              "#sk-container-id-8 div.sk-toggleable__content {\n",
              "  max-height: 0;\n",
              "  max-width: 0;\n",
              "  overflow: hidden;\n",
              "  text-align: left;\n",
              "  /* unfitted */\n",
              "  background-color: var(--sklearn-color-unfitted-level-0);\n",
              "}\n",
              "\n",
              "#sk-container-id-8 div.sk-toggleable__content.fitted {\n",
              "  /* fitted */\n",
              "  background-color: var(--sklearn-color-fitted-level-0);\n",
              "}\n",
              "\n",
              "#sk-container-id-8 div.sk-toggleable__content pre {\n",
              "  margin: 0.2em;\n",
              "  border-radius: 0.25em;\n",
              "  color: var(--sklearn-color-text);\n",
              "  /* unfitted */\n",
              "  background-color: var(--sklearn-color-unfitted-level-0);\n",
              "}\n",
              "\n",
              "#sk-container-id-8 div.sk-toggleable__content.fitted pre {\n",
              "  /* unfitted */\n",
              "  background-color: var(--sklearn-color-fitted-level-0);\n",
              "}\n",
              "\n",
              "#sk-container-id-8 input.sk-toggleable__control:checked~div.sk-toggleable__content {\n",
              "  /* Expand drop-down */\n",
              "  max-height: 200px;\n",
              "  max-width: 100%;\n",
              "  overflow: auto;\n",
              "}\n",
              "\n",
              "#sk-container-id-8 input.sk-toggleable__control:checked~label.sk-toggleable__label-arrow:before {\n",
              "  content: \"▾\";\n",
              "}\n",
              "\n",
              "/* Pipeline/ColumnTransformer-specific style */\n",
              "\n",
              "#sk-container-id-8 div.sk-label input.sk-toggleable__control:checked~label.sk-toggleable__label {\n",
              "  color: var(--sklearn-color-text);\n",
              "  background-color: var(--sklearn-color-unfitted-level-2);\n",
              "}\n",
              "\n",
              "#sk-container-id-8 div.sk-label.fitted input.sk-toggleable__control:checked~label.sk-toggleable__label {\n",
              "  background-color: var(--sklearn-color-fitted-level-2);\n",
              "}\n",
              "\n",
              "/* Estimator-specific style */\n",
              "\n",
              "/* Colorize estimator box */\n",
              "#sk-container-id-8 div.sk-estimator input.sk-toggleable__control:checked~label.sk-toggleable__label {\n",
              "  /* unfitted */\n",
              "  background-color: var(--sklearn-color-unfitted-level-2);\n",
              "}\n",
              "\n",
              "#sk-container-id-8 div.sk-estimator.fitted input.sk-toggleable__control:checked~label.sk-toggleable__label {\n",
              "  /* fitted */\n",
              "  background-color: var(--sklearn-color-fitted-level-2);\n",
              "}\n",
              "\n",
              "#sk-container-id-8 div.sk-label label.sk-toggleable__label,\n",
              "#sk-container-id-8 div.sk-label label {\n",
              "  /* The background is the default theme color */\n",
              "  color: var(--sklearn-color-text-on-default-background);\n",
              "}\n",
              "\n",
              "/* On hover, darken the color of the background */\n",
              "#sk-container-id-8 div.sk-label:hover label.sk-toggleable__label {\n",
              "  color: var(--sklearn-color-text);\n",
              "  background-color: var(--sklearn-color-unfitted-level-2);\n",
              "}\n",
              "\n",
              "/* Label box, darken color on hover, fitted */\n",
              "#sk-container-id-8 div.sk-label.fitted:hover label.sk-toggleable__label.fitted {\n",
              "  color: var(--sklearn-color-text);\n",
              "  background-color: var(--sklearn-color-fitted-level-2);\n",
              "}\n",
              "\n",
              "/* Estimator label */\n",
              "\n",
              "#sk-container-id-8 div.sk-label label {\n",
              "  font-family: monospace;\n",
              "  font-weight: bold;\n",
              "  display: inline-block;\n",
              "  line-height: 1.2em;\n",
              "}\n",
              "\n",
              "#sk-container-id-8 div.sk-label-container {\n",
              "  text-align: center;\n",
              "}\n",
              "\n",
              "/* Estimator-specific */\n",
              "#sk-container-id-8 div.sk-estimator {\n",
              "  font-family: monospace;\n",
              "  border: 1px dotted var(--sklearn-color-border-box);\n",
              "  border-radius: 0.25em;\n",
              "  box-sizing: border-box;\n",
              "  margin-bottom: 0.5em;\n",
              "  /* unfitted */\n",
              "  background-color: var(--sklearn-color-unfitted-level-0);\n",
              "}\n",
              "\n",
              "#sk-container-id-8 div.sk-estimator.fitted {\n",
              "  /* fitted */\n",
              "  background-color: var(--sklearn-color-fitted-level-0);\n",
              "}\n",
              "\n",
              "/* on hover */\n",
              "#sk-container-id-8 div.sk-estimator:hover {\n",
              "  /* unfitted */\n",
              "  background-color: var(--sklearn-color-unfitted-level-2);\n",
              "}\n",
              "\n",
              "#sk-container-id-8 div.sk-estimator.fitted:hover {\n",
              "  /* fitted */\n",
              "  background-color: var(--sklearn-color-fitted-level-2);\n",
              "}\n",
              "\n",
              "/* Specification for estimator info (e.g. \"i\" and \"?\") */\n",
              "\n",
              "/* Common style for \"i\" and \"?\" */\n",
              "\n",
              ".sk-estimator-doc-link,\n",
              "a:link.sk-estimator-doc-link,\n",
              "a:visited.sk-estimator-doc-link {\n",
              "  float: right;\n",
              "  font-size: smaller;\n",
              "  line-height: 1em;\n",
              "  font-family: monospace;\n",
              "  background-color: var(--sklearn-color-background);\n",
              "  border-radius: 1em;\n",
              "  height: 1em;\n",
              "  width: 1em;\n",
              "  text-decoration: none !important;\n",
              "  margin-left: 1ex;\n",
              "  /* unfitted */\n",
              "  border: var(--sklearn-color-unfitted-level-1) 1pt solid;\n",
              "  color: var(--sklearn-color-unfitted-level-1);\n",
              "}\n",
              "\n",
              ".sk-estimator-doc-link.fitted,\n",
              "a:link.sk-estimator-doc-link.fitted,\n",
              "a:visited.sk-estimator-doc-link.fitted {\n",
              "  /* fitted */\n",
              "  border: var(--sklearn-color-fitted-level-1) 1pt solid;\n",
              "  color: var(--sklearn-color-fitted-level-1);\n",
              "}\n",
              "\n",
              "/* On hover */\n",
              "div.sk-estimator:hover .sk-estimator-doc-link:hover,\n",
              ".sk-estimator-doc-link:hover,\n",
              "div.sk-label-container:hover .sk-estimator-doc-link:hover,\n",
              ".sk-estimator-doc-link:hover {\n",
              "  /* unfitted */\n",
              "  background-color: var(--sklearn-color-unfitted-level-3);\n",
              "  color: var(--sklearn-color-background);\n",
              "  text-decoration: none;\n",
              "}\n",
              "\n",
              "div.sk-estimator.fitted:hover .sk-estimator-doc-link.fitted:hover,\n",
              ".sk-estimator-doc-link.fitted:hover,\n",
              "div.sk-label-container:hover .sk-estimator-doc-link.fitted:hover,\n",
              ".sk-estimator-doc-link.fitted:hover {\n",
              "  /* fitted */\n",
              "  background-color: var(--sklearn-color-fitted-level-3);\n",
              "  color: var(--sklearn-color-background);\n",
              "  text-decoration: none;\n",
              "}\n",
              "\n",
              "/* Span, style for the box shown on hovering the info icon */\n",
              ".sk-estimator-doc-link span {\n",
              "  display: none;\n",
              "  z-index: 9999;\n",
              "  position: relative;\n",
              "  font-weight: normal;\n",
              "  right: .2ex;\n",
              "  padding: .5ex;\n",
              "  margin: .5ex;\n",
              "  width: min-content;\n",
              "  min-width: 20ex;\n",
              "  max-width: 50ex;\n",
              "  color: var(--sklearn-color-text);\n",
              "  box-shadow: 2pt 2pt 4pt #999;\n",
              "  /* unfitted */\n",
              "  background: var(--sklearn-color-unfitted-level-0);\n",
              "  border: .5pt solid var(--sklearn-color-unfitted-level-3);\n",
              "}\n",
              "\n",
              ".sk-estimator-doc-link.fitted span {\n",
              "  /* fitted */\n",
              "  background: var(--sklearn-color-fitted-level-0);\n",
              "  border: var(--sklearn-color-fitted-level-3);\n",
              "}\n",
              "\n",
              ".sk-estimator-doc-link:hover span {\n",
              "  display: block;\n",
              "}\n",
              "\n",
              "/* \"?\"-specific style due to the `<a>` HTML tag */\n",
              "\n",
              "#sk-container-id-8 a.estimator_doc_link {\n",
              "  float: right;\n",
              "  font-size: 1rem;\n",
              "  line-height: 1em;\n",
              "  font-family: monospace;\n",
              "  background-color: var(--sklearn-color-background);\n",
              "  border-radius: 1rem;\n",
              "  height: 1rem;\n",
              "  width: 1rem;\n",
              "  text-decoration: none;\n",
              "  /* unfitted */\n",
              "  color: var(--sklearn-color-unfitted-level-1);\n",
              "  border: var(--sklearn-color-unfitted-level-1) 1pt solid;\n",
              "}\n",
              "\n",
              "#sk-container-id-8 a.estimator_doc_link.fitted {\n",
              "  /* fitted */\n",
              "  border: var(--sklearn-color-fitted-level-1) 1pt solid;\n",
              "  color: var(--sklearn-color-fitted-level-1);\n",
              "}\n",
              "\n",
              "/* On hover */\n",
              "#sk-container-id-8 a.estimator_doc_link:hover {\n",
              "  /* unfitted */\n",
              "  background-color: var(--sklearn-color-unfitted-level-3);\n",
              "  color: var(--sklearn-color-background);\n",
              "  text-decoration: none;\n",
              "}\n",
              "\n",
              "#sk-container-id-8 a.estimator_doc_link.fitted:hover {\n",
              "  /* fitted */\n",
              "  background-color: var(--sklearn-color-fitted-level-3);\n",
              "}\n",
              "</style><div id=\"sk-container-id-8\" class=\"sk-top-container\"><div class=\"sk-text-repr-fallback\"><pre>HalvingGridSearchCV(cv=4, estimator=AdaBoostClassifier(algorithm=&#x27;SAMME&#x27;),\n",
              "                    factor=2, n_jobs=-1,\n",
              "                    param_grid={&#x27;estimator&#x27;: [DecisionTreeClassifier(max_depth=1),\n",
              "                                              DecisionTreeClassifier(max_depth=2),\n",
              "                                              DecisionTreeClassifier(max_depth=3)],\n",
              "                                &#x27;learning_rate&#x27;: [0.0001, 0.0003, 0.001, 0.005,\n",
              "                                                  0.01, 0.1, 1.0, 2.0]},\n",
              "                    scoring=&#x27;balanced_accuracy&#x27;, verbose=1)</pre><b>In a Jupyter environment, please rerun this cell to show the HTML representation or trust the notebook. <br />On GitHub, the HTML representation is unable to render, please try loading this page with nbviewer.org.</b></div><div class=\"sk-container\" hidden><div class=\"sk-item sk-dashed-wrapped\"><div class=\"sk-label-container\"><div class=\"sk-label fitted sk-toggleable\"><input class=\"sk-toggleable__control sk-hidden--visually\" id=\"sk-estimator-id-21\" type=\"checkbox\" ><label for=\"sk-estimator-id-21\" class=\"sk-toggleable__label fitted sk-toggleable__label-arrow fitted\">&nbsp;&nbsp;HalvingGridSearchCV<a class=\"sk-estimator-doc-link fitted\" rel=\"noreferrer\" target=\"_blank\" href=\"https://scikit-learn.org/1.5/modules/generated/sklearn.model_selection.HalvingGridSearchCV.html\">?<span>Documentation for HalvingGridSearchCV</span></a><span class=\"sk-estimator-doc-link fitted\">i<span>Fitted</span></span></label><div class=\"sk-toggleable__content fitted\"><pre>HalvingGridSearchCV(cv=4, estimator=AdaBoostClassifier(algorithm=&#x27;SAMME&#x27;),\n",
              "                    factor=2, n_jobs=-1,\n",
              "                    param_grid={&#x27;estimator&#x27;: [DecisionTreeClassifier(max_depth=1),\n",
              "                                              DecisionTreeClassifier(max_depth=2),\n",
              "                                              DecisionTreeClassifier(max_depth=3)],\n",
              "                                &#x27;learning_rate&#x27;: [0.0001, 0.0003, 0.001, 0.005,\n",
              "                                                  0.01, 0.1, 1.0, 2.0]},\n",
              "                    scoring=&#x27;balanced_accuracy&#x27;, verbose=1)</pre></div> </div></div><div class=\"sk-parallel\"><div class=\"sk-parallel-item\"><div class=\"sk-item\"><div class=\"sk-label-container\"><div class=\"sk-label fitted sk-toggleable\"><input class=\"sk-toggleable__control sk-hidden--visually\" id=\"sk-estimator-id-22\" type=\"checkbox\" ><label for=\"sk-estimator-id-22\" class=\"sk-toggleable__label fitted sk-toggleable__label-arrow fitted\">best_estimator_: AdaBoostClassifier</label><div class=\"sk-toggleable__content fitted\"><pre>AdaBoostClassifier(algorithm=&#x27;SAMME&#x27;,\n",
              "                   estimator=DecisionTreeClassifier(max_depth=3),\n",
              "                   learning_rate=0.0003)</pre></div> </div></div><div class=\"sk-serial\"><div class=\"sk-item sk-dashed-wrapped\"><div class=\"sk-parallel\"><div class=\"sk-parallel-item\"><div class=\"sk-item\"><div class=\"sk-label-container\"><div class=\"sk-label fitted sk-toggleable\"><input class=\"sk-toggleable__control sk-hidden--visually\" id=\"sk-estimator-id-23\" type=\"checkbox\" ><label for=\"sk-estimator-id-23\" class=\"sk-toggleable__label fitted sk-toggleable__label-arrow fitted\">estimator: DecisionTreeClassifier</label><div class=\"sk-toggleable__content fitted\"><pre>DecisionTreeClassifier(max_depth=3)</pre></div> </div></div><div class=\"sk-serial\"><div class=\"sk-item\"><div class=\"sk-estimator fitted sk-toggleable\"><input class=\"sk-toggleable__control sk-hidden--visually\" id=\"sk-estimator-id-24\" type=\"checkbox\" ><label for=\"sk-estimator-id-24\" class=\"sk-toggleable__label fitted sk-toggleable__label-arrow fitted\">&nbsp;DecisionTreeClassifier<a class=\"sk-estimator-doc-link fitted\" rel=\"noreferrer\" target=\"_blank\" href=\"https://scikit-learn.org/1.5/modules/generated/sklearn.tree.DecisionTreeClassifier.html\">?<span>Documentation for DecisionTreeClassifier</span></a></label><div class=\"sk-toggleable__content fitted\"><pre>DecisionTreeClassifier(max_depth=3)</pre></div> </div></div></div></div></div></div></div></div></div></div></div></div></div></div>"
            ],
            "text/plain": [
              "HalvingGridSearchCV(cv=4, estimator=AdaBoostClassifier(algorithm='SAMME'),\n",
              "                    factor=2, n_jobs=-1,\n",
              "                    param_grid={'estimator': [DecisionTreeClassifier(max_depth=1),\n",
              "                                              DecisionTreeClassifier(max_depth=2),\n",
              "                                              DecisionTreeClassifier(max_depth=3)],\n",
              "                                'learning_rate': [0.0001, 0.0003, 0.001, 0.005,\n",
              "                                                  0.01, 0.1, 1.0, 2.0]},\n",
              "                    scoring='balanced_accuracy', verbose=1)"
            ]
          },
          "execution_count": 171,
          "metadata": {},
          "output_type": "execute_result"
        }
      ],
      "source": [
        "search.fit(X, y)"
      ]
    },
    {
      "cell_type": "code",
      "execution_count": 172,
      "metadata": {},
      "outputs": [
        {
          "data": {
            "text/plain": [
              "({'estimator': DecisionTreeClassifier(max_depth=3), 'learning_rate': 0.0003},\n",
              " 0.579790598666696)"
            ]
          },
          "execution_count": 172,
          "metadata": {},
          "output_type": "execute_result"
        }
      ],
      "source": [
        "search.best_params_, search.best_score_"
      ]
    },
    {
      "cell_type": "markdown",
      "metadata": {
        "id": "cY5PRBS-yWro"
      },
      "source": [
        "### Файл `submission.csv`"
      ]
    },
    {
      "cell_type": "markdown",
      "metadata": {
        "id": "a7h-o3dv1gvV"
      },
      "source": [
        "Вам нужно вместо значений в `submission.csv` файле в колонке `isAlive`, подставить свои предсказания и сохранить измененный файл."
      ]
    },
    {
      "cell_type": "code",
      "execution_count": null,
      "metadata": {
        "colab": {
          "base_uri": "https://localhost:8080/"
        },
        "id": "c_hZcwQm1B6U",
        "outputId": "fdaeba81-f754-44a0-c902-51ff251ba7c9"
      },
      "outputs": [
        {
          "name": "stdout",
          "output_type": "stream",
          "text": [
            "Downloading...\n",
            "From: https://drive.google.com/uc?id=1M14conWjAW2QLoyCXbHEAy8bql2f99eF\n",
            "To: /content/submission.csv\n",
            "\r  0% 0.00/2.74k [00:00<?, ?B/s]\r100% 2.74k/2.74k [00:00<00:00, 8.34MB/s]\n"
          ]
        }
      ],
      "source": [
        "!gdown 1M14conWjAW2QLoyCXbHEAy8bql2f99eF"
      ]
    },
    {
      "cell_type": "code",
      "execution_count": null,
      "metadata": {
        "id": "9ae_dGCf1Jpi"
      },
      "outputs": [],
      "source": [
        "submission = pd.read_csv(\"/content/submission.csv\", index_col='S.No')"
      ]
    },
    {
      "cell_type": "code",
      "execution_count": null,
      "metadata": {
        "id": "sqRb1Zmz8rJ4"
      },
      "outputs": [],
      "source": []
    },
    {
      "cell_type": "code",
      "execution_count": null,
      "metadata": {
        "colab": {
          "base_uri": "https://localhost:8080/",
          "height": 455
        },
        "id": "JbruP2U01N-z",
        "outputId": "d92ed68a-f3bf-488e-e420-8c565a975d5d"
      },
      "outputs": [
        {
          "data": {
            "application/vnd.google.colaboratory.intrinsic+json": {
              "summary": "{\n  \"name\": \"submission\",\n  \"rows\": 389,\n  \"fields\": [\n    {\n      \"column\": \"S.No\",\n      \"properties\": {\n        \"dtype\": \"number\",\n        \"std\": 112,\n        \"min\": 1558,\n        \"max\": 1946,\n        \"num_unique_values\": 389,\n        \"samples\": [\n          1829,\n          1604,\n          1725\n        ],\n        \"semantic_type\": \"\",\n        \"description\": \"\"\n      }\n    },\n    {\n      \"column\": \"isAlive\",\n      \"properties\": {\n        \"dtype\": \"number\",\n        \"std\": 0,\n        \"min\": 0,\n        \"max\": 0,\n        \"num_unique_values\": 1,\n        \"samples\": [\n          0\n        ],\n        \"semantic_type\": \"\",\n        \"description\": \"\"\n      }\n    }\n  ]\n}",
              "type": "dataframe",
              "variable_name": "submission"
            },
            "text/html": [
              "\n",
              "  <div id=\"df-c240c367-60a9-4aef-88cc-3f1e3f883818\" class=\"colab-df-container\">\n",
              "    <div>\n",
              "<style scoped>\n",
              "    .dataframe tbody tr th:only-of-type {\n",
              "        vertical-align: middle;\n",
              "    }\n",
              "\n",
              "    .dataframe tbody tr th {\n",
              "        vertical-align: top;\n",
              "    }\n",
              "\n",
              "    .dataframe thead th {\n",
              "        text-align: right;\n",
              "    }\n",
              "</style>\n",
              "<table border=\"1\" class=\"dataframe\">\n",
              "  <thead>\n",
              "    <tr style=\"text-align: right;\">\n",
              "      <th></th>\n",
              "      <th>isAlive</th>\n",
              "    </tr>\n",
              "    <tr>\n",
              "      <th>S.No</th>\n",
              "      <th></th>\n",
              "    </tr>\n",
              "  </thead>\n",
              "  <tbody>\n",
              "    <tr>\n",
              "      <th>1558</th>\n",
              "      <td>0</td>\n",
              "    </tr>\n",
              "    <tr>\n",
              "      <th>1559</th>\n",
              "      <td>0</td>\n",
              "    </tr>\n",
              "    <tr>\n",
              "      <th>1560</th>\n",
              "      <td>0</td>\n",
              "    </tr>\n",
              "    <tr>\n",
              "      <th>1561</th>\n",
              "      <td>0</td>\n",
              "    </tr>\n",
              "    <tr>\n",
              "      <th>1562</th>\n",
              "      <td>0</td>\n",
              "    </tr>\n",
              "    <tr>\n",
              "      <th>...</th>\n",
              "      <td>...</td>\n",
              "    </tr>\n",
              "    <tr>\n",
              "      <th>1942</th>\n",
              "      <td>0</td>\n",
              "    </tr>\n",
              "    <tr>\n",
              "      <th>1943</th>\n",
              "      <td>0</td>\n",
              "    </tr>\n",
              "    <tr>\n",
              "      <th>1944</th>\n",
              "      <td>0</td>\n",
              "    </tr>\n",
              "    <tr>\n",
              "      <th>1945</th>\n",
              "      <td>0</td>\n",
              "    </tr>\n",
              "    <tr>\n",
              "      <th>1946</th>\n",
              "      <td>0</td>\n",
              "    </tr>\n",
              "  </tbody>\n",
              "</table>\n",
              "<p>389 rows × 1 columns</p>\n",
              "</div>\n",
              "    <div class=\"colab-df-buttons\">\n",
              "\n",
              "  <div class=\"colab-df-container\">\n",
              "    <button class=\"colab-df-convert\" onclick=\"convertToInteractive('df-c240c367-60a9-4aef-88cc-3f1e3f883818')\"\n",
              "            title=\"Convert this dataframe to an interactive table.\"\n",
              "            style=\"display:none;\">\n",
              "\n",
              "  <svg xmlns=\"http://www.w3.org/2000/svg\" height=\"24px\" viewBox=\"0 -960 960 960\">\n",
              "    <path d=\"M120-120v-720h720v720H120Zm60-500h600v-160H180v160Zm220 220h160v-160H400v160Zm0 220h160v-160H400v160ZM180-400h160v-160H180v160Zm440 0h160v-160H620v160ZM180-180h160v-160H180v160Zm440 0h160v-160H620v160Z\"/>\n",
              "  </svg>\n",
              "    </button>\n",
              "\n",
              "  <style>\n",
              "    .colab-df-container {\n",
              "      display:flex;\n",
              "      gap: 12px;\n",
              "    }\n",
              "\n",
              "    .colab-df-convert {\n",
              "      background-color: #E8F0FE;\n",
              "      border: none;\n",
              "      border-radius: 50%;\n",
              "      cursor: pointer;\n",
              "      display: none;\n",
              "      fill: #1967D2;\n",
              "      height: 32px;\n",
              "      padding: 0 0 0 0;\n",
              "      width: 32px;\n",
              "    }\n",
              "\n",
              "    .colab-df-convert:hover {\n",
              "      background-color: #E2EBFA;\n",
              "      box-shadow: 0px 1px 2px rgba(60, 64, 67, 0.3), 0px 1px 3px 1px rgba(60, 64, 67, 0.15);\n",
              "      fill: #174EA6;\n",
              "    }\n",
              "\n",
              "    .colab-df-buttons div {\n",
              "      margin-bottom: 4px;\n",
              "    }\n",
              "\n",
              "    [theme=dark] .colab-df-convert {\n",
              "      background-color: #3B4455;\n",
              "      fill: #D2E3FC;\n",
              "    }\n",
              "\n",
              "    [theme=dark] .colab-df-convert:hover {\n",
              "      background-color: #434B5C;\n",
              "      box-shadow: 0px 1px 3px 1px rgba(0, 0, 0, 0.15);\n",
              "      filter: drop-shadow(0px 1px 2px rgba(0, 0, 0, 0.3));\n",
              "      fill: #FFFFFF;\n",
              "    }\n",
              "  </style>\n",
              "\n",
              "    <script>\n",
              "      const buttonEl =\n",
              "        document.querySelector('#df-c240c367-60a9-4aef-88cc-3f1e3f883818 button.colab-df-convert');\n",
              "      buttonEl.style.display =\n",
              "        google.colab.kernel.accessAllowed ? 'block' : 'none';\n",
              "\n",
              "      async function convertToInteractive(key) {\n",
              "        const element = document.querySelector('#df-c240c367-60a9-4aef-88cc-3f1e3f883818');\n",
              "        const dataTable =\n",
              "          await google.colab.kernel.invokeFunction('convertToInteractive',\n",
              "                                                    [key], {});\n",
              "        if (!dataTable) return;\n",
              "\n",
              "        const docLinkHtml = 'Like what you see? Visit the ' +\n",
              "          '<a target=\"_blank\" href=https://colab.research.google.com/notebooks/data_table.ipynb>data table notebook</a>'\n",
              "          + ' to learn more about interactive tables.';\n",
              "        element.innerHTML = '';\n",
              "        dataTable['output_type'] = 'display_data';\n",
              "        await google.colab.output.renderOutput(dataTable, element);\n",
              "        const docLink = document.createElement('div');\n",
              "        docLink.innerHTML = docLinkHtml;\n",
              "        element.appendChild(docLink);\n",
              "      }\n",
              "    </script>\n",
              "  </div>\n",
              "\n",
              "\n",
              "<div id=\"df-9d3444d4-0c12-4a8f-af11-fad92857357f\">\n",
              "  <button class=\"colab-df-quickchart\" onclick=\"quickchart('df-9d3444d4-0c12-4a8f-af11-fad92857357f')\"\n",
              "            title=\"Suggest charts\"\n",
              "            style=\"display:none;\">\n",
              "\n",
              "<svg xmlns=\"http://www.w3.org/2000/svg\" height=\"24px\"viewBox=\"0 0 24 24\"\n",
              "     width=\"24px\">\n",
              "    <g>\n",
              "        <path d=\"M19 3H5c-1.1 0-2 .9-2 2v14c0 1.1.9 2 2 2h14c1.1 0 2-.9 2-2V5c0-1.1-.9-2-2-2zM9 17H7v-7h2v7zm4 0h-2V7h2v10zm4 0h-2v-4h2v4z\"/>\n",
              "    </g>\n",
              "</svg>\n",
              "  </button>\n",
              "\n",
              "<style>\n",
              "  .colab-df-quickchart {\n",
              "      --bg-color: #E8F0FE;\n",
              "      --fill-color: #1967D2;\n",
              "      --hover-bg-color: #E2EBFA;\n",
              "      --hover-fill-color: #174EA6;\n",
              "      --disabled-fill-color: #AAA;\n",
              "      --disabled-bg-color: #DDD;\n",
              "  }\n",
              "\n",
              "  [theme=dark] .colab-df-quickchart {\n",
              "      --bg-color: #3B4455;\n",
              "      --fill-color: #D2E3FC;\n",
              "      --hover-bg-color: #434B5C;\n",
              "      --hover-fill-color: #FFFFFF;\n",
              "      --disabled-bg-color: #3B4455;\n",
              "      --disabled-fill-color: #666;\n",
              "  }\n",
              "\n",
              "  .colab-df-quickchart {\n",
              "    background-color: var(--bg-color);\n",
              "    border: none;\n",
              "    border-radius: 50%;\n",
              "    cursor: pointer;\n",
              "    display: none;\n",
              "    fill: var(--fill-color);\n",
              "    height: 32px;\n",
              "    padding: 0;\n",
              "    width: 32px;\n",
              "  }\n",
              "\n",
              "  .colab-df-quickchart:hover {\n",
              "    background-color: var(--hover-bg-color);\n",
              "    box-shadow: 0 1px 2px rgba(60, 64, 67, 0.3), 0 1px 3px 1px rgba(60, 64, 67, 0.15);\n",
              "    fill: var(--button-hover-fill-color);\n",
              "  }\n",
              "\n",
              "  .colab-df-quickchart-complete:disabled,\n",
              "  .colab-df-quickchart-complete:disabled:hover {\n",
              "    background-color: var(--disabled-bg-color);\n",
              "    fill: var(--disabled-fill-color);\n",
              "    box-shadow: none;\n",
              "  }\n",
              "\n",
              "  .colab-df-spinner {\n",
              "    border: 2px solid var(--fill-color);\n",
              "    border-color: transparent;\n",
              "    border-bottom-color: var(--fill-color);\n",
              "    animation:\n",
              "      spin 1s steps(1) infinite;\n",
              "  }\n",
              "\n",
              "  @keyframes spin {\n",
              "    0% {\n",
              "      border-color: transparent;\n",
              "      border-bottom-color: var(--fill-color);\n",
              "      border-left-color: var(--fill-color);\n",
              "    }\n",
              "    20% {\n",
              "      border-color: transparent;\n",
              "      border-left-color: var(--fill-color);\n",
              "      border-top-color: var(--fill-color);\n",
              "    }\n",
              "    30% {\n",
              "      border-color: transparent;\n",
              "      border-left-color: var(--fill-color);\n",
              "      border-top-color: var(--fill-color);\n",
              "      border-right-color: var(--fill-color);\n",
              "    }\n",
              "    40% {\n",
              "      border-color: transparent;\n",
              "      border-right-color: var(--fill-color);\n",
              "      border-top-color: var(--fill-color);\n",
              "    }\n",
              "    60% {\n",
              "      border-color: transparent;\n",
              "      border-right-color: var(--fill-color);\n",
              "    }\n",
              "    80% {\n",
              "      border-color: transparent;\n",
              "      border-right-color: var(--fill-color);\n",
              "      border-bottom-color: var(--fill-color);\n",
              "    }\n",
              "    90% {\n",
              "      border-color: transparent;\n",
              "      border-bottom-color: var(--fill-color);\n",
              "    }\n",
              "  }\n",
              "</style>\n",
              "\n",
              "  <script>\n",
              "    async function quickchart(key) {\n",
              "      const quickchartButtonEl =\n",
              "        document.querySelector('#' + key + ' button');\n",
              "      quickchartButtonEl.disabled = true;  // To prevent multiple clicks.\n",
              "      quickchartButtonEl.classList.add('colab-df-spinner');\n",
              "      try {\n",
              "        const charts = await google.colab.kernel.invokeFunction(\n",
              "            'suggestCharts', [key], {});\n",
              "      } catch (error) {\n",
              "        console.error('Error during call to suggestCharts:', error);\n",
              "      }\n",
              "      quickchartButtonEl.classList.remove('colab-df-spinner');\n",
              "      quickchartButtonEl.classList.add('colab-df-quickchart-complete');\n",
              "    }\n",
              "    (() => {\n",
              "      let quickchartButtonEl =\n",
              "        document.querySelector('#df-9d3444d4-0c12-4a8f-af11-fad92857357f button');\n",
              "      quickchartButtonEl.style.display =\n",
              "        google.colab.kernel.accessAllowed ? 'block' : 'none';\n",
              "    })();\n",
              "  </script>\n",
              "</div>\n",
              "    </div>\n",
              "  </div>\n"
            ],
            "text/plain": [
              "      isAlive\n",
              "S.No         \n",
              "1558        0\n",
              "1559        0\n",
              "1560        0\n",
              "1561        0\n",
              "1562        0\n",
              "...       ...\n",
              "1942        0\n",
              "1943        0\n",
              "1944        0\n",
              "1945        0\n",
              "1946        0\n",
              "\n",
              "[389 rows x 1 columns]"
            ]
          },
          "execution_count": 10,
          "metadata": {},
          "output_type": "execute_result"
        }
      ],
      "source": [
        "submission"
      ]
    },
    {
      "cell_type": "markdown",
      "metadata": {
        "id": "pCt9b7ih12If"
      },
      "source": [
        "Как сохранить измененный Pandas DataFrame в csv файл:"
      ]
    },
    {
      "cell_type": "code",
      "execution_count": null,
      "metadata": {
        "id": "FdCgUj7Z1Oty"
      },
      "outputs": [],
      "source": [
        "submission.to_csv(\"/content/new_submission.csv\", index=False)"
      ]
    }
  ],
  "metadata": {
    "colab": {
      "collapsed_sections": [
        "GW9X4s8qWm98",
        "6EDY2PuxXkJr"
      ],
      "provenance": []
    },
    "kernelspec": {
      "display_name": ".venv",
      "language": "python",
      "name": "python3"
    },
    "language_info": {
      "codemirror_mode": {
        "name": "ipython",
        "version": 3
      },
      "file_extension": ".py",
      "mimetype": "text/x-python",
      "name": "python",
      "nbconvert_exporter": "python",
      "pygments_lexer": "ipython3",
      "version": "3.10.12"
    }
  },
  "nbformat": 4,
  "nbformat_minor": 0
}
