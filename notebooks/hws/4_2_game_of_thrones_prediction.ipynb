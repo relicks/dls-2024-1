{
  "cells": [
    {
      "cell_type": "markdown",
      "metadata": {
        "id": "pgFYFftQKxY5"
      },
      "source": [
        "# Домашнее задание. Библиотека sklearn и классификация с помощью KNN"
      ]
    },
    {
      "cell_type": "markdown",
      "metadata": {
        "id": "cgiYn3hkWAAA"
      },
      "source": [
        "## Описание домашнего задания"
      ]
    },
    {
      "cell_type": "markdown",
      "metadata": {
        "id": "IZE9r4BEQb6E"
      },
      "source": [
        "В данном задании вы будете работать с датасетом о персонажах из вселенной Игры Престолов [A Wiki of Ice and Fire](http://awoiaf.westeros.org/). Вам предстоит предсказать, кто из персонажей умрет, а кто останется вживых.\n",
        "\n"
      ]
    },
    {
      "cell_type": "markdown",
      "metadata": {
        "id": "CMY39BOZwoL0"
      },
      "source": [
        "Описание данных:\n",
        "\n",
        "* **name**: Имя персонажа\n",
        "\n",
        "* **Title**: Социальный статус или знатность\n",
        "\n",
        "* **House**: Дом, к которому принадлежит персонаж\n",
        "\n",
        "* **Culture**: Социальная группа, к которой принадлежит персонаж\n",
        "\n",
        "* **book1/2/3/4/5**: Появление персонажа в книге\n",
        "\n",
        "* **Is noble**: Знатность персонажа, основанное на титуле\n",
        "\n",
        "* **Age**: Отсчет времени: 305 AC\n",
        "\n",
        "* **male**: Мужчина или женщина\n",
        "\n",
        "* **dateOfBirth**: дата рождения\n",
        "\n",
        "* **DateoFdeath**: дата смерти\n",
        "\n",
        "* **Spouse**: Имя супруги\\а персонажа\n",
        "\n",
        "* **Father**: Имя отца персонажа\n",
        "\n",
        "* **Mother**: Имя матери персонажа\n",
        "\n",
        "* **Heir**: Имя наследника персонажа\n",
        "\n",
        "* **Is married**: Represents whether the character is married\n",
        "\n",
        "* **Is spouse alive**: Represents whether character's spouse is alive\n",
        "\n",
        "* **Is mother alive:** Жива ли мать персонажа\n",
        "\n",
        "* **Is heir alive:** Жив ли наследник персонажа\n",
        "\n",
        "* **Is father alive:** Указывает, жив ли отец персонажа\n",
        "\n",
        "* **Number dead relations:** Количество умерших персонажей, с которыми персонаж связан\n",
        "\n",
        "* **Popularity score:** Количество внутренних входящих и исходящих ссылок на страницу персонажей в вики http://awoiaf.westeros.org\n",
        "\n",
        "Целевая переменная:\n",
        "* **isAlive**: жив ли персонаж в книге"
      ]
    },
    {
      "cell_type": "markdown",
      "metadata": {
        "id": "jGHHzuxLbaQ5"
      },
      "source": [
        "Оценивание:\n",
        "\n",
        "Баллы считаются следующим образом:\n",
        "\n",
        "1) $1.00 \\geqslant score \\geqslant 0.84$ --- 5 баллов\n",
        "\n",
        "2) $0.84 > score \\geqslant 0.77$ --- 4 балла\n",
        "\n",
        "3) $0.77 > score \\geqslant 0.70$ --- 3 балла\n",
        "\n",
        "4) $0.70 > score \\geqslant 0.65$ --- 2 балла\n",
        "\n",
        "5) $0.65 > score \\geqslant 0.6$ --- 1 балл\n",
        "\n",
        "6) $0.60 > score$ --- 0 баллов"
      ]
    },
    {
      "cell_type": "markdown",
      "metadata": {
        "id": "U75ajNjcWHCN"
      },
      "source": [
        "## Часть 1. Анализ и предобработка данных"
      ]
    },
    {
      "cell_type": "markdown",
      "metadata": {
        "id": "Uv-Z_6a9Ww4O"
      },
      "source": [
        "Здесь вам необходимо сделать все шаги, которые обсуждались в первой части семинара.\n",
        "* Предобработка данных\n",
        "  * Обработка пропущенных данных\n",
        "  * Создание новых признаков\n",
        "  * Удаление ненужных столбцов\n",
        "* Анализ данных\n",
        "  * Анализ целевой переменной\n",
        "  * Анализ признаков\n",
        "  * Анализ влияния признаков на целевую переменную\n",
        "* Подготовка данных для обучения модели"
      ]
    },
    {
      "cell_type": "markdown",
      "metadata": {
        "id": "VVY44eemxqAT"
      },
      "source": [
        "Загружаем датасет"
      ]
    },
    {
      "cell_type": "code",
      "execution_count": 1,
      "metadata": {
        "id": "ajMi-8vUxsog"
      },
      "outputs": [],
      "source": [
        "# !gdown 1ANEFC_GKeJm4GCx1Xd202gkAgqK2Bm4S # test dataset\n",
        "# !gdown 1oSX7B5YhS6vQseTsQZYryu44HxSq6ZWV # train dataset"
      ]
    },
    {
      "cell_type": "markdown",
      "metadata": {
        "id": "ON8TMTBTWa_E"
      },
      "source": [
        "**Задание 1.1.** Импортируйте библиотеки pandas, matplotlib, seaborn"
      ]
    },
    {
      "cell_type": "code",
      "execution_count": 2,
      "metadata": {
        "id": "QO08nAt6mO7E"
      },
      "outputs": [],
      "source": [
        "import numpy as np\n",
        "import pandas as pd\n",
        "import seaborn as sns\n",
        "from matplotlib import pyplot as plt\n",
        "from numpy.typing import ArrayLike, NDArray"
      ]
    },
    {
      "cell_type": "markdown",
      "metadata": {
        "id": "M-1ZcYjohU4W"
      },
      "source": [
        "**Задание 1.2.** Загрузите датасет в Pandas DataFrame при помощи функции `read_csv`. Вместо дефолтных наименований строк `0,1,...`, при помощи параметра `index_col`, сделайте значения колонки `S.No` наименованиями строк:"
      ]
    },
    {
      "cell_type": "code",
      "execution_count": 3,
      "metadata": {},
      "outputs": [],
      "source": [
        "DATA_PATH = \"https://raw.githubusercontent.com/relicks/dls-2024-1/refs/heads/main/data/hw_4_2/\""
      ]
    },
    {
      "cell_type": "code",
      "execution_count": 4,
      "metadata": {
        "id": "v0HRU0trQLmS"
      },
      "outputs": [],
      "source": [
        "data = pd.read_csv(DATA_PATH + \"game_of_thrones_train.csv\", index_col=\"S.No\")"
      ]
    },
    {
      "cell_type": "code",
      "execution_count": 5,
      "metadata": {},
      "outputs": [
        {
          "data": {
            "text/html": [
              "<div>\n",
              "<style scoped>\n",
              "    .dataframe tbody tr th:only-of-type {\n",
              "        vertical-align: middle;\n",
              "    }\n",
              "\n",
              "    .dataframe tbody tr th {\n",
              "        vertical-align: top;\n",
              "    }\n",
              "\n",
              "    .dataframe thead th {\n",
              "        text-align: right;\n",
              "    }\n",
              "</style>\n",
              "<table border=\"1\" class=\"dataframe\">\n",
              "  <thead>\n",
              "    <tr style=\"text-align: right;\">\n",
              "      <th></th>\n",
              "      <th>name</th>\n",
              "      <th>title</th>\n",
              "      <th>male</th>\n",
              "      <th>culture</th>\n",
              "      <th>dateOfBirth</th>\n",
              "      <th>DateoFdeath</th>\n",
              "      <th>mother</th>\n",
              "      <th>father</th>\n",
              "      <th>heir</th>\n",
              "      <th>house</th>\n",
              "      <th>...</th>\n",
              "      <th>isAliveMother</th>\n",
              "      <th>isAliveFather</th>\n",
              "      <th>isAliveHeir</th>\n",
              "      <th>isAliveSpouse</th>\n",
              "      <th>isMarried</th>\n",
              "      <th>isNoble</th>\n",
              "      <th>age</th>\n",
              "      <th>numDeadRelations</th>\n",
              "      <th>popularity</th>\n",
              "      <th>isAlive</th>\n",
              "    </tr>\n",
              "    <tr>\n",
              "      <th>S.No</th>\n",
              "      <th></th>\n",
              "      <th></th>\n",
              "      <th></th>\n",
              "      <th></th>\n",
              "      <th></th>\n",
              "      <th></th>\n",
              "      <th></th>\n",
              "      <th></th>\n",
              "      <th></th>\n",
              "      <th></th>\n",
              "      <th></th>\n",
              "      <th></th>\n",
              "      <th></th>\n",
              "      <th></th>\n",
              "      <th></th>\n",
              "      <th></th>\n",
              "      <th></th>\n",
              "      <th></th>\n",
              "      <th></th>\n",
              "      <th></th>\n",
              "      <th></th>\n",
              "    </tr>\n",
              "  </thead>\n",
              "  <tbody>\n",
              "    <tr>\n",
              "      <th>1</th>\n",
              "      <td>Viserys II Targaryen</td>\n",
              "      <td>NaN</td>\n",
              "      <td>1</td>\n",
              "      <td>NaN</td>\n",
              "      <td>NaN</td>\n",
              "      <td>NaN</td>\n",
              "      <td>Rhaenyra Targaryen</td>\n",
              "      <td>Daemon Targaryen</td>\n",
              "      <td>Aegon IV Targaryen</td>\n",
              "      <td>NaN</td>\n",
              "      <td>...</td>\n",
              "      <td>1.0</td>\n",
              "      <td>0.0</td>\n",
              "      <td>0.0</td>\n",
              "      <td>NaN</td>\n",
              "      <td>0</td>\n",
              "      <td>0</td>\n",
              "      <td>NaN</td>\n",
              "      <td>11</td>\n",
              "      <td>0.605351</td>\n",
              "      <td>0</td>\n",
              "    </tr>\n",
              "    <tr>\n",
              "      <th>2</th>\n",
              "      <td>Walder Frey</td>\n",
              "      <td>Lord of the Crossing</td>\n",
              "      <td>1</td>\n",
              "      <td>Rivermen</td>\n",
              "      <td>208.0</td>\n",
              "      <td>NaN</td>\n",
              "      <td>NaN</td>\n",
              "      <td>NaN</td>\n",
              "      <td>NaN</td>\n",
              "      <td>House Frey</td>\n",
              "      <td>...</td>\n",
              "      <td>NaN</td>\n",
              "      <td>NaN</td>\n",
              "      <td>NaN</td>\n",
              "      <td>1.0</td>\n",
              "      <td>1</td>\n",
              "      <td>1</td>\n",
              "      <td>97.0</td>\n",
              "      <td>1</td>\n",
              "      <td>0.896321</td>\n",
              "      <td>1</td>\n",
              "    </tr>\n",
              "    <tr>\n",
              "      <th>3</th>\n",
              "      <td>Addison Hill</td>\n",
              "      <td>Ser</td>\n",
              "      <td>1</td>\n",
              "      <td>NaN</td>\n",
              "      <td>NaN</td>\n",
              "      <td>NaN</td>\n",
              "      <td>NaN</td>\n",
              "      <td>NaN</td>\n",
              "      <td>NaN</td>\n",
              "      <td>House Swyft</td>\n",
              "      <td>...</td>\n",
              "      <td>NaN</td>\n",
              "      <td>NaN</td>\n",
              "      <td>NaN</td>\n",
              "      <td>NaN</td>\n",
              "      <td>0</td>\n",
              "      <td>1</td>\n",
              "      <td>NaN</td>\n",
              "      <td>0</td>\n",
              "      <td>0.267559</td>\n",
              "      <td>1</td>\n",
              "    </tr>\n",
              "  </tbody>\n",
              "</table>\n",
              "<p>3 rows × 26 columns</p>\n",
              "</div>"
            ],
            "text/plain": [
              "                      name                 title  male   culture  dateOfBirth  \\\n",
              "S.No                                                                            \n",
              "1     Viserys II Targaryen                   NaN     1       NaN          NaN   \n",
              "2              Walder Frey  Lord of the Crossing     1  Rivermen        208.0   \n",
              "3             Addison Hill                   Ser     1       NaN          NaN   \n",
              "\n",
              "      DateoFdeath              mother            father                heir  \\\n",
              "S.No                                                                          \n",
              "1             NaN  Rhaenyra Targaryen  Daemon Targaryen  Aegon IV Targaryen   \n",
              "2             NaN                 NaN               NaN                 NaN   \n",
              "3             NaN                 NaN               NaN                 NaN   \n",
              "\n",
              "            house  ... isAliveMother  isAliveFather  isAliveHeir  \\\n",
              "S.No               ...                                             \n",
              "1             NaN  ...           1.0            0.0          0.0   \n",
              "2      House Frey  ...           NaN            NaN          NaN   \n",
              "3     House Swyft  ...           NaN            NaN          NaN   \n",
              "\n",
              "      isAliveSpouse  isMarried  isNoble   age  numDeadRelations  popularity  \\\n",
              "S.No                                                                          \n",
              "1               NaN          0        0   NaN                11    0.605351   \n",
              "2               1.0          1        1  97.0                 1    0.896321   \n",
              "3               NaN          0        1   NaN                 0    0.267559   \n",
              "\n",
              "      isAlive  \n",
              "S.No           \n",
              "1           0  \n",
              "2           1  \n",
              "3           1  \n",
              "\n",
              "[3 rows x 26 columns]"
            ]
          },
          "execution_count": 5,
          "metadata": {},
          "output_type": "execute_result"
        }
      ],
      "source": [
        "data.head(3)"
      ]
    },
    {
      "cell_type": "markdown",
      "metadata": {
        "id": "R_LA4J4fjBdY"
      },
      "source": [
        "**Задание 1.3.** Предобработка (очистка) данных.\n",
        "\n",
        "Проанализируйте, если в колонках NaN значения. Если есть, примите решение, как вы их будете обрабатывать. Вы можете либо удалить их, либо заполнить каким нибудь значением (например, медианой или модой)."
      ]
    },
    {
      "cell_type": "code",
      "execution_count": 6,
      "metadata": {},
      "outputs": [
        {
          "name": "stdout",
          "output_type": "stream",
          "text": [
            "<class 'pandas.core.frame.DataFrame'>\n",
            "Index: 1557 entries, 1 to 1557\n",
            "Data columns (total 26 columns):\n",
            " #   Column            Non-Null Count  Dtype  \n",
            "---  ------            --------------  -----  \n",
            " 0   name              1557 non-null   object \n",
            " 1   title             717 non-null    object \n",
            " 2   male              1557 non-null   int64  \n",
            " 3   culture           488 non-null    object \n",
            " 4   dateOfBirth       279 non-null    float64\n",
            " 5   DateoFdeath       307 non-null    float64\n",
            " 6   mother            18 non-null     object \n",
            " 7   father            22 non-null     object \n",
            " 8   heir              21 non-null     object \n",
            " 9   house             1176 non-null   object \n",
            " 10  spouse            200 non-null    object \n",
            " 11  book1             1557 non-null   int64  \n",
            " 12  book2             1557 non-null   int64  \n",
            " 13  book3             1557 non-null   int64  \n",
            " 14  book4             1557 non-null   int64  \n",
            " 15  book5             1557 non-null   int64  \n",
            " 16  isAliveMother     18 non-null     float64\n",
            " 17  isAliveFather     22 non-null     float64\n",
            " 18  isAliveHeir       21 non-null     float64\n",
            " 19  isAliveSpouse     200 non-null    float64\n",
            " 20  isMarried         1557 non-null   int64  \n",
            " 21  isNoble           1557 non-null   int64  \n",
            " 22  age               279 non-null    float64\n",
            " 23  numDeadRelations  1557 non-null   int64  \n",
            " 24  popularity        1557 non-null   float64\n",
            " 25  isAlive           1557 non-null   int64  \n",
            "dtypes: float64(8), int64(10), object(8)\n",
            "memory usage: 328.4+ KB\n"
          ]
        }
      ],
      "source": [
        "data.info()"
      ]
    },
    {
      "cell_type": "code",
      "execution_count": 7,
      "metadata": {
        "id": "1Tv0scrImXTM"
      },
      "outputs": [
        {
          "data": {
            "text/plain": [
              "mother              1539\n",
              "isAliveMother       1539\n",
              "isAliveHeir         1536\n",
              "heir                1536\n",
              "isAliveFather       1535\n",
              "father              1535\n",
              "isAliveSpouse       1357\n",
              "spouse              1357\n",
              "dateOfBirth         1278\n",
              "age                 1278\n",
              "DateoFdeath         1250\n",
              "culture             1069\n",
              "title                840\n",
              "house                381\n",
              "isNoble                0\n",
              "isMarried              0\n",
              "numDeadRelations       0\n",
              "popularity             0\n",
              "name                   0\n",
              "book3                  0\n",
              "book5                  0\n",
              "book4                  0\n",
              "book2                  0\n",
              "book1                  0\n",
              "male                   0\n",
              "isAlive                0\n",
              "dtype: int64"
            ]
          },
          "execution_count": 7,
          "metadata": {},
          "output_type": "execute_result"
        }
      ],
      "source": [
        "data.isna().sum().sort_values(ascending=False)"
      ]
    },
    {
      "cell_type": "markdown",
      "metadata": {},
      "source": [
        "> Оставим только те признаки, у которых количество пропусков меньше 50%. `name` можно также удалить, так как его предиктивная способность сомнительна."
      ]
    },
    {
      "cell_type": "code",
      "execution_count": 8,
      "metadata": {},
      "outputs": [],
      "source": [
        "sel_feats = [\n",
        "    \"book1\",\n",
        "    \"book2\",\n",
        "    \"book3\",\n",
        "    \"book4\",\n",
        "    \"book5\",\n",
        "    \"house\",\n",
        "    \"isMarried\",\n",
        "    \"isNoble\",\n",
        "    \"male\",\n",
        "    \"numDeadRelations\",\n",
        "    \"popularity\",\n",
        "    \"isAlive\",\n",
        "]"
      ]
    },
    {
      "cell_type": "code",
      "execution_count": 9,
      "metadata": {},
      "outputs": [
        {
          "data": {
            "text/html": [
              "<div>\n",
              "<style scoped>\n",
              "    .dataframe tbody tr th:only-of-type {\n",
              "        vertical-align: middle;\n",
              "    }\n",
              "\n",
              "    .dataframe tbody tr th {\n",
              "        vertical-align: top;\n",
              "    }\n",
              "\n",
              "    .dataframe thead th {\n",
              "        text-align: right;\n",
              "    }\n",
              "</style>\n",
              "<table border=\"1\" class=\"dataframe\">\n",
              "  <thead>\n",
              "    <tr style=\"text-align: right;\">\n",
              "      <th></th>\n",
              "      <th>book1</th>\n",
              "      <th>book2</th>\n",
              "      <th>book3</th>\n",
              "      <th>book4</th>\n",
              "      <th>book5</th>\n",
              "      <th>house</th>\n",
              "      <th>isMarried</th>\n",
              "      <th>isNoble</th>\n",
              "      <th>male</th>\n",
              "      <th>numDeadRelations</th>\n",
              "      <th>popularity</th>\n",
              "      <th>isAlive</th>\n",
              "    </tr>\n",
              "    <tr>\n",
              "      <th>S.No</th>\n",
              "      <th></th>\n",
              "      <th></th>\n",
              "      <th></th>\n",
              "      <th></th>\n",
              "      <th></th>\n",
              "      <th></th>\n",
              "      <th></th>\n",
              "      <th></th>\n",
              "      <th></th>\n",
              "      <th></th>\n",
              "      <th></th>\n",
              "      <th></th>\n",
              "    </tr>\n",
              "  </thead>\n",
              "  <tbody>\n",
              "    <tr>\n",
              "      <th>1</th>\n",
              "      <td>0</td>\n",
              "      <td>0</td>\n",
              "      <td>0</td>\n",
              "      <td>0</td>\n",
              "      <td>0</td>\n",
              "      <td>NaN</td>\n",
              "      <td>0</td>\n",
              "      <td>0</td>\n",
              "      <td>1</td>\n",
              "      <td>11</td>\n",
              "      <td>0.605351</td>\n",
              "      <td>0</td>\n",
              "    </tr>\n",
              "    <tr>\n",
              "      <th>2</th>\n",
              "      <td>1</td>\n",
              "      <td>1</td>\n",
              "      <td>1</td>\n",
              "      <td>1</td>\n",
              "      <td>1</td>\n",
              "      <td>House Frey</td>\n",
              "      <td>1</td>\n",
              "      <td>1</td>\n",
              "      <td>1</td>\n",
              "      <td>1</td>\n",
              "      <td>0.896321</td>\n",
              "      <td>1</td>\n",
              "    </tr>\n",
              "    <tr>\n",
              "      <th>3</th>\n",
              "      <td>0</td>\n",
              "      <td>0</td>\n",
              "      <td>0</td>\n",
              "      <td>1</td>\n",
              "      <td>0</td>\n",
              "      <td>House Swyft</td>\n",
              "      <td>0</td>\n",
              "      <td>1</td>\n",
              "      <td>1</td>\n",
              "      <td>0</td>\n",
              "      <td>0.267559</td>\n",
              "      <td>1</td>\n",
              "    </tr>\n",
              "    <tr>\n",
              "      <th>4</th>\n",
              "      <td>0</td>\n",
              "      <td>0</td>\n",
              "      <td>0</td>\n",
              "      <td>0</td>\n",
              "      <td>0</td>\n",
              "      <td>House Arryn</td>\n",
              "      <td>1</td>\n",
              "      <td>1</td>\n",
              "      <td>0</td>\n",
              "      <td>0</td>\n",
              "      <td>0.183946</td>\n",
              "      <td>0</td>\n",
              "    </tr>\n",
              "    <tr>\n",
              "      <th>5</th>\n",
              "      <td>0</td>\n",
              "      <td>0</td>\n",
              "      <td>0</td>\n",
              "      <td>1</td>\n",
              "      <td>0</td>\n",
              "      <td>House Santagar</td>\n",
              "      <td>1</td>\n",
              "      <td>1</td>\n",
              "      <td>0</td>\n",
              "      <td>0</td>\n",
              "      <td>0.043478</td>\n",
              "      <td>1</td>\n",
              "    </tr>\n",
              "  </tbody>\n",
              "</table>\n",
              "</div>"
            ],
            "text/plain": [
              "      book1  book2  book3  book4  book5           house  isMarried  isNoble  \\\n",
              "S.No                                                                          \n",
              "1         0      0      0      0      0             NaN          0        0   \n",
              "2         1      1      1      1      1      House Frey          1        1   \n",
              "3         0      0      0      1      0     House Swyft          0        1   \n",
              "4         0      0      0      0      0     House Arryn          1        1   \n",
              "5         0      0      0      1      0  House Santagar          1        1   \n",
              "\n",
              "      male  numDeadRelations  popularity  isAlive  \n",
              "S.No                                               \n",
              "1        1                11    0.605351        0  \n",
              "2        1                 1    0.896321        1  \n",
              "3        1                 0    0.267559        1  \n",
              "4        0                 0    0.183946        0  \n",
              "5        0                 0    0.043478        1  "
            ]
          },
          "execution_count": 9,
          "metadata": {},
          "output_type": "execute_result"
        }
      ],
      "source": [
        "data.loc[:, sel_feats].head()"
      ]
    },
    {
      "cell_type": "markdown",
      "metadata": {
        "id": "wgnKotTkjdOh"
      },
      "source": [
        "**Задание 1.4.** Создайте новые признаки.\n",
        "* Создайте признак isPopular. У вас есть в таблице признак popularity score, поставьте какой то порог, например, 0.5, и пусть те персонажи, у которых popularity score меньше 0.5, непопулярны, т.е. isPopular = 0. Если же выше 0.5, тогда пусть isPopular=1.\n",
        "* Создайте признак boolDeadRelations. Давайте упростим признак numDeadRelations, и просто поделим людей на тех, у кого были хоть какие то отношения с мертвыми персонажами, т.е. numDeadRelations > 0, и те, у которых не было, т.е. numDeadRelations = 0.\n",
        "* Упростите признак culture, объединив схожие названия в один.\n"
      ]
    },
    {
      "cell_type": "code",
      "execution_count": 10,
      "metadata": {},
      "outputs": [],
      "source": [
        "dataset = data.loc[:, sel_feats].assign(\n",
        "    isPopular=data.loc[:, \"popularity\"].map(lambda val: val > 0.5),\n",
        "    boolDeadRelations=data.loc[:, \"numDeadRelations\"].map(lambda val: val > 0),\n",
        ")"
      ]
    },
    {
      "cell_type": "code",
      "execution_count": 11,
      "metadata": {},
      "outputs": [
        {
          "data": {
            "text/html": [
              "<div>\n",
              "<style scoped>\n",
              "    .dataframe tbody tr th:only-of-type {\n",
              "        vertical-align: middle;\n",
              "    }\n",
              "\n",
              "    .dataframe tbody tr th {\n",
              "        vertical-align: top;\n",
              "    }\n",
              "\n",
              "    .dataframe thead th {\n",
              "        text-align: right;\n",
              "    }\n",
              "</style>\n",
              "<table border=\"1\" class=\"dataframe\">\n",
              "  <thead>\n",
              "    <tr style=\"text-align: right;\">\n",
              "      <th></th>\n",
              "      <th>book1</th>\n",
              "      <th>book2</th>\n",
              "      <th>book3</th>\n",
              "      <th>book4</th>\n",
              "      <th>book5</th>\n",
              "      <th>house</th>\n",
              "      <th>isMarried</th>\n",
              "      <th>isNoble</th>\n",
              "      <th>male</th>\n",
              "      <th>numDeadRelations</th>\n",
              "      <th>popularity</th>\n",
              "      <th>isAlive</th>\n",
              "      <th>isPopular</th>\n",
              "      <th>boolDeadRelations</th>\n",
              "    </tr>\n",
              "    <tr>\n",
              "      <th>S.No</th>\n",
              "      <th></th>\n",
              "      <th></th>\n",
              "      <th></th>\n",
              "      <th></th>\n",
              "      <th></th>\n",
              "      <th></th>\n",
              "      <th></th>\n",
              "      <th></th>\n",
              "      <th></th>\n",
              "      <th></th>\n",
              "      <th></th>\n",
              "      <th></th>\n",
              "      <th></th>\n",
              "      <th></th>\n",
              "    </tr>\n",
              "  </thead>\n",
              "  <tbody>\n",
              "    <tr>\n",
              "      <th>1</th>\n",
              "      <td>0</td>\n",
              "      <td>0</td>\n",
              "      <td>0</td>\n",
              "      <td>0</td>\n",
              "      <td>0</td>\n",
              "      <td>NaN</td>\n",
              "      <td>0</td>\n",
              "      <td>0</td>\n",
              "      <td>1</td>\n",
              "      <td>11</td>\n",
              "      <td>0.605351</td>\n",
              "      <td>0</td>\n",
              "      <td>True</td>\n",
              "      <td>True</td>\n",
              "    </tr>\n",
              "    <tr>\n",
              "      <th>2</th>\n",
              "      <td>1</td>\n",
              "      <td>1</td>\n",
              "      <td>1</td>\n",
              "      <td>1</td>\n",
              "      <td>1</td>\n",
              "      <td>House Frey</td>\n",
              "      <td>1</td>\n",
              "      <td>1</td>\n",
              "      <td>1</td>\n",
              "      <td>1</td>\n",
              "      <td>0.896321</td>\n",
              "      <td>1</td>\n",
              "      <td>True</td>\n",
              "      <td>True</td>\n",
              "    </tr>\n",
              "    <tr>\n",
              "      <th>3</th>\n",
              "      <td>0</td>\n",
              "      <td>0</td>\n",
              "      <td>0</td>\n",
              "      <td>1</td>\n",
              "      <td>0</td>\n",
              "      <td>House Swyft</td>\n",
              "      <td>0</td>\n",
              "      <td>1</td>\n",
              "      <td>1</td>\n",
              "      <td>0</td>\n",
              "      <td>0.267559</td>\n",
              "      <td>1</td>\n",
              "      <td>False</td>\n",
              "      <td>False</td>\n",
              "    </tr>\n",
              "    <tr>\n",
              "      <th>4</th>\n",
              "      <td>0</td>\n",
              "      <td>0</td>\n",
              "      <td>0</td>\n",
              "      <td>0</td>\n",
              "      <td>0</td>\n",
              "      <td>House Arryn</td>\n",
              "      <td>1</td>\n",
              "      <td>1</td>\n",
              "      <td>0</td>\n",
              "      <td>0</td>\n",
              "      <td>0.183946</td>\n",
              "      <td>0</td>\n",
              "      <td>False</td>\n",
              "      <td>False</td>\n",
              "    </tr>\n",
              "    <tr>\n",
              "      <th>5</th>\n",
              "      <td>0</td>\n",
              "      <td>0</td>\n",
              "      <td>0</td>\n",
              "      <td>1</td>\n",
              "      <td>0</td>\n",
              "      <td>House Santagar</td>\n",
              "      <td>1</td>\n",
              "      <td>1</td>\n",
              "      <td>0</td>\n",
              "      <td>0</td>\n",
              "      <td>0.043478</td>\n",
              "      <td>1</td>\n",
              "      <td>False</td>\n",
              "      <td>False</td>\n",
              "    </tr>\n",
              "  </tbody>\n",
              "</table>\n",
              "</div>"
            ],
            "text/plain": [
              "      book1  book2  book3  book4  book5           house  isMarried  isNoble  \\\n",
              "S.No                                                                          \n",
              "1         0      0      0      0      0             NaN          0        0   \n",
              "2         1      1      1      1      1      House Frey          1        1   \n",
              "3         0      0      0      1      0     House Swyft          0        1   \n",
              "4         0      0      0      0      0     House Arryn          1        1   \n",
              "5         0      0      0      1      0  House Santagar          1        1   \n",
              "\n",
              "      male  numDeadRelations  popularity  isAlive  isPopular  \\\n",
              "S.No                                                           \n",
              "1        1                11    0.605351        0       True   \n",
              "2        1                 1    0.896321        1       True   \n",
              "3        1                 0    0.267559        1      False   \n",
              "4        0                 0    0.183946        0      False   \n",
              "5        0                 0    0.043478        1      False   \n",
              "\n",
              "      boolDeadRelations  \n",
              "S.No                     \n",
              "1                  True  \n",
              "2                  True  \n",
              "3                 False  \n",
              "4                 False  \n",
              "5                 False  "
            ]
          },
          "execution_count": 11,
          "metadata": {},
          "output_type": "execute_result"
        }
      ],
      "source": [
        "dataset.head()"
      ]
    },
    {
      "cell_type": "code",
      "execution_count": 12,
      "metadata": {
        "id": "bTKTcPAddBFw"
      },
      "outputs": [],
      "source": [
        "# Подсказка\n",
        "cult = {\n",
        "    \"Summer Islands\": [\"summer islands\", \"summer islander\", \"summer isles\"],\n",
        "    \"Ghiscari\": [\"ghiscari\", \"ghiscaricari\", \"ghis\"],\n",
        "    \"Asshai\": [\"asshai'i\", \"asshai\"],\n",
        "    \"Lysene\": [\"lysene\", \"lyseni\"],\n",
        "    \"Andal\": [\"andal\", \"andals\"],\n",
        "    \"Braavosi\": [\"braavosi\", \"braavos\"],\n",
        "    \"Dornish\": [\"dornishmen\", \"dorne\", \"dornish\"],\n",
        "    \"Myrish\": [\"myr\", \"myrish\", \"myrmen\"],\n",
        "    \"Westermen\": [\"westermen\", \"westerman\", \"westerlands\"],\n",
        "    \"Westerosi\": [\"westeros\", \"westerosi\"],\n",
        "    \"Stormlander\": [\"stormlands\", \"stormlander\"],\n",
        "    \"Norvoshi\": [\"norvos\", \"norvoshi\"],\n",
        "    \"Northmen\": [\"the north\", \"northmen\"],\n",
        "    \"Free Folk\": [\"wildling\", \"first men\", \"free folk\"],\n",
        "    \"Qartheen\": [\"qartheen\", \"qarth\"],\n",
        "    \"Reach\": [\"the reach\", \"reach\", \"reachmen\"],\n",
        "}"
      ]
    },
    {
      "cell_type": "markdown",
      "metadata": {
        "id": "tygLTUAkkAHU"
      },
      "source": [
        "**Задание 1.5.** Проанализируйте, какие столбцы являются существенными и влияют на предсказание, а какие нет. Удалите ненужные столбцы по вашему мнению."
      ]
    },
    {
      "cell_type": "code",
      "execution_count": 13,
      "metadata": {
        "id": "gDret9EFgo_8"
      },
      "outputs": [],
      "source": [
        "# data.drop(columns=[...], inplace = True)"
      ]
    },
    {
      "cell_type": "code",
      "execution_count": 14,
      "metadata": {},
      "outputs": [
        {
          "data": {
            "text/html": [
              "<div>\n",
              "<style scoped>\n",
              "    .dataframe tbody tr th:only-of-type {\n",
              "        vertical-align: middle;\n",
              "    }\n",
              "\n",
              "    .dataframe tbody tr th {\n",
              "        vertical-align: top;\n",
              "    }\n",
              "\n",
              "    .dataframe thead th {\n",
              "        text-align: right;\n",
              "    }\n",
              "</style>\n",
              "<table border=\"1\" class=\"dataframe\">\n",
              "  <thead>\n",
              "    <tr style=\"text-align: right;\">\n",
              "      <th></th>\n",
              "      <th>book1</th>\n",
              "      <th>book2</th>\n",
              "      <th>book3</th>\n",
              "      <th>book4</th>\n",
              "      <th>book5</th>\n",
              "      <th>isMarried</th>\n",
              "      <th>isNoble</th>\n",
              "      <th>male</th>\n",
              "      <th>numDeadRelations</th>\n",
              "      <th>popularity</th>\n",
              "      <th>isPopular</th>\n",
              "      <th>boolDeadRelations</th>\n",
              "    </tr>\n",
              "  </thead>\n",
              "  <tbody>\n",
              "    <tr>\n",
              "      <th>book1</th>\n",
              "      <td>1.000000</td>\n",
              "      <td>0.278116</td>\n",
              "      <td>0.145458</td>\n",
              "      <td>-0.009461</td>\n",
              "      <td>0.180542</td>\n",
              "      <td>0.018072</td>\n",
              "      <td>0.041593</td>\n",
              "      <td>0.050526</td>\n",
              "      <td>0.082526</td>\n",
              "      <td>0.186818</td>\n",
              "      <td>0.074789</td>\n",
              "      <td>0.139291</td>\n",
              "    </tr>\n",
              "    <tr>\n",
              "      <th>book2</th>\n",
              "      <td>0.278116</td>\n",
              "      <td>1.000000</td>\n",
              "      <td>0.380968</td>\n",
              "      <td>0.102247</td>\n",
              "      <td>0.135720</td>\n",
              "      <td>0.153332</td>\n",
              "      <td>-0.033216</td>\n",
              "      <td>0.024079</td>\n",
              "      <td>-0.004477</td>\n",
              "      <td>0.150816</td>\n",
              "      <td>0.001636</td>\n",
              "      <td>0.055850</td>\n",
              "    </tr>\n",
              "    <tr>\n",
              "      <th>book3</th>\n",
              "      <td>0.145458</td>\n",
              "      <td>0.380968</td>\n",
              "      <td>1.000000</td>\n",
              "      <td>0.329153</td>\n",
              "      <td>0.226547</td>\n",
              "      <td>0.165407</td>\n",
              "      <td>0.007279</td>\n",
              "      <td>-0.008100</td>\n",
              "      <td>-0.025633</td>\n",
              "      <td>0.140993</td>\n",
              "      <td>-0.026356</td>\n",
              "      <td>0.032889</td>\n",
              "    </tr>\n",
              "    <tr>\n",
              "      <th>book4</th>\n",
              "      <td>-0.009461</td>\n",
              "      <td>0.102247</td>\n",
              "      <td>0.329153</td>\n",
              "      <td>1.000000</td>\n",
              "      <td>0.302338</td>\n",
              "      <td>0.141145</td>\n",
              "      <td>0.047394</td>\n",
              "      <td>-0.101674</td>\n",
              "      <td>-0.072370</td>\n",
              "      <td>0.038810</td>\n",
              "      <td>-0.061401</td>\n",
              "      <td>-0.024038</td>\n",
              "    </tr>\n",
              "    <tr>\n",
              "      <th>book5</th>\n",
              "      <td>0.180542</td>\n",
              "      <td>0.135720</td>\n",
              "      <td>0.226547</td>\n",
              "      <td>0.302338</td>\n",
              "      <td>1.000000</td>\n",
              "      <td>0.065210</td>\n",
              "      <td>0.069338</td>\n",
              "      <td>0.023022</td>\n",
              "      <td>0.032609</td>\n",
              "      <td>0.089715</td>\n",
              "      <td>0.000907</td>\n",
              "      <td>0.094381</td>\n",
              "    </tr>\n",
              "    <tr>\n",
              "      <th>isMarried</th>\n",
              "      <td>0.018072</td>\n",
              "      <td>0.153332</td>\n",
              "      <td>0.165407</td>\n",
              "      <td>0.141145</td>\n",
              "      <td>0.065210</td>\n",
              "      <td>1.000000</td>\n",
              "      <td>0.132037</td>\n",
              "      <td>-0.094385</td>\n",
              "      <td>0.133491</td>\n",
              "      <td>0.241898</td>\n",
              "      <td>0.022525</td>\n",
              "      <td>0.197150</td>\n",
              "    </tr>\n",
              "    <tr>\n",
              "      <th>isNoble</th>\n",
              "      <td>0.041593</td>\n",
              "      <td>-0.033216</td>\n",
              "      <td>0.007279</td>\n",
              "      <td>0.047394</td>\n",
              "      <td>0.069338</td>\n",
              "      <td>0.132037</td>\n",
              "      <td>1.000000</td>\n",
              "      <td>0.133807</td>\n",
              "      <td>0.024066</td>\n",
              "      <td>0.059233</td>\n",
              "      <td>-0.038279</td>\n",
              "      <td>0.054631</td>\n",
              "    </tr>\n",
              "    <tr>\n",
              "      <th>male</th>\n",
              "      <td>0.050526</td>\n",
              "      <td>0.024079</td>\n",
              "      <td>-0.008100</td>\n",
              "      <td>-0.101674</td>\n",
              "      <td>0.023022</td>\n",
              "      <td>-0.094385</td>\n",
              "      <td>0.133807</td>\n",
              "      <td>1.000000</td>\n",
              "      <td>0.027506</td>\n",
              "      <td>0.113342</td>\n",
              "      <td>0.080518</td>\n",
              "      <td>0.039540</td>\n",
              "    </tr>\n",
              "    <tr>\n",
              "      <th>numDeadRelations</th>\n",
              "      <td>0.082526</td>\n",
              "      <td>-0.004477</td>\n",
              "      <td>-0.025633</td>\n",
              "      <td>-0.072370</td>\n",
              "      <td>0.032609</td>\n",
              "      <td>0.133491</td>\n",
              "      <td>0.024066</td>\n",
              "      <td>0.027506</td>\n",
              "      <td>1.000000</td>\n",
              "      <td>0.613759</td>\n",
              "      <td>0.626712</td>\n",
              "      <td>0.781579</td>\n",
              "    </tr>\n",
              "    <tr>\n",
              "      <th>popularity</th>\n",
              "      <td>0.186818</td>\n",
              "      <td>0.150816</td>\n",
              "      <td>0.140993</td>\n",
              "      <td>0.038810</td>\n",
              "      <td>0.089715</td>\n",
              "      <td>0.241898</td>\n",
              "      <td>0.059233</td>\n",
              "      <td>0.113342</td>\n",
              "      <td>0.613759</td>\n",
              "      <td>1.000000</td>\n",
              "      <td>0.820775</td>\n",
              "      <td>0.586013</td>\n",
              "    </tr>\n",
              "    <tr>\n",
              "      <th>isPopular</th>\n",
              "      <td>0.074789</td>\n",
              "      <td>0.001636</td>\n",
              "      <td>-0.026356</td>\n",
              "      <td>-0.061401</td>\n",
              "      <td>0.000907</td>\n",
              "      <td>0.022525</td>\n",
              "      <td>-0.038279</td>\n",
              "      <td>0.080518</td>\n",
              "      <td>0.626712</td>\n",
              "      <td>0.820775</td>\n",
              "      <td>1.000000</td>\n",
              "      <td>0.545175</td>\n",
              "    </tr>\n",
              "    <tr>\n",
              "      <th>boolDeadRelations</th>\n",
              "      <td>0.139291</td>\n",
              "      <td>0.055850</td>\n",
              "      <td>0.032889</td>\n",
              "      <td>-0.024038</td>\n",
              "      <td>0.094381</td>\n",
              "      <td>0.197150</td>\n",
              "      <td>0.054631</td>\n",
              "      <td>0.039540</td>\n",
              "      <td>0.781579</td>\n",
              "      <td>0.586013</td>\n",
              "      <td>0.545175</td>\n",
              "      <td>1.000000</td>\n",
              "    </tr>\n",
              "  </tbody>\n",
              "</table>\n",
              "</div>"
            ],
            "text/plain": [
              "                      book1     book2     book3     book4     book5  \\\n",
              "book1              1.000000  0.278116  0.145458 -0.009461  0.180542   \n",
              "book2              0.278116  1.000000  0.380968  0.102247  0.135720   \n",
              "book3              0.145458  0.380968  1.000000  0.329153  0.226547   \n",
              "book4             -0.009461  0.102247  0.329153  1.000000  0.302338   \n",
              "book5              0.180542  0.135720  0.226547  0.302338  1.000000   \n",
              "isMarried          0.018072  0.153332  0.165407  0.141145  0.065210   \n",
              "isNoble            0.041593 -0.033216  0.007279  0.047394  0.069338   \n",
              "male               0.050526  0.024079 -0.008100 -0.101674  0.023022   \n",
              "numDeadRelations   0.082526 -0.004477 -0.025633 -0.072370  0.032609   \n",
              "popularity         0.186818  0.150816  0.140993  0.038810  0.089715   \n",
              "isPopular          0.074789  0.001636 -0.026356 -0.061401  0.000907   \n",
              "boolDeadRelations  0.139291  0.055850  0.032889 -0.024038  0.094381   \n",
              "\n",
              "                   isMarried   isNoble      male  numDeadRelations  \\\n",
              "book1               0.018072  0.041593  0.050526          0.082526   \n",
              "book2               0.153332 -0.033216  0.024079         -0.004477   \n",
              "book3               0.165407  0.007279 -0.008100         -0.025633   \n",
              "book4               0.141145  0.047394 -0.101674         -0.072370   \n",
              "book5               0.065210  0.069338  0.023022          0.032609   \n",
              "isMarried           1.000000  0.132037 -0.094385          0.133491   \n",
              "isNoble             0.132037  1.000000  0.133807          0.024066   \n",
              "male               -0.094385  0.133807  1.000000          0.027506   \n",
              "numDeadRelations    0.133491  0.024066  0.027506          1.000000   \n",
              "popularity          0.241898  0.059233  0.113342          0.613759   \n",
              "isPopular           0.022525 -0.038279  0.080518          0.626712   \n",
              "boolDeadRelations   0.197150  0.054631  0.039540          0.781579   \n",
              "\n",
              "                   popularity  isPopular  boolDeadRelations  \n",
              "book1                0.186818   0.074789           0.139291  \n",
              "book2                0.150816   0.001636           0.055850  \n",
              "book3                0.140993  -0.026356           0.032889  \n",
              "book4                0.038810  -0.061401          -0.024038  \n",
              "book5                0.089715   0.000907           0.094381  \n",
              "isMarried            0.241898   0.022525           0.197150  \n",
              "isNoble              0.059233  -0.038279           0.054631  \n",
              "male                 0.113342   0.080518           0.039540  \n",
              "numDeadRelations     0.613759   0.626712           0.781579  \n",
              "popularity           1.000000   0.820775           0.586013  \n",
              "isPopular            0.820775   1.000000           0.545175  \n",
              "boolDeadRelations    0.586013   0.545175           1.000000  "
            ]
          },
          "execution_count": 14,
          "metadata": {},
          "output_type": "execute_result"
        }
      ],
      "source": [
        "dataset.drop([\"house\", \"isAlive\"], axis=1).corr()"
      ]
    },
    {
      "cell_type": "code",
      "execution_count": 15,
      "metadata": {},
      "outputs": [
        {
          "data": {
            "text/plain": [
              "<Axes: >"
            ]
          },
          "execution_count": 15,
          "metadata": {},
          "output_type": "execute_result"
        },
        {
          "data": {
            "image/png": "[encoded data removed]",
            "text/plain": [
              "<Figure size 640x480 with 2 Axes>"
            ]
          },
          "metadata": {},
          "output_type": "display_data"
        }
      ],
      "source": [
        "sns.heatmap(dataset.drop([\"house\", \"isAlive\"], axis=1).corr())"
      ]
    },
    {
      "cell_type": "code",
      "execution_count": 23,
      "metadata": {},
      "outputs": [],
      "source": [
        "from numpy.typing import ArrayLike, NDArray\n",
        "from sklearn.ensemble import RandomForestClassifier\n",
        "import statsmodels.api as sm"
      ]
    },
    {
      "cell_type": "code",
      "execution_count": 35,
      "metadata": {},
      "outputs": [],
      "source": [
        "def feature_importance_forest(\n",
        "    X: ArrayLike, y: ArrayLike, feature_names\n",
        ") -> tuple[pd.Series, NDArray[np.floating]]:\n",
        "    forest = RandomForestClassifier(random_state=0)\n",
        "    forest.fit(X, y)\n",
        "\n",
        "    importances = forest.feature_importances_\n",
        "    forest_importances = pd.Series(importances, index=feature_names)\n",
        "    std = np.std([tree.feature_importances_ for tree in forest.estimators_], axis=0)\n",
        "\n",
        "    return forest_importances, std\n",
        "\n",
        "\n",
        "def ols_summary(dataset):\n",
        "    X = dataset.drop([\"house\", \"isAlive\"], axis=1)\n",
        "    y = dataset.loc[:, \"isAlive\"]\n",
        "\n",
        "    # Convert boolean columns to integers\n",
        "    X[\"isPopular\"] = X[\"isPopular\"].astype(int)\n",
        "    X[\"boolDeadRelations\"] = X[\"boolDeadRelations\"].astype(int)\n",
        "\n",
        "    ols = sm.OLS(y, sm.add_constant(X))\n",
        "    result = ols.fit()\n",
        "    return result.summary()"
      ]
    },
    {
      "cell_type": "code",
      "execution_count": 36,
      "metadata": {},
      "outputs": [],
      "source": [
        "X = dataset.drop([\"house\", \"isAlive\"], axis=1)\n",
        "y = dataset.loc[:, \"isAlive\"]"
      ]
    },
    {
      "cell_type": "code",
      "execution_count": 37,
      "metadata": {},
      "outputs": [
        {
          "data": {
            "text/html": [
              "<table class=\"simpletable\">\n",
              "<caption>OLS Regression Results</caption>\n",
              "<tr>\n",
              "  <th>Dep. Variable:</th>         <td>isAlive</td>     <th>  R-squared:         </th> <td>   0.162</td>\n",
              "</tr>\n",
              "<tr>\n",
              "  <th>Model:</th>                   <td>OLS</td>       <th>  Adj. R-squared:    </th> <td>   0.156</td>\n",
              "</tr>\n",
              "<tr>\n",
              "  <th>Method:</th>             <td>Least Squares</td>  <th>  F-statistic:       </th> <td>   24.93</td>\n",
              "</tr>\n",
              "<tr>\n",
              "  <th>Date:</th>             <td>Sun, 29 Sep 2024</td> <th>  Prob (F-statistic):</th> <td>1.14e-51</td>\n",
              "</tr>\n",
              "<tr>\n",
              "  <th>Time:</th>                 <td>13:46:52</td>     <th>  Log-Likelihood:    </th> <td> -703.23</td>\n",
              "</tr>\n",
              "<tr>\n",
              "  <th>No. Observations:</th>      <td>  1557</td>      <th>  AIC:               </th> <td>   1432.</td>\n",
              "</tr>\n",
              "<tr>\n",
              "  <th>Df Residuals:</th>          <td>  1544</td>      <th>  BIC:               </th> <td>   1502.</td>\n",
              "</tr>\n",
              "<tr>\n",
              "  <th>Df Model:</th>              <td>    12</td>      <th>                     </th>     <td> </td>   \n",
              "</tr>\n",
              "<tr>\n",
              "  <th>Covariance Type:</th>      <td>nonrobust</td>    <th>                     </th>     <td> </td>   \n",
              "</tr>\n",
              "</table>\n",
              "<table class=\"simpletable\">\n",
              "<tr>\n",
              "          <td></td>             <th>coef</th>     <th>std err</th>      <th>t</th>      <th>P>|t|</th>  <th>[0.025</th>    <th>0.975]</th>  \n",
              "</tr>\n",
              "<tr>\n",
              "  <th>const</th>             <td>    0.7757</td> <td>    0.022</td> <td>   35.871</td> <td> 0.000</td> <td>    0.733</td> <td>    0.818</td>\n",
              "</tr>\n",
              "<tr>\n",
              "  <th>book1</th>             <td>   -0.0558</td> <td>    0.030</td> <td>   -1.847</td> <td> 0.065</td> <td>   -0.115</td> <td>    0.003</td>\n",
              "</tr>\n",
              "<tr>\n",
              "  <th>book2</th>             <td>   -0.0193</td> <td>    0.023</td> <td>   -0.825</td> <td> 0.409</td> <td>   -0.065</td> <td>    0.027</td>\n",
              "</tr>\n",
              "<tr>\n",
              "  <th>book3</th>             <td>   -0.0197</td> <td>    0.023</td> <td>   -0.864</td> <td> 0.388</td> <td>   -0.064</td> <td>    0.025</td>\n",
              "</tr>\n",
              "<tr>\n",
              "  <th>book4</th>             <td>    0.2535</td> <td>    0.022</td> <td>   11.643</td> <td> 0.000</td> <td>    0.211</td> <td>    0.296</td>\n",
              "</tr>\n",
              "<tr>\n",
              "  <th>book5</th>             <td>   -0.0073</td> <td>    0.022</td> <td>   -0.328</td> <td> 0.743</td> <td>   -0.051</td> <td>    0.036</td>\n",
              "</tr>\n",
              "<tr>\n",
              "  <th>isMarried</th>         <td>   -0.0113</td> <td>    0.032</td> <td>   -0.349</td> <td> 0.727</td> <td>   -0.075</td> <td>    0.052</td>\n",
              "</tr>\n",
              "<tr>\n",
              "  <th>isNoble</th>           <td>   -0.0262</td> <td>    0.020</td> <td>   -1.300</td> <td> 0.194</td> <td>   -0.066</td> <td>    0.013</td>\n",
              "</tr>\n",
              "<tr>\n",
              "  <th>male</th>              <td>   -0.0800</td> <td>    0.020</td> <td>   -3.928</td> <td> 0.000</td> <td>   -0.120</td> <td>   -0.040</td>\n",
              "</tr>\n",
              "<tr>\n",
              "  <th>numDeadRelations</th>  <td>   -0.0485</td> <td>    0.015</td> <td>   -3.186</td> <td> 0.001</td> <td>   -0.078</td> <td>   -0.019</td>\n",
              "</tr>\n",
              "<tr>\n",
              "  <th>popularity</th>        <td>   -0.8978</td> <td>    0.167</td> <td>   -5.367</td> <td> 0.000</td> <td>   -1.226</td> <td>   -0.570</td>\n",
              "</tr>\n",
              "<tr>\n",
              "  <th>isPopular</th>         <td>    0.6847</td> <td>    0.149</td> <td>    4.607</td> <td> 0.000</td> <td>    0.393</td> <td>    0.976</td>\n",
              "</tr>\n",
              "<tr>\n",
              "  <th>boolDeadRelations</th> <td>   -0.0329</td> <td>    0.078</td> <td>   -0.421</td> <td> 0.674</td> <td>   -0.186</td> <td>    0.121</td>\n",
              "</tr>\n",
              "</table>\n",
              "<table class=\"simpletable\">\n",
              "<tr>\n",
              "  <th>Omnibus:</th>       <td>213.147</td> <th>  Durbin-Watson:     </th> <td>   1.875</td>\n",
              "</tr>\n",
              "<tr>\n",
              "  <th>Prob(Omnibus):</th> <td> 0.000</td>  <th>  Jarque-Bera (JB):  </th> <td> 310.086</td>\n",
              "</tr>\n",
              "<tr>\n",
              "  <th>Skew:</th>          <td>-1.093</td>  <th>  Prob(JB):          </th> <td>4.63e-68</td>\n",
              "</tr>\n",
              "<tr>\n",
              "  <th>Kurtosis:</th>      <td> 3.072</td>  <th>  Cond. No.          </th> <td>    35.0</td>\n",
              "</tr>\n",
              "</table><br/><br/>Notes:<br/>[1] Standard Errors assume that the covariance matrix of the errors is correctly specified."
            ],
            "text/latex": [
              "\\begin{center}\n",
              "\\begin{tabular}{lclc}\n",
              "\\toprule\n",
              "\\textbf{Dep. Variable:}    &     isAlive      & \\textbf{  R-squared:         } &     0.162   \\\\\n",
              "\\textbf{Model:}            &       OLS        & \\textbf{  Adj. R-squared:    } &     0.156   \\\\\n",
              "\\textbf{Method:}           &  Least Squares   & \\textbf{  F-statistic:       } &     24.93   \\\\\n",
              "\\textbf{Date:}             & Sun, 29 Sep 2024 & \\textbf{  Prob (F-statistic):} &  1.14e-51   \\\\\n",
              "\\textbf{Time:}             &     13:46:52     & \\textbf{  Log-Likelihood:    } &   -703.23   \\\\\n",
              "\\textbf{No. Observations:} &        1557      & \\textbf{  AIC:               } &     1432.   \\\\\n",
              "\\textbf{Df Residuals:}     &        1544      & \\textbf{  BIC:               } &     1502.   \\\\\n",
              "\\textbf{Df Model:}         &          12      & \\textbf{                     } &             \\\\\n",
              "\\textbf{Covariance Type:}  &    nonrobust     & \\textbf{                     } &             \\\\\n",
              "\\bottomrule\n",
              "\\end{tabular}\n",
              "\\begin{tabular}{lcccccc}\n",
              "                           & \\textbf{coef} & \\textbf{std err} & \\textbf{t} & \\textbf{P$> |$t$|$} & \\textbf{[0.025} & \\textbf{0.975]}  \\\\\n",
              "\\midrule\n",
              "\\textbf{const}             &       0.7757  &        0.022     &    35.871  &         0.000        &        0.733    &        0.818     \\\\\n",
              "\\textbf{book1}             &      -0.0558  &        0.030     &    -1.847  &         0.065        &       -0.115    &        0.003     \\\\\n",
              "\\textbf{book2}             &      -0.0193  &        0.023     &    -0.825  &         0.409        &       -0.065    &        0.027     \\\\\n",
              "\\textbf{book3}             &      -0.0197  &        0.023     &    -0.864  &         0.388        &       -0.064    &        0.025     \\\\\n",
              "\\textbf{book4}             &       0.2535  &        0.022     &    11.643  &         0.000        &        0.211    &        0.296     \\\\\n",
              "\\textbf{book5}             &      -0.0073  &        0.022     &    -0.328  &         0.743        &       -0.051    &        0.036     \\\\\n",
              "\\textbf{isMarried}         &      -0.0113  &        0.032     &    -0.349  &         0.727        &       -0.075    &        0.052     \\\\\n",
              "\\textbf{isNoble}           &      -0.0262  &        0.020     &    -1.300  &         0.194        &       -0.066    &        0.013     \\\\\n",
              "\\textbf{male}              &      -0.0800  &        0.020     &    -3.928  &         0.000        &       -0.120    &       -0.040     \\\\\n",
              "\\textbf{numDeadRelations}  &      -0.0485  &        0.015     &    -3.186  &         0.001        &       -0.078    &       -0.019     \\\\\n",
              "\\textbf{popularity}        &      -0.8978  &        0.167     &    -5.367  &         0.000        &       -1.226    &       -0.570     \\\\\n",
              "\\textbf{isPopular}         &       0.6847  &        0.149     &     4.607  &         0.000        &        0.393    &        0.976     \\\\\n",
              "\\textbf{boolDeadRelations} &      -0.0329  &        0.078     &    -0.421  &         0.674        &       -0.186    &        0.121     \\\\\n",
              "\\bottomrule\n",
              "\\end{tabular}\n",
              "\\begin{tabular}{lclc}\n",
              "\\textbf{Omnibus:}       & 213.147 & \\textbf{  Durbin-Watson:     } &    1.875  \\\\\n",
              "\\textbf{Prob(Omnibus):} &   0.000 & \\textbf{  Jarque-Bera (JB):  } &  310.086  \\\\\n",
              "\\textbf{Skew:}          &  -1.093 & \\textbf{  Prob(JB):          } & 4.63e-68  \\\\\n",
              "\\textbf{Kurtosis:}      &   3.072 & \\textbf{  Cond. No.          } &     35.0  \\\\\n",
              "\\bottomrule\n",
              "\\end{tabular}\n",
              "%\\caption{OLS Regression Results}\n",
              "\\end{center}\n",
              "\n",
              "Notes: \\newline\n",
              " [1] Standard Errors assume that the covariance matrix of the errors is correctly specified."
            ],
            "text/plain": [
              "<class 'statsmodels.iolib.summary.Summary'>\n",
              "\"\"\"\n",
              "                            OLS Regression Results                            \n",
              "==============================================================================\n",
              "Dep. Variable:                isAlive   R-squared:                       0.162\n",
              "Model:                            OLS   Adj. R-squared:                  0.156\n",
              "Method:                 Least Squares   F-statistic:                     24.93\n",
              "Date:                Sun, 29 Sep 2024   Prob (F-statistic):           1.14e-51\n",
              "Time:                        13:46:52   Log-Likelihood:                -703.23\n",
              "No. Observations:                1557   AIC:                             1432.\n",
              "Df Residuals:                    1544   BIC:                             1502.\n",
              "Df Model:                          12                                         \n",
              "Covariance Type:            nonrobust                                         \n",
              "=====================================================================================\n",
              "                        coef    std err          t      P>|t|      [0.025      0.975]\n",
              "-------------------------------------------------------------------------------------\n",
              "const                 0.7757      0.022     35.871      0.000       0.733       0.818\n",
              "book1                -0.0558      0.030     -1.847      0.065      -0.115       0.003\n",
              "book2                -0.0193      0.023     -0.825      0.409      -0.065       0.027\n",
              "book3                -0.0197      0.023     -0.864      0.388      -0.064       0.025\n",
              "book4                 0.2535      0.022     11.643      0.000       0.211       0.296\n",
              "book5                -0.0073      0.022     -0.328      0.743      -0.051       0.036\n",
              "isMarried            -0.0113      0.032     -0.349      0.727      -0.075       0.052\n",
              "isNoble              -0.0262      0.020     -1.300      0.194      -0.066       0.013\n",
              "male                 -0.0800      0.020     -3.928      0.000      -0.120      -0.040\n",
              "numDeadRelations     -0.0485      0.015     -3.186      0.001      -0.078      -0.019\n",
              "popularity           -0.8978      0.167     -5.367      0.000      -1.226      -0.570\n",
              "isPopular             0.6847      0.149      4.607      0.000       0.393       0.976\n",
              "boolDeadRelations    -0.0329      0.078     -0.421      0.674      -0.186       0.121\n",
              "==============================================================================\n",
              "Omnibus:                      213.147   Durbin-Watson:                   1.875\n",
              "Prob(Omnibus):                  0.000   Jarque-Bera (JB):              310.086\n",
              "Skew:                          -1.093   Prob(JB):                     4.63e-68\n",
              "Kurtosis:                       3.072   Cond. No.                         35.0\n",
              "==============================================================================\n",
              "\n",
              "Notes:\n",
              "[1] Standard Errors assume that the covariance matrix of the errors is correctly specified.\n",
              "\"\"\""
            ]
          },
          "execution_count": 37,
          "metadata": {},
          "output_type": "execute_result"
        }
      ],
      "source": [
        "ols_summary(dataset)"
      ]
    },
    {
      "cell_type": "markdown",
      "metadata": {},
      "source": [
        "> Из t-статистики из отчёта выше видно, что некоторые признаки имеют низкую предсказательную важность.\n",
        ">> - `book2`\n",
        ">> - `book3`\n",
        ">> - `book5`\n",
        ">> - `isMarried`\n",
        ">> - `isNoble`\n",
        ">> - `boolDeadRelations`"
      ]
    },
    {
      "cell_type": "code",
      "execution_count": 24,
      "metadata": {},
      "outputs": [],
      "source": [
        "forest_importances, std = feature_importance_forest(X, y, X.columns)"
      ]
    },
    {
      "cell_type": "code",
      "execution_count": 19,
      "metadata": {},
      "outputs": [
        {
          "data": {
            "image/png": "[encoded data removed]",
            "text/plain": [
              "<Figure size 640x480 with 1 Axes>"
            ]
          },
          "metadata": {},
          "output_type": "display_data"
        }
      ],
      "source": [
        "fig, ax = plt.subplots()\n",
        "forest_importances.plot.bar(yerr=std, ax=ax)\n",
        "ax.set_title(\"Feature importances using MDI\")\n",
        "ax.set_ylabel(\"Mean decrease in impurity\")\n",
        "fig.tight_layout()"
      ]
    },
    {
      "cell_type": "code",
      "execution_count": 20,
      "metadata": {},
      "outputs": [],
      "source": [
        "from sklearn.inspection import permutation_importance\n",
        "\n",
        "forest = RandomForestClassifier(random_state=0)\n",
        "forest.fit(X, y)\n",
        "\n",
        "result = permutation_importance(\n",
        "    forest, X, y, n_repeats=10, random_state=42, n_jobs=2\n",
        ")\n",
        "forest_importances = pd.Series(result[\"importances_mean\"], index=X.columns)"
      ]
    },
    {
      "cell_type": "code",
      "execution_count": 21,
      "metadata": {},
      "outputs": [
        {
          "data": {
            "image/png": "[encoded data removed]",
            "text/plain": [
              "<Figure size 640x480 with 1 Axes>"
            ]
          },
          "metadata": {},
          "output_type": "display_data"
        }
      ],
      "source": [
        "fig, ax = plt.subplots()\n",
        "forest_importances.plot.bar(yerr=result[\"importances_std\"], ax=ax)\n",
        "ax.set_title(\"Feature importances using permutation on full model\")\n",
        "ax.set_ylabel(\"Mean accuracy decrease\")\n",
        "fig.tight_layout()\n",
        "plt.show()"
      ]
    },
    {
      "cell_type": "code",
      "execution_count": 22,
      "metadata": {},
      "outputs": [
        {
          "data": {
            "text/plain": [
              "Index(['book1', 'book2', 'book3', 'book4', 'book5', 'house', 'isMarried',\n",
              "       'isNoble', 'male', 'numDeadRelations', 'popularity', 'isAlive',\n",
              "       'isPopular', 'boolDeadRelations'],\n",
              "      dtype='object')"
            ]
          },
          "execution_count": 22,
          "metadata": {},
          "output_type": "execute_result"
        }
      ],
      "source": [
        "dataset.columns"
      ]
    },
    {
      "cell_type": "markdown",
      "metadata": {},
      "source": [
        "> Как видно из графика, приведённого выше, такие признаки, как `numDeadRelations`, \n",
        "> `boolDeadRelations` и `isPopular` слабо влияют на предсказательную точность.\n",
        "> Следовательно, их можно удалить."
      ]
    },
    {
      "cell_type": "markdown",
      "metadata": {},
      "source": [
        "> Тогда, выбранные признаки таковы:"
      ]
    },
    {
      "cell_type": "code",
      "execution_count": null,
      "metadata": {},
      "outputs": [],
      "source": [
        "selected_features = [\n",
        "    \"book1\",\n",
        "    \"book2\",\n",
        "    \"book3\",\n",
        "    \"book4\",\n",
        "    \"book5\",\n",
        "    \"house\",\n",
        "    \"isMarried\",\n",
        "    \"isNoble\",\n",
        "    \"male\",\n",
        "    \"popularity\",\n",
        "    \"isAlive\",\n",
        "]"
      ]
    },
    {
      "cell_type": "markdown",
      "metadata": {
        "id": "lc16QxpykMX3"
      },
      "source": [
        "**Задание 1.6.** Проанализируйте целевую переменную. Посмотрите, является ли она категориальной или количественной. Так как мы говорим о задаче классификации, проанализируйте является ли датасет сбалансированным по классам или нет."
      ]
    },
    {
      "cell_type": "code",
      "execution_count": null,
      "metadata": {
        "id": "sQRo20Bfmxlm"
      },
      "outputs": [],
      "source": []
    },
    {
      "cell_type": "markdown",
      "metadata": {
        "id": "95mWoYcsk9Pp"
      },
      "source": [
        "**Задание 1.7.** Проанализируйте признаки.\n",
        "  * Обработайте категориальные признаки и переведите их в числа. Можете выбрать любой кодировщик.\n",
        "  * Проанализируйте количественные признаки. Есть ли корреляция между признаками?"
      ]
    },
    {
      "cell_type": "code",
      "execution_count": null,
      "metadata": {
        "id": "oRvPBbyUm0Je"
      },
      "outputs": [],
      "source": [
        "# ..."
      ]
    },
    {
      "cell_type": "markdown",
      "metadata": {
        "id": "qaEaLMe0lr9G"
      },
      "source": [
        "**Задание 1.8.** Проанализируйте влияние признаков на целевую переменную."
      ]
    },
    {
      "cell_type": "code",
      "execution_count": null,
      "metadata": {
        "id": "LSqNtjWufhwh"
      },
      "outputs": [],
      "source": [
        "# ..."
      ]
    },
    {
      "cell_type": "markdown",
      "metadata": {
        "id": "1VAb2VGmilof"
      },
      "source": [
        "**Задание 1.9.** Создайте переменные `X`, которая будет хранить только значения признаков, и `y`, которая будет хранить только значения целевой переменной."
      ]
    },
    {
      "cell_type": "code",
      "execution_count": null,
      "metadata": {
        "id": "5_rg7DQfatPu"
      },
      "outputs": [],
      "source": [
        "X = # ...\n",
        "y = # ..."
      ]
    },
    {
      "cell_type": "markdown",
      "metadata": {
        "id": "l4rlYPP-iago"
      },
      "source": [
        "**Задание 1.10.** Разделите датасет на train и test часть при помощи функции `train_test_split`"
      ]
    },
    {
      "cell_type": "code",
      "execution_count": null,
      "metadata": {
        "id": "GK1X0OBPb4m-"
      },
      "outputs": [],
      "source": [
        "from sklearn.model_selection import train_test_split"
      ]
    },
    {
      "cell_type": "code",
      "execution_count": null,
      "metadata": {
        "id": "HASZhG6Pby5X"
      },
      "outputs": [],
      "source": [
        "X_train, X_test, y_train, y_test = # ..."
      ]
    },
    {
      "cell_type": "markdown",
      "metadata": {
        "id": "GW9X4s8qWm98"
      },
      "source": [
        "## Часть 2. Обучение моделей"
      ]
    },
    {
      "cell_type": "markdown",
      "metadata": {
        "id": "Tu1DFWstaOh0"
      },
      "source": [
        "В данной части домашнего задания, мы хотим научиться обучать модели для задачи классификации на наших данных."
      ]
    },
    {
      "cell_type": "markdown",
      "metadata": {
        "id": "R6924OYeaisZ"
      },
      "source": [
        "**Задание 2.1.** Импортируйте следующие модели из библиотеки `sklearn`\n",
        "* LogisticRegression\n",
        "* RandomForestClassifier\n",
        "* AdaBoostClassifier\n",
        "* GaussianProcessClassifier\n",
        "* GaussianNB\n",
        "* KNeighborsClassifier\n",
        "* SVC\n",
        "* DecisionTreeClassifier\n"
      ]
    },
    {
      "cell_type": "markdown",
      "metadata": {
        "id": "L9NEqcMacrkU"
      },
      "source": [
        "В качестве примера, импортируем модель `LogisticRegression`"
      ]
    },
    {
      "cell_type": "code",
      "execution_count": null,
      "metadata": {
        "id": "qDy9pjzmbLDB"
      },
      "outputs": [],
      "source": [
        "from sklearn.linear_model import LogisticRegression"
      ]
    },
    {
      "cell_type": "markdown",
      "metadata": {
        "id": "L7J-D3OXcx5Y"
      },
      "source": [
        "Импортируйте остальные модели из библиотеки `sklearn`. Чтобы понять как это сделать, воспользуйтесь официальный документацией `sklearn` $→$ [тык](https://scikit-learn.org/dev/user_guide.html). По ключевому названию модели, вы сможете найти необходимую информацию о том, как можно импортировать модель из библиотеки."
      ]
    },
    {
      "cell_type": "code",
      "execution_count": null,
      "metadata": {
        "id": "fWTANjK1c4Oi"
      },
      "outputs": [],
      "source": [
        "from ... import AdaBoostClassifier, RandomForestClassifier\n",
        "from ... import GaussianProcessClassifier\n",
        "from ... import GaussianNB\n",
        "from ... import KNeighborsClassifier\n",
        "from ... import SVC\n",
        "from ... import DecisionTreeClassifier"
      ]
    },
    {
      "cell_type": "markdown",
      "metadata": {
        "id": "0SffourId972"
      },
      "source": [
        "**Задание 2.2.** Обучите модель и сделайте предсказание на тестовой выборке"
      ]
    },
    {
      "cell_type": "markdown",
      "metadata": {
        "id": "Emdn45CYeMwW"
      },
      "source": [
        "В качестве примера, обучим модель `LogisticRegression` и сделаем на ней предсказания на тестовой выборке."
      ]
    },
    {
      "cell_type": "code",
      "execution_count": null,
      "metadata": {
        "id": "fsoHrG4wb8aw"
      },
      "outputs": [],
      "source": [
        "# Шаг 1. создание модели\n",
        "logistic_regression = LogisticRegression(C=1)\n",
        "\n",
        "# Шаг 2. обучение модели\n",
        "logistic_regression.fit(X_train, y_train)\n",
        "\n",
        "# Шаг 3. Предсказание на тестовых данных\n",
        "y_pred = logistic_regression.predict(X_test)"
      ]
    },
    {
      "cell_type": "markdown",
      "metadata": {
        "id": "u08T9URfeYZs"
      },
      "source": [
        "Аналогичным образом обучите остальные модели и сделайте предсказания на тестовой выборке."
      ]
    },
    {
      "cell_type": "code",
      "execution_count": null,
      "metadata": {
        "id": "Rp4yJWxXgQXA"
      },
      "outputs": [],
      "source": [
        "# Шаг 1. создание модели\n",
        "\n",
        "\n",
        "# Шаг 2. обучение модели\n",
        "\n",
        "\n",
        "# Шаг 3. Предсказание на тестовых данных\n"
      ]
    },
    {
      "cell_type": "markdown",
      "metadata": {
        "id": "6EDY2PuxXkJr"
      },
      "source": [
        "## Часть 3. Оцените качество моделей"
      ]
    },
    {
      "cell_type": "markdown",
      "metadata": {
        "id": "2fq6c3OLXonm"
      },
      "source": [
        "Вам необходимо познакомиться с метриками задачи классификации из sklearn. Оцените все модели и выберите лучшую по метрике качества Accuracy.\n",
        "\n",
        "С метриками классификации вы можете ознакомиться в [Yandex ML Book](https://education.yandex.ru/handbook/ml/article/metriki-klassifikacii-i-regressii).\n",
        "\n",
        "Для простоты в данном домашнем задании мы будем работать с самой базовой метрикой для задачи классификации - accuracy."
      ]
    },
    {
      "cell_type": "markdown",
      "metadata": {
        "id": "4e3r1qm1fJh5"
      },
      "source": [
        "**Задание 3.1.** Вам необходимо посчитать метрику для всех моделей и выбрать лучшую модель."
      ]
    },
    {
      "cell_type": "markdown",
      "metadata": {
        "id": "ZMPpyCXVX4kn"
      },
      "source": [
        "Сначала импортируем необходимую функцию из библиотеки sklearn для подсчета accuracy."
      ]
    },
    {
      "cell_type": "code",
      "execution_count": null,
      "metadata": {
        "id": "46hIpXgNaJ9Q"
      },
      "outputs": [],
      "source": [
        "from sklearn.metrics import accuracy_score"
      ]
    },
    {
      "cell_type": "markdown",
      "metadata": {
        "id": "OHbPHBmzfxpM"
      },
      "source": [
        "В качестве примера, посчитаем метрику accuracy для модели `LogisticRegression`"
      ]
    },
    {
      "cell_type": "code",
      "execution_count": null,
      "metadata": {
        "id": "NIMezW7sf7dM"
      },
      "outputs": [],
      "source": [
        "# Шаг 3. Предсказание на тестовых данных\n",
        "y_pred = logistic_regression.predict(X_test)\n",
        "\n",
        "# Шаг 4. Оценка предсказания по метрике accuracy\n",
        "accuracy = accuracy_score(y_test, y_pred)\n",
        "print(\"Accuracy : %.4f\" % accuracy)"
      ]
    },
    {
      "cell_type": "markdown",
      "metadata": {
        "id": "al5fPMVCgsag"
      },
      "source": [
        "Аналогичным образом посчитайте метрику accuracy для остальных моделей"
      ]
    },
    {
      "cell_type": "code",
      "execution_count": null,
      "metadata": {
        "id": "C2XL3UUOgzuB"
      },
      "outputs": [],
      "source": [
        "# Шаг 3. Предсказание на тестовых данных\n",
        "\n",
        "\n",
        "# Шаг 4. Оценка предсказания по метрике accuracy\n",
        "\n",
        "print(\"Accuracy : %.4f\" % accuracy)"
      ]
    },
    {
      "cell_type": "markdown",
      "metadata": {
        "id": "8PxPnhsDg2Rv"
      },
      "source": [
        "Выберите лучшую модель."
      ]
    },
    {
      "cell_type": "markdown",
      "metadata": {
        "id": "cY5PRBS-yWro"
      },
      "source": [
        "### Файл `submission.csv`"
      ]
    },
    {
      "cell_type": "markdown",
      "metadata": {
        "id": "a7h-o3dv1gvV"
      },
      "source": [
        "Вам нужно вместо значений в `submission.csv` файле в колонке `isAlive`, подставить свои предсказания и сохранить измененный файл."
      ]
    },
    {
      "cell_type": "code",
      "execution_count": null,
      "metadata": {
        "colab": {
          "base_uri": "https://localhost:8080/"
        },
        "id": "c_hZcwQm1B6U",
        "outputId": "fdaeba81-f754-44a0-c902-51ff251ba7c9"
      },
      "outputs": [
        {
          "name": "stdout",
          "output_type": "stream",
          "text": [
            "Downloading...\n",
            "From: https://drive.google.com/uc?id=1M14conWjAW2QLoyCXbHEAy8bql2f99eF\n",
            "To: /content/submission.csv\n",
            "\r  0% 0.00/2.74k [00:00<?, ?B/s]\r100% 2.74k/2.74k [00:00<00:00, 8.34MB/s]\n"
          ]
        }
      ],
      "source": [
        "!gdown 1M14conWjAW2QLoyCXbHEAy8bql2f99eF"
      ]
    },
    {
      "cell_type": "code",
      "execution_count": null,
      "metadata": {
        "id": "9ae_dGCf1Jpi"
      },
      "outputs": [],
      "source": [
        "submission = pd.read_csv(\"/content/submission.csv\", index_col='S.No')"
      ]
    },
    {
      "cell_type": "code",
      "execution_count": null,
      "metadata": {
        "id": "sqRb1Zmz8rJ4"
      },
      "outputs": [],
      "source": []
    },
    {
      "cell_type": "code",
      "execution_count": null,
      "metadata": {
        "colab": {
          "base_uri": "https://localhost:8080/",
          "height": 455
        },
        "id": "JbruP2U01N-z",
        "outputId": "d92ed68a-f3bf-488e-e420-8c565a975d5d"
      },
      "outputs": [
        {
          "data": {
            "application/vnd.google.colaboratory.intrinsic+json": {
              "summary": "{\n  \"name\": \"submission\",\n  \"rows\": 389,\n  \"fields\": [\n    {\n      \"column\": \"S.No\",\n      \"properties\": {\n        \"dtype\": \"number\",\n        \"std\": 112,\n        \"min\": 1558,\n        \"max\": 1946,\n        \"num_unique_values\": 389,\n        \"samples\": [\n          1829,\n          1604,\n          1725\n        ],\n        \"semantic_type\": \"\",\n        \"description\": \"\"\n      }\n    },\n    {\n      \"column\": \"isAlive\",\n      \"properties\": {\n        \"dtype\": \"number\",\n        \"std\": 0,\n        \"min\": 0,\n        \"max\": 0,\n        \"num_unique_values\": 1,\n        \"samples\": [\n          0\n        ],\n        \"semantic_type\": \"\",\n        \"description\": \"\"\n      }\n    }\n  ]\n}",
              "type": "dataframe",
              "variable_name": "submission"
            },
            "text/html": [
              "\n",
              "  <div id=\"df-c240c367-60a9-4aef-88cc-3f1e3f883818\" class=\"colab-df-container\">\n",
              "    <div>\n",
              "<style scoped>\n",
              "    .dataframe tbody tr th:only-of-type {\n",
              "        vertical-align: middle;\n",
              "    }\n",
              "\n",
              "    .dataframe tbody tr th {\n",
              "        vertical-align: top;\n",
              "    }\n",
              "\n",
              "    .dataframe thead th {\n",
              "        text-align: right;\n",
              "    }\n",
              "</style>\n",
              "<table border=\"1\" class=\"dataframe\">\n",
              "  <thead>\n",
              "    <tr style=\"text-align: right;\">\n",
              "      <th></th>\n",
              "      <th>isAlive</th>\n",
              "    </tr>\n",
              "    <tr>\n",
              "      <th>S.No</th>\n",
              "      <th></th>\n",
              "    </tr>\n",
              "  </thead>\n",
              "  <tbody>\n",
              "    <tr>\n",
              "      <th>1558</th>\n",
              "      <td>0</td>\n",
              "    </tr>\n",
              "    <tr>\n",
              "      <th>1559</th>\n",
              "      <td>0</td>\n",
              "    </tr>\n",
              "    <tr>\n",
              "      <th>1560</th>\n",
              "      <td>0</td>\n",
              "    </tr>\n",
              "    <tr>\n",
              "      <th>1561</th>\n",
              "      <td>0</td>\n",
              "    </tr>\n",
              "    <tr>\n",
              "      <th>1562</th>\n",
              "      <td>0</td>\n",
              "    </tr>\n",
              "    <tr>\n",
              "      <th>...</th>\n",
              "      <td>...</td>\n",
              "    </tr>\n",
              "    <tr>\n",
              "      <th>1942</th>\n",
              "      <td>0</td>\n",
              "    </tr>\n",
              "    <tr>\n",
              "      <th>1943</th>\n",
              "      <td>0</td>\n",
              "    </tr>\n",
              "    <tr>\n",
              "      <th>1944</th>\n",
              "      <td>0</td>\n",
              "    </tr>\n",
              "    <tr>\n",
              "      <th>1945</th>\n",
              "      <td>0</td>\n",
              "    </tr>\n",
              "    <tr>\n",
              "      <th>1946</th>\n",
              "      <td>0</td>\n",
              "    </tr>\n",
              "  </tbody>\n",
              "</table>\n",
              "<p>389 rows × 1 columns</p>\n",
              "</div>\n",
              "    <div class=\"colab-df-buttons\">\n",
              "\n",
              "  <div class=\"colab-df-container\">\n",
              "    <button class=\"colab-df-convert\" onclick=\"convertToInteractive('df-c240c367-60a9-4aef-88cc-3f1e3f883818')\"\n",
              "            title=\"Convert this dataframe to an interactive table.\"\n",
              "            style=\"display:none;\">\n",
              "\n",
              "  <svg xmlns=\"http://www.w3.org/2000/svg\" height=\"24px\" viewBox=\"0 -960 960 960\">\n",
              "    <path d=\"M120-120v-720h720v720H120Zm60-500h600v-160H180v160Zm220 220h160v-160H400v160Zm0 220h160v-160H400v160ZM180-400h160v-160H180v160Zm440 0h160v-160H620v160ZM180-180h160v-160H180v160Zm440 0h160v-160H620v160Z\"/>\n",
              "  </svg>\n",
              "    </button>\n",
              "\n",
              "  <style>\n",
              "    .colab-df-container {\n",
              "      display:flex;\n",
              "      gap: 12px;\n",
              "    }\n",
              "\n",
              "    .colab-df-convert {\n",
              "      background-color: #E8F0FE;\n",
              "      border: none;\n",
              "      border-radius: 50%;\n",
              "      cursor: pointer;\n",
              "      display: none;\n",
              "      fill: #1967D2;\n",
              "      height: 32px;\n",
              "      padding: 0 0 0 0;\n",
              "      width: 32px;\n",
              "    }\n",
              "\n",
              "    .colab-df-convert:hover {\n",
              "      background-color: #E2EBFA;\n",
              "      box-shadow: 0px 1px 2px rgba(60, 64, 67, 0.3), 0px 1px 3px 1px rgba(60, 64, 67, 0.15);\n",
              "      fill: #174EA6;\n",
              "    }\n",
              "\n",
              "    .colab-df-buttons div {\n",
              "      margin-bottom: 4px;\n",
              "    }\n",
              "\n",
              "    [theme=dark] .colab-df-convert {\n",
              "      background-color: #3B4455;\n",
              "      fill: #D2E3FC;\n",
              "    }\n",
              "\n",
              "    [theme=dark] .colab-df-convert:hover {\n",
              "      background-color: #434B5C;\n",
              "      box-shadow: 0px 1px 3px 1px rgba(0, 0, 0, 0.15);\n",
              "      filter: drop-shadow(0px 1px 2px rgba(0, 0, 0, 0.3));\n",
              "      fill: #FFFFFF;\n",
              "    }\n",
              "  </style>\n",
              "\n",
              "    <script>\n",
              "      const buttonEl =\n",
              "        document.querySelector('#df-c240c367-60a9-4aef-88cc-3f1e3f883818 button.colab-df-convert');\n",
              "      buttonEl.style.display =\n",
              "        google.colab.kernel.accessAllowed ? 'block' : 'none';\n",
              "\n",
              "      async function convertToInteractive(key) {\n",
              "        const element = document.querySelector('#df-c240c367-60a9-4aef-88cc-3f1e3f883818');\n",
              "        const dataTable =\n",
              "          await google.colab.kernel.invokeFunction('convertToInteractive',\n",
              "                                                    [key], {});\n",
              "        if (!dataTable) return;\n",
              "\n",
              "        const docLinkHtml = 'Like what you see? Visit the ' +\n",
              "          '<a target=\"_blank\" href=https://colab.research.google.com/notebooks/data_table.ipynb>data table notebook</a>'\n",
              "          + ' to learn more about interactive tables.';\n",
              "        element.innerHTML = '';\n",
              "        dataTable['output_type'] = 'display_data';\n",
              "        await google.colab.output.renderOutput(dataTable, element);\n",
              "        const docLink = document.createElement('div');\n",
              "        docLink.innerHTML = docLinkHtml;\n",
              "        element.appendChild(docLink);\n",
              "      }\n",
              "    </script>\n",
              "  </div>\n",
              "\n",
              "\n",
              "<div id=\"df-9d3444d4-0c12-4a8f-af11-fad92857357f\">\n",
              "  <button class=\"colab-df-quickchart\" onclick=\"quickchart('df-9d3444d4-0c12-4a8f-af11-fad92857357f')\"\n",
              "            title=\"Suggest charts\"\n",
              "            style=\"display:none;\">\n",
              "\n",
              "<svg xmlns=\"http://www.w3.org/2000/svg\" height=\"24px\"viewBox=\"0 0 24 24\"\n",
              "     width=\"24px\">\n",
              "    <g>\n",
              "        <path d=\"M19 3H5c-1.1 0-2 .9-2 2v14c0 1.1.9 2 2 2h14c1.1 0 2-.9 2-2V5c0-1.1-.9-2-2-2zM9 17H7v-7h2v7zm4 0h-2V7h2v10zm4 0h-2v-4h2v4z\"/>\n",
              "    </g>\n",
              "</svg>\n",
              "  </button>\n",
              "\n",
              "<style>\n",
              "  .colab-df-quickchart {\n",
              "      --bg-color: #E8F0FE;\n",
              "      --fill-color: #1967D2;\n",
              "      --hover-bg-color: #E2EBFA;\n",
              "      --hover-fill-color: #174EA6;\n",
              "      --disabled-fill-color: #AAA;\n",
              "      --disabled-bg-color: #DDD;\n",
              "  }\n",
              "\n",
              "  [theme=dark] .colab-df-quickchart {\n",
              "      --bg-color: #3B4455;\n",
              "      --fill-color: #D2E3FC;\n",
              "      --hover-bg-color: #434B5C;\n",
              "      --hover-fill-color: #FFFFFF;\n",
              "      --disabled-bg-color: #3B4455;\n",
              "      --disabled-fill-color: #666;\n",
              "  }\n",
              "\n",
              "  .colab-df-quickchart {\n",
              "    background-color: var(--bg-color);\n",
              "    border: none;\n",
              "    border-radius: 50%;\n",
              "    cursor: pointer;\n",
              "    display: none;\n",
              "    fill: var(--fill-color);\n",
              "    height: 32px;\n",
              "    padding: 0;\n",
              "    width: 32px;\n",
              "  }\n",
              "\n",
              "  .colab-df-quickchart:hover {\n",
              "    background-color: var(--hover-bg-color);\n",
              "    box-shadow: 0 1px 2px rgba(60, 64, 67, 0.3), 0 1px 3px 1px rgba(60, 64, 67, 0.15);\n",
              "    fill: var(--button-hover-fill-color);\n",
              "  }\n",
              "\n",
              "  .colab-df-quickchart-complete:disabled,\n",
              "  .colab-df-quickchart-complete:disabled:hover {\n",
              "    background-color: var(--disabled-bg-color);\n",
              "    fill: var(--disabled-fill-color);\n",
              "    box-shadow: none;\n",
              "  }\n",
              "\n",
              "  .colab-df-spinner {\n",
              "    border: 2px solid var(--fill-color);\n",
              "    border-color: transparent;\n",
              "    border-bottom-color: var(--fill-color);\n",
              "    animation:\n",
              "      spin 1s steps(1) infinite;\n",
              "  }\n",
              "\n",
              "  @keyframes spin {\n",
              "    0% {\n",
              "      border-color: transparent;\n",
              "      border-bottom-color: var(--fill-color);\n",
              "      border-left-color: var(--fill-color);\n",
              "    }\n",
              "    20% {\n",
              "      border-color: transparent;\n",
              "      border-left-color: var(--fill-color);\n",
              "      border-top-color: var(--fill-color);\n",
              "    }\n",
              "    30% {\n",
              "      border-color: transparent;\n",
              "      border-left-color: var(--fill-color);\n",
              "      border-top-color: var(--fill-color);\n",
              "      border-right-color: var(--fill-color);\n",
              "    }\n",
              "    40% {\n",
              "      border-color: transparent;\n",
              "      border-right-color: var(--fill-color);\n",
              "      border-top-color: var(--fill-color);\n",
              "    }\n",
              "    60% {\n",
              "      border-color: transparent;\n",
              "      border-right-color: var(--fill-color);\n",
              "    }\n",
              "    80% {\n",
              "      border-color: transparent;\n",
              "      border-right-color: var(--fill-color);\n",
              "      border-bottom-color: var(--fill-color);\n",
              "    }\n",
              "    90% {\n",
              "      border-color: transparent;\n",
              "      border-bottom-color: var(--fill-color);\n",
              "    }\n",
              "  }\n",
              "</style>\n",
              "\n",
              "  <script>\n",
              "    async function quickchart(key) {\n",
              "      const quickchartButtonEl =\n",
              "        document.querySelector('#' + key + ' button');\n",
              "      quickchartButtonEl.disabled = true;  // To prevent multiple clicks.\n",
              "      quickchartButtonEl.classList.add('colab-df-spinner');\n",
              "      try {\n",
              "        const charts = await google.colab.kernel.invokeFunction(\n",
              "            'suggestCharts', [key], {});\n",
              "      } catch (error) {\n",
              "        console.error('Error during call to suggestCharts:', error);\n",
              "      }\n",
              "      quickchartButtonEl.classList.remove('colab-df-spinner');\n",
              "      quickchartButtonEl.classList.add('colab-df-quickchart-complete');\n",
              "    }\n",
              "    (() => {\n",
              "      let quickchartButtonEl =\n",
              "        document.querySelector('#df-9d3444d4-0c12-4a8f-af11-fad92857357f button');\n",
              "      quickchartButtonEl.style.display =\n",
              "        google.colab.kernel.accessAllowed ? 'block' : 'none';\n",
              "    })();\n",
              "  </script>\n",
              "</div>\n",
              "    </div>\n",
              "  </div>\n"
            ],
            "text/plain": [
              "      isAlive\n",
              "S.No         \n",
              "1558        0\n",
              "1559        0\n",
              "1560        0\n",
              "1561        0\n",
              "1562        0\n",
              "...       ...\n",
              "1942        0\n",
              "1943        0\n",
              "1944        0\n",
              "1945        0\n",
              "1946        0\n",
              "\n",
              "[389 rows x 1 columns]"
            ]
          },
          "execution_count": 10,
          "metadata": {},
          "output_type": "execute_result"
        }
      ],
      "source": [
        "submission"
      ]
    },
    {
      "cell_type": "markdown",
      "metadata": {
        "id": "pCt9b7ih12If"
      },
      "source": [
        "Как сохранить измененный Pandas DataFrame в csv файл:"
      ]
    },
    {
      "cell_type": "code",
      "execution_count": null,
      "metadata": {
        "id": "FdCgUj7Z1Oty"
      },
      "outputs": [],
      "source": [
        "submission.to_csv(\"/content/new_submission.csv\", index=False)"
      ]
    }
  ],
  "metadata": {
    "colab": {
      "collapsed_sections": [
        "GW9X4s8qWm98",
        "6EDY2PuxXkJr"
      ],
      "provenance": []
    },
    "kernelspec": {
      "display_name": "Python 3",
      "name": "python3"
    },
    "language_info": {
      "codemirror_mode": {
        "name": "ipython",
        "version": 3
      },
      "file_extension": ".py",
      "mimetype": "text/x-python",
      "name": "python",
      "nbconvert_exporter": "python",
      "pygments_lexer": "ipython3",
      "version": "3.10.12"
    }
  },
  "nbformat": 4,
  "nbformat_minor": 0
}
